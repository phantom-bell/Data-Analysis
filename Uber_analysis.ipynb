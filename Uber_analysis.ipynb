{
 "cells": [
  {
   "cell_type": "markdown",
   "metadata": {},
   "source": [
    "## **UBER DATA ANALYSIS**"
   ]
  },
  {
   "cell_type": "code",
   "execution_count": 23,
   "metadata": {},
   "outputs": [],
   "source": [
    "# import library\n",
    "import pandas as pandas\n",
    "import numpy as numpy\n",
    "import matplotlib.pyplot as plt\n",
    "import seaborn as sns\n"
   ]
  },
  {
   "cell_type": "code",
   "execution_count": 24,
   "metadata": {},
   "outputs": [
    {
     "data": {
      "application/javascript": "\n        if (window._pyforest_update_imports_cell) { window._pyforest_update_imports_cell('import pandas as pd'); }\n    ",
      "text/plain": [
       "<IPython.core.display.Javascript object>"
      ]
     },
     "metadata": {},
     "output_type": "display_data"
    }
   ],
   "source": [
    "df=pd.read_csv(\"uber.csv\")"
   ]
  },
  {
   "cell_type": "code",
   "execution_count": 25,
   "metadata": {},
   "outputs": [
    {
     "data": {
      "text/html": [
       "<div>\n",
       "<style scoped>\n",
       "    .dataframe tbody tr th:only-of-type {\n",
       "        vertical-align: middle;\n",
       "    }\n",
       "\n",
       "    .dataframe tbody tr th {\n",
       "        vertical-align: top;\n",
       "    }\n",
       "\n",
       "    .dataframe thead th {\n",
       "        text-align: right;\n",
       "    }\n",
       "</style>\n",
       "<table border=\"1\" class=\"dataframe\">\n",
       "  <thead>\n",
       "    <tr style=\"text-align: right;\">\n",
       "      <th></th>\n",
       "      <th>Unnamed: 0</th>\n",
       "      <th>City</th>\n",
       "      <th>Product Type</th>\n",
       "      <th>Trip or Order Status</th>\n",
       "      <th>Request Time</th>\n",
       "      <th>Begin Trip Time</th>\n",
       "      <th>Begin Trip Lat</th>\n",
       "      <th>Begin Trip Lng</th>\n",
       "      <th>Dropoff Time</th>\n",
       "      <th>Dropoff Lat</th>\n",
       "      <th>Dropoff Lng</th>\n",
       "      <th>Distance (miles)</th>\n",
       "      <th>Fare Amount</th>\n",
       "      <th>Fare Currency</th>\n",
       "    </tr>\n",
       "  </thead>\n",
       "  <tbody>\n",
       "    <tr>\n",
       "      <th>0</th>\n",
       "      <td>0</td>\n",
       "      <td>458</td>\n",
       "      <td>Black</td>\n",
       "      <td>COMPLETED</td>\n",
       "      <td>2021-01-13 22:06:46 +0000 UTC</td>\n",
       "      <td>2021-01-13 22:11:10 +0000 UTC</td>\n",
       "      <td>-23.599752</td>\n",
       "      <td>-46.715954</td>\n",
       "      <td>2021-01-13 22:29:13 +0000 UTC</td>\n",
       "      <td>-23.559359</td>\n",
       "      <td>-46.666542</td>\n",
       "      <td>4.84</td>\n",
       "      <td>29.63</td>\n",
       "      <td>BRL</td>\n",
       "    </tr>\n",
       "    <tr>\n",
       "      <th>1</th>\n",
       "      <td>1</td>\n",
       "      <td>458</td>\n",
       "      <td>UberX</td>\n",
       "      <td>COMPLETED</td>\n",
       "      <td>2021-01-13 20:21:05 +0000 UTC</td>\n",
       "      <td>2021-01-13 20:27:29 +0000 UTC</td>\n",
       "      <td>-23.559298</td>\n",
       "      <td>-46.666454</td>\n",
       "      <td>2021-01-13 20:54:50 +0000 UTC</td>\n",
       "      <td>-23.599585</td>\n",
       "      <td>-46.715717</td>\n",
       "      <td>5.31</td>\n",
       "      <td>20.86</td>\n",
       "      <td>BRL</td>\n",
       "    </tr>\n",
       "    <tr>\n",
       "      <th>2</th>\n",
       "      <td>2</td>\n",
       "      <td>458</td>\n",
       "      <td>UberX</td>\n",
       "      <td>COMPLETED</td>\n",
       "      <td>2021-01-03 00:23:22 +0000 UTC</td>\n",
       "      <td>2021-01-03 00:33:00 +0000 UTC</td>\n",
       "      <td>-23.626593</td>\n",
       "      <td>-46.659410</td>\n",
       "      <td>2021-01-03 00:50:56 +0000 UTC</td>\n",
       "      <td>-23.559273</td>\n",
       "      <td>-46.666595</td>\n",
       "      <td>5.90</td>\n",
       "      <td>34.23</td>\n",
       "      <td>BRL</td>\n",
       "    </tr>\n",
       "    <tr>\n",
       "      <th>3</th>\n",
       "      <td>3</td>\n",
       "      <td>458</td>\n",
       "      <td>UberX</td>\n",
       "      <td>COMPLETED</td>\n",
       "      <td>2020-12-11 23:16:33 +0000 UTC</td>\n",
       "      <td>2020-12-11 23:27:32 +0000 UTC</td>\n",
       "      <td>-23.559410</td>\n",
       "      <td>-46.666435</td>\n",
       "      <td>2020-12-12 00:32:47 +0000 UTC</td>\n",
       "      <td>-23.425755</td>\n",
       "      <td>-46.481190</td>\n",
       "      <td>19.74</td>\n",
       "      <td>58.77</td>\n",
       "      <td>BRL</td>\n",
       "    </tr>\n",
       "    <tr>\n",
       "      <th>4</th>\n",
       "      <td>4</td>\n",
       "      <td>458</td>\n",
       "      <td>UberX</td>\n",
       "      <td>COMPLETED</td>\n",
       "      <td>2020-12-11 00:35:46 +0000 UTC</td>\n",
       "      <td>2020-12-11 00:46:46 +0000 UTC</td>\n",
       "      <td>-23.584846</td>\n",
       "      <td>-46.663590</td>\n",
       "      <td>2020-12-11 00:57:57 +0000 UTC</td>\n",
       "      <td>-23.559261</td>\n",
       "      <td>-46.666510</td>\n",
       "      <td>2.54</td>\n",
       "      <td>12.63</td>\n",
       "      <td>BRL</td>\n",
       "    </tr>\n",
       "  </tbody>\n",
       "</table>\n",
       "</div>"
      ],
      "text/plain": [
       "   Unnamed: 0  City Product Type Trip or Order Status  \\\n",
       "0           0   458        Black            COMPLETED   \n",
       "1           1   458        UberX            COMPLETED   \n",
       "2           2   458        UberX            COMPLETED   \n",
       "3           3   458        UberX            COMPLETED   \n",
       "4           4   458        UberX            COMPLETED   \n",
       "\n",
       "                    Request Time                Begin Trip Time  \\\n",
       "0  2021-01-13 22:06:46 +0000 UTC  2021-01-13 22:11:10 +0000 UTC   \n",
       "1  2021-01-13 20:21:05 +0000 UTC  2021-01-13 20:27:29 +0000 UTC   \n",
       "2  2021-01-03 00:23:22 +0000 UTC  2021-01-03 00:33:00 +0000 UTC   \n",
       "3  2020-12-11 23:16:33 +0000 UTC  2020-12-11 23:27:32 +0000 UTC   \n",
       "4  2020-12-11 00:35:46 +0000 UTC  2020-12-11 00:46:46 +0000 UTC   \n",
       "\n",
       "   Begin Trip Lat  Begin Trip Lng                   Dropoff Time  Dropoff Lat  \\\n",
       "0      -23.599752      -46.715954  2021-01-13 22:29:13 +0000 UTC   -23.559359   \n",
       "1      -23.559298      -46.666454  2021-01-13 20:54:50 +0000 UTC   -23.599585   \n",
       "2      -23.626593      -46.659410  2021-01-03 00:50:56 +0000 UTC   -23.559273   \n",
       "3      -23.559410      -46.666435  2020-12-12 00:32:47 +0000 UTC   -23.425755   \n",
       "4      -23.584846      -46.663590  2020-12-11 00:57:57 +0000 UTC   -23.559261   \n",
       "\n",
       "   Dropoff Lng  Distance (miles)  Fare Amount Fare Currency  \n",
       "0   -46.666542              4.84        29.63           BRL  \n",
       "1   -46.715717              5.31        20.86           BRL  \n",
       "2   -46.666595              5.90        34.23           BRL  \n",
       "3   -46.481190             19.74        58.77           BRL  \n",
       "4   -46.666510              2.54        12.63           BRL  "
      ]
     },
     "execution_count": 25,
     "metadata": {},
     "output_type": "execute_result"
    }
   ],
   "source": [
    "df.head()"
   ]
  },
  {
   "cell_type": "code",
   "execution_count": 26,
   "metadata": {},
   "outputs": [
    {
     "data": {
      "text/plain": [
       "Unnamed: 0               0\n",
       "City                     0\n",
       "Product Type             0\n",
       "Trip or Order Status     0\n",
       "Request Time             0\n",
       "Begin Trip Time          0\n",
       "Begin Trip Lat          26\n",
       "Begin Trip Lng          26\n",
       "Dropoff Time             0\n",
       "Dropoff Lat             26\n",
       "Dropoff Lng             26\n",
       "Distance (miles)         0\n",
       "Fare Amount              0\n",
       "Fare Currency            0\n",
       "dtype: int64"
      ]
     },
     "execution_count": 26,
     "metadata": {},
     "output_type": "execute_result"
    }
   ],
   "source": [
    "df.isna().sum()"
   ]
  },
  {
   "cell_type": "code",
   "execution_count": 27,
   "metadata": {},
   "outputs": [],
   "source": [
    "df.dropna(inplace=True,axis=0)"
   ]
  },
  {
   "cell_type": "code",
   "execution_count": 28,
   "metadata": {},
   "outputs": [
    {
     "data": {
      "text/html": [
       "<div>\n",
       "<style scoped>\n",
       "    .dataframe tbody tr th:only-of-type {\n",
       "        vertical-align: middle;\n",
       "    }\n",
       "\n",
       "    .dataframe tbody tr th {\n",
       "        vertical-align: top;\n",
       "    }\n",
       "\n",
       "    .dataframe thead th {\n",
       "        text-align: right;\n",
       "    }\n",
       "</style>\n",
       "<table border=\"1\" class=\"dataframe\">\n",
       "  <thead>\n",
       "    <tr style=\"text-align: right;\">\n",
       "      <th></th>\n",
       "      <th>Unnamed: 0</th>\n",
       "      <th>City</th>\n",
       "      <th>Begin Trip Lat</th>\n",
       "      <th>Begin Trip Lng</th>\n",
       "      <th>Dropoff Lat</th>\n",
       "      <th>Dropoff Lng</th>\n",
       "      <th>Distance (miles)</th>\n",
       "      <th>Fare Amount</th>\n",
       "    </tr>\n",
       "  </thead>\n",
       "  <tbody>\n",
       "    <tr>\n",
       "      <th>count</th>\n",
       "      <td>525.000000</td>\n",
       "      <td>525.000000</td>\n",
       "      <td>525.000000</td>\n",
       "      <td>525.000000</td>\n",
       "      <td>525.000000</td>\n",
       "      <td>525.000000</td>\n",
       "      <td>525.000000</td>\n",
       "      <td>525.000000</td>\n",
       "    </tr>\n",
       "    <tr>\n",
       "      <th>mean</th>\n",
       "      <td>276.577143</td>\n",
       "      <td>468.708571</td>\n",
       "      <td>-23.560695</td>\n",
       "      <td>-46.622412</td>\n",
       "      <td>-23.567343</td>\n",
       "      <td>-46.615599</td>\n",
       "      <td>4.271048</td>\n",
       "      <td>17.179657</td>\n",
       "    </tr>\n",
       "    <tr>\n",
       "      <th>std</th>\n",
       "      <td>162.037198</td>\n",
       "      <td>105.973949</td>\n",
       "      <td>0.069152</td>\n",
       "      <td>0.240816</td>\n",
       "      <td>0.070309</td>\n",
       "      <td>0.241447</td>\n",
       "      <td>3.729289</td>\n",
       "      <td>12.165100</td>\n",
       "    </tr>\n",
       "    <tr>\n",
       "      <th>min</th>\n",
       "      <td>0.000000</td>\n",
       "      <td>296.000000</td>\n",
       "      <td>-23.975843</td>\n",
       "      <td>-46.837136</td>\n",
       "      <td>-23.975838</td>\n",
       "      <td>-46.837120</td>\n",
       "      <td>0.000000</td>\n",
       "      <td>0.000000</td>\n",
       "    </tr>\n",
       "    <tr>\n",
       "      <th>25%</th>\n",
       "      <td>136.000000</td>\n",
       "      <td>458.000000</td>\n",
       "      <td>-23.602633</td>\n",
       "      <td>-46.666376</td>\n",
       "      <td>-23.611162</td>\n",
       "      <td>-46.666338</td>\n",
       "      <td>1.220000</td>\n",
       "      <td>7.950000</td>\n",
       "    </tr>\n",
       "    <tr>\n",
       "      <th>50%</th>\n",
       "      <td>276.000000</td>\n",
       "      <td>458.000000</td>\n",
       "      <td>-23.559450</td>\n",
       "      <td>-46.644786</td>\n",
       "      <td>-23.568158</td>\n",
       "      <td>-46.637291</td>\n",
       "      <td>3.980000</td>\n",
       "      <td>16.980000</td>\n",
       "    </tr>\n",
       "    <tr>\n",
       "      <th>75%</th>\n",
       "      <td>418.000000</td>\n",
       "      <td>458.000000</td>\n",
       "      <td>-23.503640</td>\n",
       "      <td>-46.624974</td>\n",
       "      <td>-23.507593</td>\n",
       "      <td>-46.623503</td>\n",
       "      <td>6.080000</td>\n",
       "      <td>25.020000</td>\n",
       "    </tr>\n",
       "    <tr>\n",
       "      <th>max</th>\n",
       "      <td>553.000000</td>\n",
       "      <td>1449.000000</td>\n",
       "      <td>-22.903051</td>\n",
       "      <td>-43.105089</td>\n",
       "      <td>-22.902098</td>\n",
       "      <td>-43.114359</td>\n",
       "      <td>19.740000</td>\n",
       "      <td>95.400000</td>\n",
       "    </tr>\n",
       "  </tbody>\n",
       "</table>\n",
       "</div>"
      ],
      "text/plain": [
       "       Unnamed: 0         City  Begin Trip Lat  Begin Trip Lng  Dropoff Lat  \\\n",
       "count  525.000000   525.000000      525.000000      525.000000   525.000000   \n",
       "mean   276.577143   468.708571      -23.560695      -46.622412   -23.567343   \n",
       "std    162.037198   105.973949        0.069152        0.240816     0.070309   \n",
       "min      0.000000   296.000000      -23.975843      -46.837136   -23.975838   \n",
       "25%    136.000000   458.000000      -23.602633      -46.666376   -23.611162   \n",
       "50%    276.000000   458.000000      -23.559450      -46.644786   -23.568158   \n",
       "75%    418.000000   458.000000      -23.503640      -46.624974   -23.507593   \n",
       "max    553.000000  1449.000000      -22.903051      -43.105089   -22.902098   \n",
       "\n",
       "       Dropoff Lng  Distance (miles)  Fare Amount  \n",
       "count   525.000000        525.000000   525.000000  \n",
       "mean    -46.615599          4.271048    17.179657  \n",
       "std       0.241447          3.729289    12.165100  \n",
       "min     -46.837120          0.000000     0.000000  \n",
       "25%     -46.666338          1.220000     7.950000  \n",
       "50%     -46.637291          3.980000    16.980000  \n",
       "75%     -46.623503          6.080000    25.020000  \n",
       "max     -43.114359         19.740000    95.400000  "
      ]
     },
     "execution_count": 28,
     "metadata": {},
     "output_type": "execute_result"
    }
   ],
   "source": [
    "df.describe()"
   ]
  },
  {
   "cell_type": "markdown",
   "metadata": {},
   "source": [
    "## Business Problem\n",
    "1. How many times have I traveled in the past?\n",
    "2. How many trips were completed and canceled?\n",
    "3. Where did most of the layoffs take place?\n",
    "4. What type of product is most often selected?\n",
    "5. What a measure. fare, distance, amount, and time spent on the ride?\n",
    "6. Which days of the week have the highest fare?\n",
    "7. Which is the longest / shortest and most expensive / cheapest ride?\n",
    "8. What is the average lead time before requesting a trip?"
   ]
  },
  {
   "cell_type": "code",
   "execution_count": 29,
   "metadata": {},
   "outputs": [
    {
     "data": {
      "application/javascript": "\n        if (window._pyforest_update_imports_cell) { window._pyforest_update_imports_cell('import pandas as pd'); }\n    ",
      "text/plain": [
       "<IPython.core.display.Javascript object>"
      ]
     },
     "metadata": {},
     "output_type": "display_data"
    },
    {
     "data": {
      "application/javascript": "\n        if (window._pyforest_update_imports_cell) { window._pyforest_update_imports_cell('import pandas as pd'); }\n    ",
      "text/plain": [
       "<IPython.core.display.Javascript object>"
      ]
     },
     "metadata": {},
     "output_type": "display_data"
    },
    {
     "data": {
      "application/javascript": "\n        if (window._pyforest_update_imports_cell) { window._pyforest_update_imports_cell('import pandas as pd'); }\n    ",
      "text/plain": [
       "<IPython.core.display.Javascript object>"
      ]
     },
     "metadata": {},
     "output_type": "display_data"
    }
   ],
   "source": [
    "# Function to convert features to datetime\n",
    "def date_convertion(df, cols):\n",
    "  for col in cols:\n",
    "    df[col] = df[col].apply(lambda x: x.replace(' +0000 UTC', ''))\n",
    "    df[col] = pd.to_datetime(df[col])\n",
    "  return df\n",
    "# Applying date_convertion function to date features \n",
    "df = date_convertion(df, ['Request Time', 'Begin Trip Time', 'Dropoff Time'])"
   ]
  },
  {
   "cell_type": "code",
   "execution_count": 30,
   "metadata": {},
   "outputs": [],
   "source": [
    "def extract_date_components(df):\n",
    "    df['year']=df['Request Time'].dt.year\n",
    "    df['month']=df['Request Time'].dt.month\n",
    "    df['day']=df['Request Time'].dt.day_name()\n",
    "extract_date_components(df)\n"
   ]
  },
  {
   "cell_type": "code",
   "execution_count": 31,
   "metadata": {},
   "outputs": [],
   "source": [
    "df['distance_km']=round(df['Distance (miles)']*1.60934,2)\n",
    "df['price_per_km']=round(df['Fare Amount']/df['distance_km'],2)"
   ]
  },
  {
   "cell_type": "code",
   "execution_count": 32,
   "metadata": {},
   "outputs": [
    {
     "data": {
      "text/html": [
       "<div>\n",
       "<style scoped>\n",
       "    .dataframe tbody tr th:only-of-type {\n",
       "        vertical-align: middle;\n",
       "    }\n",
       "\n",
       "    .dataframe tbody tr th {\n",
       "        vertical-align: top;\n",
       "    }\n",
       "\n",
       "    .dataframe thead th {\n",
       "        text-align: right;\n",
       "    }\n",
       "</style>\n",
       "<table border=\"1\" class=\"dataframe\">\n",
       "  <thead>\n",
       "    <tr style=\"text-align: right;\">\n",
       "      <th></th>\n",
       "      <th>Unnamed: 0</th>\n",
       "      <th>City</th>\n",
       "      <th>Product Type</th>\n",
       "      <th>Trip or Order Status</th>\n",
       "      <th>Request Time</th>\n",
       "      <th>Begin Trip Time</th>\n",
       "      <th>Begin Trip Lat</th>\n",
       "      <th>Begin Trip Lng</th>\n",
       "      <th>Dropoff Time</th>\n",
       "      <th>Dropoff Lat</th>\n",
       "      <th>Dropoff Lng</th>\n",
       "      <th>Distance (miles)</th>\n",
       "      <th>Fare Amount</th>\n",
       "      <th>Fare Currency</th>\n",
       "      <th>year</th>\n",
       "      <th>month</th>\n",
       "      <th>day</th>\n",
       "      <th>distance_km</th>\n",
       "      <th>price_per_km</th>\n",
       "    </tr>\n",
       "  </thead>\n",
       "  <tbody>\n",
       "    <tr>\n",
       "      <th>0</th>\n",
       "      <td>0</td>\n",
       "      <td>458</td>\n",
       "      <td>Black</td>\n",
       "      <td>COMPLETED</td>\n",
       "      <td>2021-01-13 22:06:46</td>\n",
       "      <td>2021-01-13 22:11:10</td>\n",
       "      <td>-23.599752</td>\n",
       "      <td>-46.715954</td>\n",
       "      <td>2021-01-13 22:29:13</td>\n",
       "      <td>-23.559359</td>\n",
       "      <td>-46.666542</td>\n",
       "      <td>4.84</td>\n",
       "      <td>29.63</td>\n",
       "      <td>BRL</td>\n",
       "      <td>2021</td>\n",
       "      <td>1</td>\n",
       "      <td>Wednesday</td>\n",
       "      <td>7.79</td>\n",
       "      <td>3.80</td>\n",
       "    </tr>\n",
       "    <tr>\n",
       "      <th>1</th>\n",
       "      <td>1</td>\n",
       "      <td>458</td>\n",
       "      <td>UberX</td>\n",
       "      <td>COMPLETED</td>\n",
       "      <td>2021-01-13 20:21:05</td>\n",
       "      <td>2021-01-13 20:27:29</td>\n",
       "      <td>-23.559298</td>\n",
       "      <td>-46.666454</td>\n",
       "      <td>2021-01-13 20:54:50</td>\n",
       "      <td>-23.599585</td>\n",
       "      <td>-46.715717</td>\n",
       "      <td>5.31</td>\n",
       "      <td>20.86</td>\n",
       "      <td>BRL</td>\n",
       "      <td>2021</td>\n",
       "      <td>1</td>\n",
       "      <td>Wednesday</td>\n",
       "      <td>8.55</td>\n",
       "      <td>2.44</td>\n",
       "    </tr>\n",
       "    <tr>\n",
       "      <th>2</th>\n",
       "      <td>2</td>\n",
       "      <td>458</td>\n",
       "      <td>UberX</td>\n",
       "      <td>COMPLETED</td>\n",
       "      <td>2021-01-03 00:23:22</td>\n",
       "      <td>2021-01-03 00:33:00</td>\n",
       "      <td>-23.626593</td>\n",
       "      <td>-46.659410</td>\n",
       "      <td>2021-01-03 00:50:56</td>\n",
       "      <td>-23.559273</td>\n",
       "      <td>-46.666595</td>\n",
       "      <td>5.90</td>\n",
       "      <td>34.23</td>\n",
       "      <td>BRL</td>\n",
       "      <td>2021</td>\n",
       "      <td>1</td>\n",
       "      <td>Sunday</td>\n",
       "      <td>9.50</td>\n",
       "      <td>3.60</td>\n",
       "    </tr>\n",
       "    <tr>\n",
       "      <th>3</th>\n",
       "      <td>3</td>\n",
       "      <td>458</td>\n",
       "      <td>UberX</td>\n",
       "      <td>COMPLETED</td>\n",
       "      <td>2020-12-11 23:16:33</td>\n",
       "      <td>2020-12-11 23:27:32</td>\n",
       "      <td>-23.559410</td>\n",
       "      <td>-46.666435</td>\n",
       "      <td>2020-12-12 00:32:47</td>\n",
       "      <td>-23.425755</td>\n",
       "      <td>-46.481190</td>\n",
       "      <td>19.74</td>\n",
       "      <td>58.77</td>\n",
       "      <td>BRL</td>\n",
       "      <td>2020</td>\n",
       "      <td>12</td>\n",
       "      <td>Friday</td>\n",
       "      <td>31.77</td>\n",
       "      <td>1.85</td>\n",
       "    </tr>\n",
       "    <tr>\n",
       "      <th>4</th>\n",
       "      <td>4</td>\n",
       "      <td>458</td>\n",
       "      <td>UberX</td>\n",
       "      <td>COMPLETED</td>\n",
       "      <td>2020-12-11 00:35:46</td>\n",
       "      <td>2020-12-11 00:46:46</td>\n",
       "      <td>-23.584846</td>\n",
       "      <td>-46.663590</td>\n",
       "      <td>2020-12-11 00:57:57</td>\n",
       "      <td>-23.559261</td>\n",
       "      <td>-46.666510</td>\n",
       "      <td>2.54</td>\n",
       "      <td>12.63</td>\n",
       "      <td>BRL</td>\n",
       "      <td>2020</td>\n",
       "      <td>12</td>\n",
       "      <td>Friday</td>\n",
       "      <td>4.09</td>\n",
       "      <td>3.09</td>\n",
       "    </tr>\n",
       "  </tbody>\n",
       "</table>\n",
       "</div>"
      ],
      "text/plain": [
       "   Unnamed: 0  City Product Type Trip or Order Status        Request Time  \\\n",
       "0           0   458        Black            COMPLETED 2021-01-13 22:06:46   \n",
       "1           1   458        UberX            COMPLETED 2021-01-13 20:21:05   \n",
       "2           2   458        UberX            COMPLETED 2021-01-03 00:23:22   \n",
       "3           3   458        UberX            COMPLETED 2020-12-11 23:16:33   \n",
       "4           4   458        UberX            COMPLETED 2020-12-11 00:35:46   \n",
       "\n",
       "      Begin Trip Time  Begin Trip Lat  Begin Trip Lng        Dropoff Time  \\\n",
       "0 2021-01-13 22:11:10      -23.599752      -46.715954 2021-01-13 22:29:13   \n",
       "1 2021-01-13 20:27:29      -23.559298      -46.666454 2021-01-13 20:54:50   \n",
       "2 2021-01-03 00:33:00      -23.626593      -46.659410 2021-01-03 00:50:56   \n",
       "3 2020-12-11 23:27:32      -23.559410      -46.666435 2020-12-12 00:32:47   \n",
       "4 2020-12-11 00:46:46      -23.584846      -46.663590 2020-12-11 00:57:57   \n",
       "\n",
       "   Dropoff Lat  Dropoff Lng  Distance (miles)  Fare Amount Fare Currency  \\\n",
       "0   -23.559359   -46.666542              4.84        29.63           BRL   \n",
       "1   -23.599585   -46.715717              5.31        20.86           BRL   \n",
       "2   -23.559273   -46.666595              5.90        34.23           BRL   \n",
       "3   -23.425755   -46.481190             19.74        58.77           BRL   \n",
       "4   -23.559261   -46.666510              2.54        12.63           BRL   \n",
       "\n",
       "   year  month        day  distance_km  price_per_km  \n",
       "0  2021      1  Wednesday         7.79          3.80  \n",
       "1  2021      1  Wednesday         8.55          2.44  \n",
       "2  2021      1     Sunday         9.50          3.60  \n",
       "3  2020     12     Friday        31.77          1.85  \n",
       "4  2020     12     Friday         4.09          3.09  "
      ]
     },
     "execution_count": 32,
     "metadata": {},
     "output_type": "execute_result"
    }
   ],
   "source": [
    "df.head()"
   ]
  },
  {
   "cell_type": "code",
   "execution_count": 33,
   "metadata": {},
   "outputs": [
    {
     "data": {
      "text/html": [
       "<div>\n",
       "<style scoped>\n",
       "    .dataframe tbody tr th:only-of-type {\n",
       "        vertical-align: middle;\n",
       "    }\n",
       "\n",
       "    .dataframe tbody tr th {\n",
       "        vertical-align: top;\n",
       "    }\n",
       "\n",
       "    .dataframe thead th {\n",
       "        text-align: right;\n",
       "    }\n",
       "</style>\n",
       "<table border=\"1\" class=\"dataframe\">\n",
       "  <thead>\n",
       "    <tr style=\"text-align: right;\">\n",
       "      <th></th>\n",
       "      <th>Unnamed: 0</th>\n",
       "      <th>City</th>\n",
       "      <th>Begin Trip Lat</th>\n",
       "      <th>Begin Trip Lng</th>\n",
       "      <th>Dropoff Lat</th>\n",
       "      <th>Dropoff Lng</th>\n",
       "      <th>Distance (miles)</th>\n",
       "      <th>Fare Amount</th>\n",
       "      <th>year</th>\n",
       "      <th>month</th>\n",
       "      <th>distance_km</th>\n",
       "      <th>price_per_km</th>\n",
       "    </tr>\n",
       "  </thead>\n",
       "  <tbody>\n",
       "    <tr>\n",
       "      <th>count</th>\n",
       "      <td>525.000000</td>\n",
       "      <td>525.000000</td>\n",
       "      <td>525.000000</td>\n",
       "      <td>525.000000</td>\n",
       "      <td>525.000000</td>\n",
       "      <td>525.000000</td>\n",
       "      <td>525.000000</td>\n",
       "      <td>525.000000</td>\n",
       "      <td>525.000000</td>\n",
       "      <td>525.000000</td>\n",
       "      <td>525.000000</td>\n",
       "      <td>463.00</td>\n",
       "    </tr>\n",
       "    <tr>\n",
       "      <th>mean</th>\n",
       "      <td>276.577143</td>\n",
       "      <td>468.708571</td>\n",
       "      <td>-23.560695</td>\n",
       "      <td>-46.622412</td>\n",
       "      <td>-23.567343</td>\n",
       "      <td>-46.615599</td>\n",
       "      <td>4.271048</td>\n",
       "      <td>17.179657</td>\n",
       "      <td>2018.177143</td>\n",
       "      <td>6.024762</td>\n",
       "      <td>6.873638</td>\n",
       "      <td>inf</td>\n",
       "    </tr>\n",
       "    <tr>\n",
       "      <th>std</th>\n",
       "      <td>162.037198</td>\n",
       "      <td>105.973949</td>\n",
       "      <td>0.069152</td>\n",
       "      <td>0.240816</td>\n",
       "      <td>0.070309</td>\n",
       "      <td>0.241447</td>\n",
       "      <td>3.729289</td>\n",
       "      <td>12.165100</td>\n",
       "      <td>1.103884</td>\n",
       "      <td>3.700804</td>\n",
       "      <td>6.001731</td>\n",
       "      <td>NaN</td>\n",
       "    </tr>\n",
       "    <tr>\n",
       "      <th>min</th>\n",
       "      <td>0.000000</td>\n",
       "      <td>296.000000</td>\n",
       "      <td>-23.975843</td>\n",
       "      <td>-46.837136</td>\n",
       "      <td>-23.975838</td>\n",
       "      <td>-46.837120</td>\n",
       "      <td>0.000000</td>\n",
       "      <td>0.000000</td>\n",
       "      <td>2015.000000</td>\n",
       "      <td>1.000000</td>\n",
       "      <td>0.000000</td>\n",
       "      <td>0.00</td>\n",
       "    </tr>\n",
       "    <tr>\n",
       "      <th>25%</th>\n",
       "      <td>136.000000</td>\n",
       "      <td>458.000000</td>\n",
       "      <td>-23.602633</td>\n",
       "      <td>-46.666376</td>\n",
       "      <td>-23.611162</td>\n",
       "      <td>-46.666338</td>\n",
       "      <td>1.220000</td>\n",
       "      <td>7.950000</td>\n",
       "      <td>2017.000000</td>\n",
       "      <td>3.000000</td>\n",
       "      <td>1.960000</td>\n",
       "      <td>2.21</td>\n",
       "    </tr>\n",
       "    <tr>\n",
       "      <th>50%</th>\n",
       "      <td>276.000000</td>\n",
       "      <td>458.000000</td>\n",
       "      <td>-23.559450</td>\n",
       "      <td>-46.644786</td>\n",
       "      <td>-23.568158</td>\n",
       "      <td>-46.637291</td>\n",
       "      <td>3.980000</td>\n",
       "      <td>16.980000</td>\n",
       "      <td>2018.000000</td>\n",
       "      <td>6.000000</td>\n",
       "      <td>6.410000</td>\n",
       "      <td>2.65</td>\n",
       "    </tr>\n",
       "    <tr>\n",
       "      <th>75%</th>\n",
       "      <td>418.000000</td>\n",
       "      <td>458.000000</td>\n",
       "      <td>-23.503640</td>\n",
       "      <td>-46.624974</td>\n",
       "      <td>-23.507593</td>\n",
       "      <td>-46.623503</td>\n",
       "      <td>6.080000</td>\n",
       "      <td>25.020000</td>\n",
       "      <td>2019.000000</td>\n",
       "      <td>10.000000</td>\n",
       "      <td>9.780000</td>\n",
       "      <td>3.87</td>\n",
       "    </tr>\n",
       "    <tr>\n",
       "      <th>max</th>\n",
       "      <td>553.000000</td>\n",
       "      <td>1449.000000</td>\n",
       "      <td>-22.903051</td>\n",
       "      <td>-43.105089</td>\n",
       "      <td>-22.902098</td>\n",
       "      <td>-43.114359</td>\n",
       "      <td>19.740000</td>\n",
       "      <td>95.400000</td>\n",
       "      <td>2021.000000</td>\n",
       "      <td>12.000000</td>\n",
       "      <td>31.770000</td>\n",
       "      <td>inf</td>\n",
       "    </tr>\n",
       "  </tbody>\n",
       "</table>\n",
       "</div>"
      ],
      "text/plain": [
       "       Unnamed: 0         City  Begin Trip Lat  Begin Trip Lng  Dropoff Lat  \\\n",
       "count  525.000000   525.000000      525.000000      525.000000   525.000000   \n",
       "mean   276.577143   468.708571      -23.560695      -46.622412   -23.567343   \n",
       "std    162.037198   105.973949        0.069152        0.240816     0.070309   \n",
       "min      0.000000   296.000000      -23.975843      -46.837136   -23.975838   \n",
       "25%    136.000000   458.000000      -23.602633      -46.666376   -23.611162   \n",
       "50%    276.000000   458.000000      -23.559450      -46.644786   -23.568158   \n",
       "75%    418.000000   458.000000      -23.503640      -46.624974   -23.507593   \n",
       "max    553.000000  1449.000000      -22.903051      -43.105089   -22.902098   \n",
       "\n",
       "       Dropoff Lng  Distance (miles)  Fare Amount         year       month  \\\n",
       "count   525.000000        525.000000   525.000000   525.000000  525.000000   \n",
       "mean    -46.615599          4.271048    17.179657  2018.177143    6.024762   \n",
       "std       0.241447          3.729289    12.165100     1.103884    3.700804   \n",
       "min     -46.837120          0.000000     0.000000  2015.000000    1.000000   \n",
       "25%     -46.666338          1.220000     7.950000  2017.000000    3.000000   \n",
       "50%     -46.637291          3.980000    16.980000  2018.000000    6.000000   \n",
       "75%     -46.623503          6.080000    25.020000  2019.000000   10.000000   \n",
       "max     -43.114359         19.740000    95.400000  2021.000000   12.000000   \n",
       "\n",
       "       distance_km  price_per_km  \n",
       "count   525.000000        463.00  \n",
       "mean      6.873638           inf  \n",
       "std       6.001731           NaN  \n",
       "min       0.000000          0.00  \n",
       "25%       1.960000          2.21  \n",
       "50%       6.410000          2.65  \n",
       "75%       9.780000          3.87  \n",
       "max      31.770000           inf  "
      ]
     },
     "execution_count": 33,
     "metadata": {},
     "output_type": "execute_result"
    }
   ],
   "source": [
    "df.describe()\n"
   ]
  },
  {
   "cell_type": "code",
   "execution_count": 86,
   "metadata": {},
   "outputs": [
    {
     "data": {
      "text/plain": [
       "<AxesSubplot:xlabel='year,Trip or Order Status'>"
      ]
     },
     "execution_count": 86,
     "metadata": {},
     "output_type": "execute_result"
    },
    {
     "data": {
      "image/png": "[encoded data removed]",
      "text/plain": [
       "<Figure size 864x360 with 1 Axes>"
      ]
     },
     "metadata": {
      "needs_background": "light"
     },
     "output_type": "display_data"
    }
   ],
   "source": [
    "# 1. How many times have I traveled in the past?\n",
    "df[df['Trip or Order Status']=='COMPLETED'].groupby('year')['Trip or Order Status'].value_counts().plot.bar(figsize=(12,5))"
   ]
  },
  {
   "cell_type": "code",
   "execution_count": 85,
   "metadata": {},
   "outputs": [
    {
     "data": {
      "text/plain": [
       "<AxesSubplot:xlabel='year'>"
      ]
     },
     "execution_count": 85,
     "metadata": {},
     "output_type": "execute_result"
    },
    {
     "data": {
      "image/png": "[encoded data removed]",
      "text/plain": [
       "<Figure size 864x360 with 1 Axes>"
      ]
     },
     "metadata": {
      "needs_background": "light"
     },
     "output_type": "display_data"
    }
   ],
   "source": [
    "#2. How many trips were completed and cancelled?\n",
    "df[df['Trip or Order Status'].isin(['COMPLETED','CANCELED','DRIVER_CANCELED'])].groupby('year')['Trip or Order Status'].value_counts().unstack('Trip or Order Status').plot.bar(stacked=True,figsize=(12,5))"
   ]
  },
  {
   "cell_type": "code",
   "execution_count": null,
   "metadata": {},
   "outputs": [],
   "source": []
  },
  {
   "cell_type": "code",
   "execution_count": 36,
   "metadata": {},
   "outputs": [
    {
     "name": "stdout",
     "output_type": "stream",
     "text": [
      "Requirement already satisfied: folium in c:\\users\\balram\\anaconda3\\lib\\site-packages (0.12.1.post1)\n",
      "Requirement already satisfied: branca>=0.3.0 in c:\\users\\balram\\anaconda3\\lib\\site-packages (from folium) (0.4.2)\n",
      "Requirement already satisfied: requests in c:\\users\\balram\\anaconda3\\lib\\site-packages (from folium) (2.27.1)\n",
      "Requirement already satisfied: numpy in c:\\users\\balram\\anaconda3\\lib\\site-packages (from folium) (1.22.0)\n",
      "Requirement already satisfied: jinja2>=2.9 in c:\\users\\balram\\anaconda3\\lib\\site-packages (from folium) (3.0.3)\n",
      "Requirement already satisfied: MarkupSafe>=2.0 in c:\\users\\balram\\anaconda3\\lib\\site-packages (from jinja2>=2.9->folium) (2.0.1)\n",
      "Requirement already satisfied: charset-normalizer~=2.0.0 in c:\\users\\balram\\anaconda3\\lib\\site-packages (from requests->folium) (2.0.10)\n",
      "Requirement already satisfied: certifi>=2017.4.17 in c:\\users\\balram\\anaconda3\\lib\\site-packages (from requests->folium) (2021.10.8)\n",
      "Requirement already satisfied: idna<4,>=2.5 in c:\\users\\balram\\anaconda3\\lib\\site-packages (from requests->folium) (3.3)\n",
      "Requirement already satisfied: urllib3<1.27,>=1.21.1 in c:\\users\\balram\\anaconda3\\lib\\site-packages (from requests->folium) (1.26.8)\n"
     ]
    },
    {
     "data": {
      "text/html": [
       "<div style=\"width:100%;\"><div style=\"position:relative;width:100%;height:0;padding-bottom:60%;\"><span style=\"color:#565656\">Make this Notebook Trusted to load map: File -> Trust Notebook</span><iframe src=\"about:blank\" style=\"position:absolute;width:100%;height:100%;left:0;top:0;border:none !important;\" data-html=%3C%21DOCTYPE%20html%3E%0A%3Chead%3E%20%20%20%20%0A%20%20%20%20%3Cmeta%20http-equiv%3D%22content-type%22%20content%3D%22text/html%3B%20charset%3DUTF-8%22%20/%3E%0A%20%20%20%20%0A%20%20%20%20%20%20%20%20%3Cscript%3E%0A%20%20%20%20%20%20%20%20%20%20%20%20L_NO_TOUCH%20%3D%20false%3B%0A%20%20%20%20%20%20%20%20%20%20%20%20L_DISABLE_3D%20%3D%20false%3B%0A%20%20%20%20%20%20%20%20%3C/script%3E%0A%20%20%20%20%0A%20%20%20%20%3Cstyle%3Ehtml%2C%20body%20%7Bwidth%3A%20100%25%3Bheight%3A%20100%25%3Bmargin%3A%200%3Bpadding%3A%200%3B%7D%3C/style%3E%0A%20%20%20%20%3Cstyle%3E%23map%20%7Bposition%3Aabsolute%3Btop%3A0%3Bbottom%3A0%3Bright%3A0%3Bleft%3A0%3B%7D%3C/style%3E%0A%20%20%20%20%3Cscript%20src%3D%22https%3A//cdn.jsdelivr.net/npm/leaflet%401.6.0/dist/leaflet.js%22%3E%3C/script%3E%0A%20%20%20%20%3Cscript%20src%3D%22https%3A//code.jquery.com/jquery-1.12.4.min.js%22%3E%3C/script%3E%0A%20%20%20%20%3Cscript%20src%3D%22https%3A//maxcdn.bootstrapcdn.com/bootstrap/3.2.0/js/bootstrap.min.js%22%3E%3C/script%3E%0A%20%20%20%20%3Cscript%20src%3D%22https%3A//cdnjs.cloudflare.com/ajax/libs/Leaflet.awesome-markers/2.0.2/leaflet.awesome-markers.js%22%3E%3C/script%3E%0A%20%20%20%20%3Clink%20rel%3D%22stylesheet%22%20href%3D%22https%3A//cdn.jsdelivr.net/npm/leaflet%401.6.0/dist/leaflet.css%22/%3E%0A%20%20%20%20%3Clink%20rel%3D%22stylesheet%22%20href%3D%22https%3A//maxcdn.bootstrapcdn.com/bootstrap/3.2.0/css/bootstrap.min.css%22/%3E%0A%20%20%20%20%3Clink%20rel%3D%22stylesheet%22%20href%3D%22https%3A//maxcdn.bootstrapcdn.com/bootstrap/3.2.0/css/bootstrap-theme.min.css%22/%3E%0A%20%20%20%20%3Clink%20rel%3D%22stylesheet%22%20href%3D%22https%3A//maxcdn.bootstrapcdn.com/font-awesome/4.6.3/css/font-awesome.min.css%22/%3E%0A%20%20%20%20%3Clink%20rel%3D%22stylesheet%22%20href%3D%22https%3A//cdnjs.cloudflare.com/ajax/libs/Leaflet.awesome-markers/2.0.2/leaflet.awesome-markers.css%22/%3E%0A%20%20%20%20%3Clink%20rel%3D%22stylesheet%22%20href%3D%22https%3A//cdn.jsdelivr.net/gh/python-visualization/folium/folium/templates/leaflet.awesome.rotate.min.css%22/%3E%0A%20%20%20%20%0A%20%20%20%20%20%20%20%20%20%20%20%20%3Cmeta%20name%3D%22viewport%22%20content%3D%22width%3Ddevice-width%2C%0A%20%20%20%20%20%20%20%20%20%20%20%20%20%20%20%20initial-scale%3D1.0%2C%20maximum-scale%3D1.0%2C%20user-scalable%3Dno%22%20/%3E%0A%20%20%20%20%20%20%20%20%20%20%20%20%3Cstyle%3E%0A%20%20%20%20%20%20%20%20%20%20%20%20%20%20%20%20%23map_e23fd6ac16744ad685d1c02e53babdc7%20%7B%0A%20%20%20%20%20%20%20%20%20%20%20%20%20%20%20%20%20%20%20%20position%3A%20relative%3B%0A%20%20%20%20%20%20%20%20%20%20%20%20%20%20%20%20%20%20%20%20width%3A%20100.0%25%3B%0A%20%20%20%20%20%20%20%20%20%20%20%20%20%20%20%20%20%20%20%20height%3A%20100.0%25%3B%0A%20%20%20%20%20%20%20%20%20%20%20%20%20%20%20%20%20%20%20%20left%3A%200.0%25%3B%0A%20%20%20%20%20%20%20%20%20%20%20%20%20%20%20%20%20%20%20%20top%3A%200.0%25%3B%0A%20%20%20%20%20%20%20%20%20%20%20%20%20%20%20%20%7D%0A%20%20%20%20%20%20%20%20%20%20%20%20%3C/style%3E%0A%20%20%20%20%20%20%20%20%0A%20%20%20%20%3Cscript%20src%3D%22https%3A//cdn.jsdelivr.net/gh/python-visualization/folium%40master/folium/templates/leaflet_heat.min.js%22%3E%3C/script%3E%0A%3C/head%3E%0A%3Cbody%3E%20%20%20%20%0A%20%20%20%20%0A%20%20%20%20%20%20%20%20%20%20%20%20%3Cdiv%20class%3D%22folium-map%22%20id%3D%22map_e23fd6ac16744ad685d1c02e53babdc7%22%20%3E%3C/div%3E%0A%20%20%20%20%20%20%20%20%0A%3C/body%3E%0A%3Cscript%3E%20%20%20%20%0A%20%20%20%20%0A%20%20%20%20%20%20%20%20%20%20%20%20var%20map_e23fd6ac16744ad685d1c02e53babdc7%20%3D%20L.map%28%0A%20%20%20%20%20%20%20%20%20%20%20%20%20%20%20%20%22map_e23fd6ac16744ad685d1c02e53babdc7%22%2C%0A%20%20%20%20%20%20%20%20%20%20%20%20%20%20%20%20%7B%0A%20%20%20%20%20%20%20%20%20%20%20%20%20%20%20%20%20%20%20%20center%3A%20%5B-23.5489%2C%20-46.6388%5D%2C%0A%20%20%20%20%20%20%20%20%20%20%20%20%20%20%20%20%20%20%20%20crs%3A%20L.CRS.EPSG3857%2C%0A%20%20%20%20%20%20%20%20%20%20%20%20%20%20%20%20%20%20%20%20zoom%3A%2012%2C%0A%20%20%20%20%20%20%20%20%20%20%20%20%20%20%20%20%20%20%20%20zoomControl%3A%20true%2C%0A%20%20%20%20%20%20%20%20%20%20%20%20%20%20%20%20%20%20%20%20preferCanvas%3A%20false%2C%0A%20%20%20%20%20%20%20%20%20%20%20%20%20%20%20%20%7D%0A%20%20%20%20%20%20%20%20%20%20%20%20%29%3B%0A%20%20%20%20%20%20%20%20%20%20%20%20L.control.scale%28%29.addTo%28map_e23fd6ac16744ad685d1c02e53babdc7%29%3B%0A%0A%20%20%20%20%20%20%20%20%20%20%20%20%0A%0A%20%20%20%20%20%20%20%20%0A%20%20%20%20%0A%20%20%20%20%20%20%20%20%20%20%20%20var%20tile_layer_b5c6962488d849c88a69232a265cc437%20%3D%20L.tileLayer%28%0A%20%20%20%20%20%20%20%20%20%20%20%20%20%20%20%20%22https%3A//stamen-tiles-%7Bs%7D.a.ssl.fastly.net/terrain/%7Bz%7D/%7Bx%7D/%7By%7D.jpg%22%2C%0A%20%20%20%20%20%20%20%20%20%20%20%20%20%20%20%20%7B%22attribution%22%3A%20%22Map%20tiles%20by%20%5Cu003ca%20href%3D%5C%22http%3A//stamen.com%5C%22%5Cu003eStamen%20Design%5Cu003c/a%5Cu003e%2C%20under%20%5Cu003ca%20href%3D%5C%22http%3A//creativecommons.org/licenses/by/3.0%5C%22%5Cu003eCC%20BY%203.0%5Cu003c/a%5Cu003e.%20Data%20by%20%5Cu0026copy%3B%20%5Cu003ca%20href%3D%5C%22http%3A//openstreetmap.org%5C%22%5Cu003eOpenStreetMap%5Cu003c/a%5Cu003e%2C%20under%20%5Cu003ca%20href%3D%5C%22http%3A//creativecommons.org/licenses/by-sa/3.0%5C%22%5Cu003eCC%20BY%20SA%5Cu003c/a%5Cu003e.%22%2C%20%22detectRetina%22%3A%20false%2C%20%22maxNativeZoom%22%3A%2018%2C%20%22maxZoom%22%3A%2018%2C%20%22minZoom%22%3A%200%2C%20%22noWrap%22%3A%20false%2C%20%22opacity%22%3A%201%2C%20%22subdomains%22%3A%20%22abc%22%2C%20%22tms%22%3A%20false%7D%0A%20%20%20%20%20%20%20%20%20%20%20%20%29.addTo%28map_e23fd6ac16744ad685d1c02e53babdc7%29%3B%0A%20%20%20%20%20%20%20%20%0A%20%20%20%20%0A%20%20%20%20%20%20%20%20%20%20%20%20var%20heat_map_4804104a27824a5791b4295c9080e2e8%20%3D%20L.heatLayer%28%0A%20%20%20%20%20%20%20%20%20%20%20%20%20%20%20%20%5B%5B-23.559359%2C%20-46.666542%5D%2C%20%5B-23.599585%2C%20-46.715717%5D%2C%20%5B-23.559273%2C%20-46.666595%5D%2C%20%5B-23.425755%2C%20-46.48119%5D%2C%20%5B-23.559261%2C%20-46.66651%5D%2C%20%5B-23.6245%2C%20-46.701077%5D%2C%20%5B-23.559233%2C%20-46.666546%5D%2C%20%5B-23.559366%2C%20-46.666637%5D%2C%20%5B-23.55216157%2C%20-46.63645434%5D%2C%20%5B-23.54775%2C%20-46.644104%5D%2C%20%5B-23.56932402%2C%20-46.6655798%5D%2C%20%5B-23.56988096%2C%20-46.66156781%5D%2C%20%5B-23.559292%2C%20-46.66655%5D%2C%20%5B-23.567545%2C%20-46.66403%5D%2C%20%5B-23.559343%2C%20-46.666496%5D%2C%20%5B-23.566214%2C%20-46.675385%5D%2C%20%5B-23.56196%2C%20-46.65819%5D%2C%20%5B-23.56426764%2C%20-46.65525889%5D%2C%20%5B-23.624607%2C%20-46.701088%5D%2C%20%5B-23.55949%2C%20-46.66645%5D%2C%20%5B-23.62027715%2C%20-46.69794191%5D%2C%20%5B-23.624554%2C%20-46.701042%5D%2C%20%5B-23.5593595%2C%20-46.6665002%5D%2C%20%5B-23.6245499%2C%20-46.7011459%5D%2C%20%5B-23.6245747%2C%20-46.701121%5D%2C%20%5B-23.5594793%2C%20-46.6664565%5D%2C%20%5B-23.6247021%2C%20-46.7009501%5D%2C%20%5B-23.6244897%2C%20-46.7009874%5D%2C%20%5B-23.55695861%2C%20-46.66876567%5D%2C%20%5B-23.55682781%2C%20-46.66902317%5D%2C%20%5B-23.56083211%2C%20-46.67251859%5D%2C%20%5B-23.6249448%2C%20-46.7013194%5D%2C%20%5B-23.55414833%2C%20-46.67188399%5D%2C%20%5B-23.56909121%2C%20-46.67998049%5D%2C%20%5B-23.5593722%2C%20-46.6664251%5D%2C%20%5B-23.6249106%2C%20-46.7006571%5D%2C%20%5B-23.5595624%2C%20-46.6665394%5D%2C%20%5B-23.6245325%2C%20-46.7010044%5D%2C%20%5B-23.6245682%2C%20-46.7009553%5D%2C%20%5B-23.56456492%2C%20-46.65459229%5D%2C%20%5B-23.5594719%2C%20-46.6664113%5D%2C%20%5B-23.6246338%2C%20-46.7009416%5D%2C%20%5B-23.558508%2C%20-46.66877913%5D%2C%20%5B-23.55945%2C%20-46.66646%5D%2C%20%5B-23.6245219%2C%20-46.7011361%5D%2C%20%5B-23.56103176%2C%20-46.6789032%5D%2C%20%5B-23.5897694%2C%20-46.6340214%5D%2C%20%5B-23.568199%2C%20-46.6481043%5D%2C%20%5B-23.63256456%2C%20-46.7101219%5D%2C%20%5B-23.5593779%2C%20-46.6664841%5D%2C%20%5B-23.6245191%2C%20-46.7010364%5D%2C%20%5B-23.5625745%2C%20-46.67476547%5D%2C%20%5B-23.624603%2C%20-46.7009155%5D%2C%20%5B-23.6245406%2C%20-46.7011174%5D%2C%20%5B-23.5593105%2C%20-46.6664557%5D%2C%20%5B-23.624573%2C%20-46.7009811%5D%2C%20%5B-23.554227%2C%20-46.6560723%5D%2C%20%5B-23.6245017%2C%20-46.700992%5D%2C%20%5B-23.55708615%2C%20-46.66878965%5D%2C%20%5B-23.6245215%2C%20-46.7011146%5D%2C%20%5B-23.6245334%2C%20-46.7010361%5D%2C%20%5B-23.6245533%2C%20-46.700999%5D%2C%20%5B-23.6245483%2C%20-46.7007607%5D%2C%20%5B-23.55563589%2C%20-46.66741277%5D%2C%20%5B-23.5592766%2C%20-46.6666408%5D%2C%20%5B-23.6245632%2C%20-46.7011078%5D%2C%20%5B-23.5592925%2C%20-46.6664492%5D%2C%20%5B-23.5593245%2C%20-46.6665357%5D%2C%20%5B-23.6245428%2C%20-46.7010183%5D%2C%20%5B-23.6244904%2C%20-46.7009642%5D%2C%20%5B-23.5593177%2C%20-46.6664697%5D%2C%20%5B-23.5897198%2C%20-46.6340898%5D%2C%20%5B-23.6247%2C%20-46.70114%5D%2C%20%5B-23.5593471%2C%20-46.6663865%5D%2C%20%5B-23.5599594%2C%20-46.6966915%5D%2C%20%5B-23.6236397%2C%20-46.6996955%5D%2C%20%5B-23.5666085%2C%20-46.679704%5D%2C%20%5B-23.6246805%2C%20-46.700688%5D%2C%20%5B-23.5595676%2C%20-46.6651815%5D%2C%20%5B-23.5902921%2C%20-46.6342251%5D%2C%20%5B-23.6245537%2C%20-46.7009911%5D%2C%20%5B-23.6246039%2C%20-46.7011292%5D%2C%20%5B-23.5586444%2C%20-46.665064%5D%2C%20%5B-23.5593657%2C%20-46.6664886%5D%2C%20%5B-23.6257619%2C%20-46.7095611%5D%2C%20%5B-23.6246512%2C%20-46.7012253%5D%2C%20%5B-23.5593573%2C%20-46.6666084%5D%2C%20%5B-23.62508%2C%20-46.70083%5D%2C%20%5B-23.6252367%2C%20-46.7009618%5D%2C%20%5B-23.5591479%2C%20-46.6665651%5D%2C%20%5B-23.559243%2C%20-46.6662783%5D%2C%20%5B-23.49942%2C%20-46.83712%5D%2C%20%5B-23.5681581%2C%20-46.648213%5D%2C%20%5B-23.559243%2C%20-46.6662783%5D%2C%20%5B-23.5513271%2C%20-46.6782767%5D%2C%20%5B-23.55944%2C%20-46.66647%5D%2C%20%5B-23.5930824%2C%20-46.6366775%5D%2C%20%5B-23.6251984%2C%20-46.7009311%5D%2C%20%5B-23.6328069%2C%20-46.6934561%5D%2C%20%5B-23.561575%2C%20-46.67988%5D%2C%20%5B-23.559358%2C%20-46.6664925%5D%2C%20%5B-23.5746331%2C%20-46.6610196%5D%2C%20%5B-23.5638727%2C%20-46.6577294%5D%2C%20%5B-23.5897093%2C%20-46.6341447%5D%2C%20%5B-23.5838811%2C%20-46.6736383%5D%2C%20%5B-23.5902921%2C%20-46.6342251%5D%2C%20%5B-23.6212061%2C%20-46.7376006%5D%2C%20%5B-23.5630458%2C%20-46.6726512%5D%2C%20%5B-23.5593337%2C%20-46.6665488%5D%2C%20%5B-23.6112972%2C%20-46.5707363%5D%2C%20%5B-23.5902921%2C%20-46.6342251%5D%2C%20%5B-23.5898961%2C%20-46.6347077%5D%2C%20%5B-23.564655%2C%20-46.6803749%5D%2C%20%5B-23.5897394%2C%20-46.6339828%5D%2C%20%5B-23.5901449%2C%20-46.634857%5D%2C%20%5B-23.5925744%2C%20-46.6485508%5D%2C%20%5B-23.6113086%2C%20-46.5708697%5D%2C%20%5B-23.61126%2C%20-46.57101%5D%2C%20%5B-23.6111714%2C%20-46.571065%5D%2C%20%5B-23.6111541%2C%20-46.5710089%5D%2C%20%5B-23.5897361%2C%20-46.6342802%5D%2C%20%5B-23.5593949%2C%20-46.6665817%5D%2C%20%5B-23.5578081%2C%20-46.6817216%5D%2C%20%5B-23.6113211%2C%20-46.5707727%5D%2C%20%5B-23.6112737%2C%20-46.570818%5D%2C%20%5B-23.5896776%2C%20-46.6339224%5D%2C%20%5B-23.6114832%2C%20-46.570899%5D%2C%20%5B-23.61135%2C%20-46.57091%5D%2C%20%5B-23.6113042%2C%20-46.5708159%5D%2C%20%5B-23.6113413%2C%20-46.5707881%5D%2C%20%5B-23.5906881%2C%20-46.6347426%5D%2C%20%5B-23.6113665%2C%20-46.5709412%5D%2C%20%5B-23.6114896%2C%20-46.5708406%5D%2C%20%5B-23.5594191%2C%20-46.6663381%5D%2C%20%5B-23.5688799%2C%20-46.6610875%5D%2C%20%5B-23.611196%2C%20-46.571191%5D%2C%20%5B-23.6235222%2C%20-46.5656995%5D%2C%20%5B-23.61148%2C%20-46.57081%5D%2C%20%5B-23.5897059%2C%20-46.6340259%5D%2C%20%5B-23.5765285%2C%20-46.657221%5D%2C%20%5B-23.6113663%2C%20-46.57086%5D%2C%20%5B-23.6234363%2C%20-46.5657323%5D%2C%20%5B-23.6114641%2C%20-46.570791%5D%2C%20%5B-23.5813131%2C%20-46.6805361%5D%2C%20%5B-23.55931%2C%20-46.66663%5D%2C%20%5B-23.56342%2C%20-46.65128%5D%2C%20%5B-23.5593653%2C%20-46.6664751%5D%2C%20%5B-23.6114347%2C%20-46.5707262%5D%2C%20%5B-23.6235879%2C%20-46.5657363%5D%2C%20%5B-23.6190552%2C%20-46.5656031%5D%2C%20%5B-23.611284%2C%20-46.5710134%5D%2C%20%5B-23.6114657%2C%20-46.5707776%5D%2C%20%5B-23.6113924%2C%20-46.570781%5D%2C%20%5B-23.6113489%2C%20-46.5708553%5D%2C%20%5B-23.589699%2C%20-46.6338321%5D%2C%20%5B-23.55945%2C%20-46.66647%5D%2C%20%5B-23.5897046%2C%20-46.6342625%5D%2C%20%5B-23.5593208%2C%20-46.6665461%5D%2C%20%5B-23.499651%2C%20-46.6443482%5D%2C%20%5B-23.5897766%2C%20-46.6350174%5D%2C%20%5B-23.5718541%2C%20-46.6435307%5D%2C%20%5B-23.5897042%2C%20-46.6340583%5D%2C%20%5B-23.5592778%2C%20-46.6664928%5D%2C%20%5B-23.5897152%2C%20-46.6339973%5D%2C%20%5B-23.56548%2C%20-46.66629%5D%2C%20%5B-23.5897333%2C%20-46.6340835%5D%2C%20%5B-23.6267726%2C%20-46.5798585%5D%2C%20%5B-23.6114035%2C%20-46.5707249%5D%2C%20%5B-23.5897353%2C%20-46.6342724%5D%2C%20%5B-23.5691332%2C%20-46.6602163%5D%2C%20%5B-23.5593737%2C%20-46.6663778%5D%2C%20%5B-23.5897415%2C%20-46.6342876%5D%2C%20%5B-23.589711%2C%20-46.6341624%5D%2C%20%5B-23.5898427%2C%20-46.6342861%5D%2C%20%5B-23.5899127%2C%20-46.6347363%5D%2C%20%5B-23.5552%2C%20-46.65715%5D%2C%20%5B-23.5610824%2C%20-46.6920423%5D%2C%20%5B-23.5706603%2C%20-46.693383%5D%2C%20%5B-23.5897971%2C%20-46.634184%5D%2C%20%5B-23.5898427%2C%20-46.6342861%5D%2C%20%5B-23.6113438%2C%20-46.570978%5D%2C%20%5B-23.5896775%2C%20-46.6342089%5D%2C%20%5B-23.5592277%2C%20-46.6631332%5D%2C%20%5B-23.58854%2C%20-46.67881%5D%2C%20%5B-23.5691248%2C%20-46.6612174%5D%2C%20%5B-23.58967%2C%20-46.634%5D%2C%20%5B-23.5593764%2C%20-46.6631889%5D%2C%20%5B-23.5462117%2C%20-46.6486085%5D%2C%20%5B-23.5896768%2C%20-46.6341683%5D%2C%20%5B-23.6090984%2C%20-46.6666032%5D%2C%20%5B-23.6114817%2C%20-46.5706559%5D%2C%20%5B-23.6114035%2C%20-46.5708554%5D%2C%20%5B-23.61151%2C%20-46.57074%5D%2C%20%5B-23.5592587%2C%20-46.66303%5D%2C%20%5B-23.5897222%2C%20-46.6341299%5D%2C%20%5B-23.5690166%2C%20-46.661077%5D%2C%20%5B-23.5593704%2C%20-46.6632237%5D%2C%20%5B-23.5368778%2C%20-46.6634445%5D%2C%20%5B-23.6114086%2C%20-46.5707626%5D%2C%20%5B-23.5036558%2C%20-46.6370967%5D%2C%20%5B-23.5139202%2C%20-46.6191831%5D%2C%20%5B-23.5144517%2C%20-46.6163633%5D%2C%20%5B-23.5690601%2C%20-46.6611127%5D%2C%20%5B-23.5036539%2C%20-46.6371543%5D%2C%20%5B-23.5595012%2C%20-46.6631188%5D%2C%20%5B-23.5617133%2C%20-46.658159%5D%2C%20%5B-23.55575%2C%20-46.6552617%5D%2C%20%5B-23.5595012%2C%20-46.6631188%5D%2C%20%5B-23.5958767%2C%20-46.6799333%5D%2C%20%5B-23.5909317%2C%20-46.68235%5D%2C%20%5B-23.5593646%2C%20-46.6632126%5D%2C%20%5B-23.5542748%2C%20-46.6561255%5D%2C%20%5B-23.5592926%2C%20-46.6631932%5D%2C%20%5B-23.5593606%2C%20-46.6631198%5D%2C%20%5B-23.5716401%2C%20-46.6882496%5D%2C%20%5B-23.56023173%2C%20-46.66414962%5D%2C%20%5B-23.5033043%2C%20-46.636905%5D%2C%20%5B-23.6045413%2C%20-46.5559679%5D%2C%20%5B-23.49250069%2C%20-46.64540682%5D%2C%20%5B-23.6113175%2C%20-46.5708262%5D%2C%20%5B-23.5593419%2C%20-46.6632209%5D%2C%20%5B-23.5619878%2C%20-46.6582328%5D%2C%20%5B-23.6116444%2C%20-46.5705324%5D%2C%20%5B-23.5589855%2C%20-46.6632146%5D%2C%20%5B-23.61134745%2C%20-46.57079129%5D%2C%20%5B-23.5036425%2C%20-46.6371866%5D%2C%20%5B-23.5032252%2C%20-46.6371095%5D%2C%20%5B-23.6105865%2C%20-46.570705%5D%2C%20%5B-23.5036788%2C%20-46.637129%5D%2C%20%5B-23.5037043%2C%20-46.6327645%5D%2C%20%5B-23.5621533%2C%20-46.6578083%5D%2C%20%5B-23.6190601%2C%20-46.5656531%5D%2C%20%5B-23.611265%2C%20-46.57126%5D%2C%20%5B-23.5642753%2C%20-46.6581409%5D%2C%20%5B-23.5690588%2C%20-46.6611788%5D%2C%20%5B-23.5035722%2C%20-46.6373399%5D%2C%20%5B-23.6111067%2C%20-46.5710737%5D%2C%20%5B-23.5034274%2C%20-46.637272%5D%2C%20%5B-23.5630296%2C%20-46.6670311%5D%2C%20%5B-23.5805034%2C%20-46.644546%5D%2C%20%5B-23.5698441%2C%20-46.6638818%5D%2C%20%5B-23.5832569%2C%20-46.6549291%5D%2C%20%5B-23.5736364%2C%20-46.6556252%5D%2C%20%5B-23.5970083%2C%20-46.5748443%5D%2C%20%5B-23.5592227%2C%20-46.6632374%5D%2C%20%5B-23.5536201%2C%20-46.6942272%5D%2C%20%5B-23.5595104%2C%20-46.663229%5D%2C%20%5B-23.503677%2C%20-46.6368987%5D%2C%20%5B-23.55945%2C%20-46.6632417%5D%2C%20%5B-23.5592518%2C%20-46.6630182%5D%2C%20%5B-23.5577831%2C%20-46.6898198%5D%2C%20%5B-23.5594317%2C%20-46.6633173%5D%2C%20%5B-23.5867741%2C%20-46.642758%5D%2C%20%5B-23.6113574%2C%20-46.5708662%5D%2C%20%5B-23.5035759%2C%20-46.6371187%5D%2C%20%5B-23.61134558%2C%20-46.57091107%5D%2C%20%5B-23.6117791%2C%20-46.6670808%5D%2C%20%5B-23.503661%2C%20-46.6371771%5D%2C%20%5B-23.6113811%2C%20-46.5707523%5D%2C%20%5B-23.6114569%2C%20-46.5707386%5D%2C%20%5B-23.5036469%2C%20-46.6371567%5D%2C%20%5B-23.5032638%2C%20-46.6246263%5D%2C%20%5B-23.5592879%2C%20-46.6632155%5D%2C%20%5B-23.5036424%2C%20-46.6369836%5D%2C%20%5B-23.6113486%2C%20-46.5709126%5D%2C%20%5B-23.5601571%2C%20-46.6774145%5D%2C%20%5B-23.6111022%2C%20-46.57182%5D%2C%20%5B-23.6112414%2C%20-46.5708448%5D%2C%20%5B-23.5693051%2C%20-46.6599246%5D%2C%20%5B-23.5583273%2C%20-46.6605763%5D%2C%20%5B-23.4859%2C%20-46.6529147%5D%2C%20%5B-23.5594438%2C%20-46.6633356%5D%2C%20%5B-23.5593013%2C%20-46.6632649%5D%2C%20%5B-23.5593885%2C%20-46.6632331%5D%2C%20%5B-23.611314%2C%20-46.57088793%5D%2C%20%5B-23.5594235%2C%20-46.6633392%5D%2C%20%5B-23.5122464%2C%20-46.659457%5D%2C%20%5B-23.5166514%2C%20-46.6246943%5D%2C%20%5B-23.5036409%2C%20-46.6373103%5D%2C%20%5B-23.5032905%2C%20-46.6369492%5D%2C%20%5B-23.5032564%2C%20-46.6367743%5D%2C%20%5B-23.5588653%2C%20-46.6908072%5D%2C%20%5B-23.6114303%2C%20-46.57086%5D%2C%20%5B-23.5834123%2C%20-46.6704481%5D%2C%20%5B-23.5035727%2C%20-46.63709984%5D%2C%20%5B-23.6234972%2C%20-46.5657367%5D%2C%20%5B-23.5033104%2C%20-46.6368075%5D%2C%20%5B-23.5618476%2C%20-46.6581413%5D%2C%20%5B-23.5032674%2C%20-46.6369022%5D%2C%20%5B-23.5034429%2C%20-46.6377608%5D%2C%20%5B-23.5578202%2C%20-46.689901%5D%2C%20%5B-23.5019996%2C%20-46.6273084%5D%2C%20%5B-23.5032578%2C%20-46.6367459%5D%2C%20%5B-23.5032054%2C%20-46.6370109%5D%2C%20%5B-23.5586444%2C%20-46.6925756%5D%2C%20%5B-23.5575996%2C%20-46.6895355%5D%2C%20%5B-23.5143931%2C%20-46.6373949%5D%2C%20%5B-23.5032828%2C%20-46.6368119%5D%2C%20%5B-23.5032569%2C%20-46.6370334%5D%2C%20%5B-23.5032128%2C%20-46.6379457%5D%2C%20%5B-23.61105%2C%20-46.6948029%5D%2C%20%5B-23.6117721%2C%20-46.5727258%5D%2C%20%5B-23.6112101%2C%20-46.5710416%5D%2C%20%5B-23.6019667%2C%20-46.6736382%5D%2C%20%5B-23.5075929%2C%20-46.6509946%5D%2C%20%5B-23.5032583%2C%20-46.6368603%5D%2C%20%5B-23.5036192%2C%20-46.6371554%5D%2C%20%5B-23.5564554%2C%20-46.7502916%5D%2C%20%5B-23.5610276%2C%20-46.6826267%5D%2C%20%5B-23.5036494%2C%20-46.6371391%5D%2C%20%5B-23.5034208%2C%20-46.6368915%5D%2C%20%5B-23.5031981%2C%20-46.6372663%5D%2C%20%5B-23.5032457%2C%20-46.6366457%5D%2C%20%5B-23.6467813%2C%20-46.6304311%5D%2C%20%5B-23.5612468%2C%20-46.6565113%5D%2C%20%5B-23.503257%2C%20-46.6375048%5D%2C%20%5B-23.5032553%2C%20-46.6375279%5D%2C%20%5B-23.5032685%2C%20-46.6367701%5D%2C%20%5B-23.546632%2C%20-46.6042337%5D%2C%20%5B-23.5944239%2C%20-46.6911574%5D%2C%20%5B-23.5954224%2C%20-46.6907119%5D%2C%20%5B-23.5032237%2C%20-46.6370332%5D%2C%20%5B-23.5025158%2C%20-46.6364897%5D%2C%20%5B-23.5033975%2C%20-46.6366088%5D%2C%20%5B-23.50243945%2C%20-46.63649619%5D%2C%20%5B-23.5032727%2C%20-46.636787%5D%2C%20%5B-23.5032013%2C%20-46.6377976%5D%2C%20%5B-23.5036221%2C%20-46.6371587%5D%2C%20%5B-23.6114767%2C%20-46.5707417%5D%2C%20%5B-23.503197%2C%20-46.6368611%5D%2C%20%5B-23.6111316%2C%20-46.5711237%5D%2C%20%5B-23.6234899%2C%20-46.5656824%5D%2C%20%5B-23.5032882%2C%20-46.6367482%5D%2C%20%5B-23.503291%2C%20-46.636849%5D%2C%20%5B-23.5032675%2C%20-46.6369339%5D%2C%20%5B-23.5951242%2C%20-46.691146%5D%2C%20%5B-23.5595898%2C%20-46.6890604%5D%2C%20%5B-23.5032008%2C%20-46.6375932%5D%2C%20%5B-23.5032163%2C%20-46.6377011%5D%2C%20%5B-23.5150533%2C%20-46.63028%5D%2C%20%5B-23.5040533%2C%20-45.1258275%5D%2C%20%5B-23.4321942%2C%20-45.068019%5D%2C%20%5B-23.5032193%2C%20-46.6377141%5D%2C%20%5B-23.5035504%2C%20-46.6374929%5D%2C%20%5B-23.5617439%2C%20-46.657929%5D%2C%20%5B-23.5114617%2C%20-46.6258713%5D%2C%20%5B-23.5168073%2C%20-46.6671987%5D%2C%20%5B-23.5036461%2C%20-46.6371739%5D%2C%20%5B-23.5039759%2C%20-46.639198%5D%2C%20%5B-23.5181919%2C%20-46.6766396%5D%2C%20%5B-23.5035167%2C%20-46.637355%5D%2C%20%5B-23.5036583%2C%20-46.6368817%5D%2C%20%5B-23.5036722%2C%20-46.6372957%5D%2C%20%5B-23.5067731%2C%20-46.6247816%5D%2C%20%5B-23.5036414%2C%20-46.6367785%5D%2C%20%5B-23.5938773%2C%20-46.6912427%5D%2C%20%5B-23.5033387%2C%20-46.6372134%5D%2C%20%5B-23.5033095%2C%20-46.6372907%5D%2C%20%5B-23.5033634%2C%20-46.6369551%5D%2C%20%5B-23.530175%2C%20-46.666265%5D%2C%20%5B-23.5036347%2C%20-46.637124%5D%2C%20%5B-23.503322%2C%20-46.6366226%5D%2C%20%5B-23.4878848%2C%20-46.5947091%5D%2C%20%5B-23.5578345%2C%20-46.6898763%5D%2C%20%5B-23.503591%2C%20-46.6371741%5D%2C%20%5B-23.5823728%2C%20-46.6644769%5D%2C%20%5B-23.5616819%2C%20-46.658152%5D%2C%20%5B-23.5037175%2C%20-46.6371653%5D%2C%20%5B-23.9758385%2C%20-46.3011899%5D%2C%20%5B-23.5032566%2C%20-46.6371156%5D%2C%20%5B-23.5046038%2C%20-46.6248599%5D%2C%20%5B-23.6107181%2C%20-46.5702805%5D%2C%20%5B-23.6070964%2C%20-46.5668939%5D%2C%20%5B-23.5033627%2C%20-46.63673%5D%2C%20%5B-23.503292%2C%20-46.6372564%5D%2C%20%5B-23.5032173%2C%20-46.6376465%5D%2C%20%5B-23.503255%2C%20-46.6373243%5D%2C%20%5B-23.5034308%2C%20-46.6364732%5D%2C%20%5B-23.6113615%2C%20-46.5708377%5D%2C%20%5B-23.50326%2C%20-46.6370583%5D%2C%20%5B-23.9753716%2C%20-46.3008707%5D%2C%20%5B-23.9547153%2C%20-46.346224%5D%2C%20%5B-23.9757989%2C%20-46.301236%5D%2C%20%5B-23.5032583%2C%20-46.6372733%5D%2C%20%5B-23.5032044%2C%20-46.6368571%5D%2C%20%5B-23.5033071%2C%20-46.6370396%5D%2C%20%5B-23.5033674%2C%20-46.6249646%5D%2C%20%5B-23.50330782%2C%20-46.63752702%5D%2C%20%5B-23.606165%2C%20-46.57461%5D%2C%20%5B-23.62207%2C%20-46.56985%5D%2C%20%5B-23.5032122%2C%20-46.637111%5D%2C%20%5B-23.5031903%2C%20-46.6368144%5D%2C%20%5B-23.5039249%2C%20-46.6249221%5D%2C%20%5B-23.5036026%2C%20-46.6373307%5D%2C%20%5B-23.4721483%2C%20-46.6175189%5D%2C%20%5B-23.4805317%2C%20-46.6064783%5D%2C%20%5B-23.5033132%2C%20-46.6366607%5D%2C%20%5B-23.5156362%2C%20-46.6244854%5D%2C%20%5B-23.5157182%2C%20-46.619488%5D%2C%20%5B-23.503614%2C%20-46.6372977%5D%2C%20%5B-23.5032991%2C%20-46.6371265%5D%2C%20%5B-23.503618%2C%20-46.6373007%5D%2C%20%5B-23.60177075%2C%20-46.67760154%5D%2C%20%5B-23.5032867%2C%20-46.6366951%5D%2C%20%5B-23.5032866%2C%20-46.6368266%5D%2C%20%5B-23.50329369%2C%20-46.6367841%5D%2C%20%5B-23.58443324%2C%20-46.60516321%5D%2C%20%5B-23.5032916%2C%20-46.6371331%5D%2C%20%5B-23.5033033%2C%20-46.636945%5D%2C%20%5B-23.5036273%2C%20-46.6368185%5D%2C%20%5B-23.503278%2C%20-46.6368498%5D%2C%20%5B-23.5033267%2C%20-46.6367883%5D%2C%20%5B-23.5033084%2C%20-46.6373163%5D%2C%20%5B-23.5032959%2C%20-46.6372827%5D%2C%20%5B-23.5032841%2C%20-46.6373566%5D%2C%20%5B-23.5031%2C%20-46.63692%5D%2C%20%5B-23.503335%2C%20-46.636675%5D%2C%20%5B-23.5032604%2C%20-46.6367601%5D%2C%20%5B-23.6108178%2C%20-46.5702857%5D%2C%20%5B-23.503289%2C%20-46.6369199%5D%2C%20%5B-23.6111832%2C%20-46.5706626%5D%2C%20%5B-23.5032849%2C%20-46.6373822%5D%2C%20%5B-23.6115179%2C%20-46.5706344%5D%2C%20%5B-23.5032458%2C%20-46.6367602%5D%2C%20%5B-23.5032714%2C%20-46.6376718%5D%2C%20%5B-23.6220504%2C%20-46.5701294%5D%2C%20%5B-23.5036595%2C%20-46.6368117%5D%2C%20%5B-23.6113573%2C%20-46.5707287%5D%2C%20%5B-23.5047575%2C%20-46.628152%5D%2C%20%5B-23.50331184%2C%20-46.63734066%5D%2C%20%5B-23.6037844%2C%20-46.6446635%5D%2C%20%5B-23.6112857%2C%20-46.5707956%5D%2C%20%5B-23.503144%2C%20-46.6368201%5D%2C%20%5B-23.5032976%2C%20-46.635072%5D%2C%20%5B-23.6114053%2C%20-46.6679377%5D%2C%20%5B-23.5032706%2C%20-46.6368144%5D%2C%20%5B-23.5034537%2C%20-46.6381879%5D%2C%20%5B-23.5032248%2C%20-46.6369166%5D%2C%20%5B-23.5032941%2C%20-46.6369395%5D%2C%20%5B-23.5033833%2C%20-46.63302%5D%2C%20%5B-23.503285%2C%20-46.6379517%5D%2C%20%5B-23.503305%2C%20-46.6368483%5D%2C%20%5B-23.5585955%2C%20-46.6599003%5D%2C%20%5B-23.5033176%2C%20-46.6369607%5D%2C%20%5B-23.5033084%2C%20-46.6370028%5D%2C%20%5B-23.6117808%2C%20-46.5695641%5D%2C%20%5B-23.6031733%2C%20-46.6816183%5D%2C%20%5B-23.6028056%2C%20-46.6743477%5D%2C%20%5B-23.6114159%2C%20-46.570721%5D%2C%20%5B-23.6110598%2C%20-46.5710098%5D%2C%20%5B-23.61111%2C%20-46.57121%5D%2C%20%5B-23.61129%2C%20-46.5710217%5D%2C%20%5B-23.61133%2C%20-46.57136%5D%2C%20%5B-23.6114714%2C%20-46.5706741%5D%2C%20%5B-23.6111852%2C%20-46.5710471%5D%2C%20%5B-23.6114917%2C%20-46.570635%5D%2C%20%5B-23.6111476%2C%20-46.571028%5D%2C%20%5B-23.6111476%2C%20-46.5709583%5D%2C%20%5B-23.6111639%2C%20-46.5708754%5D%2C%20%5B-23.6113337%2C%20-46.5707646%5D%2C%20%5B-23.6112529%2C%20-46.5710238%5D%2C%20%5B-23.6115989%2C%20-46.5706637%5D%2C%20%5B-23.6112042%2C%20-46.5710673%5D%2C%20%5B-23.6113167%2C%20-46.5708367%5D%2C%20%5B-23.6111309%2C%20-46.5712652%5D%2C%20%5B-23.6110929%2C%20-46.5711355%5D%2C%20%5B-23.6111595%2C%20-46.571014%5D%2C%20%5B-23.6165819%2C%20-46.6488992%5D%2C%20%5B-23.6026476%2C%20-46.6453556%5D%2C%20%5B-23.6111404%2C%20-46.5712019%5D%2C%20%5B-23.6056162%2C%20-46.6514685%5D%2C%20%5B-23.6027646%2C%20-46.6451823%5D%2C%20%5B-23.565888%2C%20-46.6846089%5D%2C%20%5B-23.6111281%2C%20-46.5708975%5D%2C%20%5B-23.6111639%2C%20-46.5710143%5D%2C%20%5B-23.6109405%2C%20-46.5708151%5D%2C%20%5B-23.6110963%2C%20-46.5711048%5D%2C%20%5B-23.6111624%2C%20-46.5710234%5D%2C%20%5B-23.6111472%2C%20-46.5712045%5D%2C%20%5B-23.6110169%2C%20-46.5711359%5D%2C%20%5B-23.6111973%2C%20-46.5710136%5D%2C%20%5B-23.6025022%2C%20-46.6450023%5D%2C%20%5B-23.6111199%2C%20-46.5710629%5D%2C%20%5B-23.6006414%2C%20-46.6532394%5D%2C%20%5B-23.6112753%2C%20-46.5708652%5D%2C%20%5B-23.5972652%2C%20-46.6433218%5D%2C%20%5B-23.5988526%2C%20-46.6367352%5D%2C%20%5B-23.6113567%2C%20-46.5709017%5D%2C%20%5B-23.6110715%2C%20-46.5709414%5D%2C%20%5B-23.5976648%2C%20-46.6235027%5D%2C%20%5B-23.61124989%2C%20-46.57104947%5D%2C%20%5B-23.5982048%2C%20-46.6454414%5D%2C%20%5B-23.5740178%2C%20-46.6961832%5D%2C%20%5B-23.5934814%2C%20-46.6527237%5D%2C%20%5B-23.6205906%2C%20-46.6622467%5D%2C%20%5B-23.6027117%2C%20-46.6453367%5D%2C%20%5B-23.6110017%2C%20-46.5711467%5D%2C%20%5B-23.6111864%2C%20-46.5710514%5D%2C%20%5B-23.5996151%2C%20-46.6440468%5D%2C%20%5B-23.6029511%2C%20-46.645261%5D%2C%20%5B-23.6111339%2C%20-46.5717526%5D%2C%20%5B-23.6112239%2C%20-46.5710056%5D%2C%20%5B-23.6108462%2C%20-46.5714736%5D%2C%20%5B-23.58972914%2C%20-46.63000504%5D%2C%20%5B-23.6026436%2C%20-46.645322%5D%2C%20%5B-23.61320343%2C%20-46.57176448%5D%2C%20%5B-23.6026663%2C%20-46.6479603%5D%2C%20%5B-23.6112543%2C%20-46.5708784%5D%2C%20%5B-23.6042626%2C%20-46.6596683%5D%2C%20%5B-23.6111272%2C%20-46.5709949%5D%2C%20%5B-23.61118154%2C%20-46.57110295%5D%2C%20%5B-22.9030567%2C%20-43.1346819%5D%2C%20%5B-22.9020982%2C%20-43.114359%5D%2C%20%5B-23.6026564%2C%20-46.6450948%5D%2C%20%5B-23.60262936%2C%20-46.64534986%5D%2C%20%5B-23.6026706%2C%20-46.6650192%5D%2C%20%5B-23.6110216%2C%20-46.571107%5D%2C%20%5B-23.6135612%2C%20-46.5763797%5D%2C%20%5B-23.6026544%2C%20-46.6453572%5D%2C%20%5B-23.6160678%2C%20-46.665922%5D%2C%20%5B-23.6027604%2C%20-46.6448974%5D%2C%20%5B-23.6027366%2C%20-46.6453516%5D%2C%20%5B-23.5695488%2C%20-46.6724122%5D%2C%20%5B-23.6008616%2C%20-46.6444944%5D%2C%20%5B-23.6115765%2C%20-46.5706182%5D%5D%2C%0A%20%20%20%20%20%20%20%20%20%20%20%20%20%20%20%20%7B%22blur%22%3A%2015%2C%20%22maxZoom%22%3A%2018%2C%20%22minOpacity%22%3A%200.5%2C%20%22radius%22%3A%2025%7D%0A%20%20%20%20%20%20%20%20%20%20%20%20%29.addTo%28map_e23fd6ac16744ad685d1c02e53babdc7%29%3B%0A%20%20%20%20%20%20%20%20%0A%3C/script%3E onload=\"this.contentDocument.open();this.contentDocument.write(    decodeURIComponent(this.getAttribute('data-html')));this.contentDocument.close();\" allowfullscreen webkitallowfullscreen mozallowfullscreen></iframe></div></div>"
      ],
      "text/plain": [
       "<folium.folium.Map at 0x1a65c004250>"
      ]
     },
     "execution_count": 36,
     "metadata": {},
     "output_type": "execute_result"
    }
   ],
   "source": [
    "#3. Where did most of the layoffs take place?\n",
    "!pip install folium\n",
    "import folium\n",
    "from folium import plugins\n",
    "coord=[]\n",
    "for lat,lng in zip(df['Dropoff Lat'],df['Dropoff Lng']):\n",
    "  coord.append([lat,lng])\n",
    "map = folium.Map(\n",
    "    location=[-23.5489,-46.6388],\n",
    "    tiles='Stamen Terrain',\n",
    "    zoom_start=12,\n",
    "    width='100%', \n",
    "    height='100%',\n",
    "    control_scale=True)\n",
    "map.add_child(plugins.HeatMap(coord))"
   ]
  },
  {
   "cell_type": "code",
   "execution_count": 84,
   "metadata": {},
   "outputs": [
    {
     "data": {
      "text/plain": [
       "<AxesSubplot:xlabel='year'>"
      ]
     },
     "execution_count": 84,
     "metadata": {},
     "output_type": "execute_result"
    },
    {
     "data": {
      "image/png": "[encoded data removed]",
      "text/plain": [
       "<Figure size 864x360 with 1 Axes>"
      ]
     },
     "metadata": {
      "needs_background": "light"
     },
     "output_type": "display_data"
    }
   ],
   "source": [
    "# 4. What type of product is most often selected?\n",
    "df.groupby('year')['Product Type'].value_counts(normalize=True).unstack('Product Type').plot.bar(stacked=True,figsize=(12,5))"
   ]
  },
  {
   "cell_type": "code",
   "execution_count": 37,
   "metadata": {},
   "outputs": [
    {
     "data": {
      "text/html": [
       "<div>\n",
       "<style scoped>\n",
       "    .dataframe tbody tr th:only-of-type {\n",
       "        vertical-align: middle;\n",
       "    }\n",
       "\n",
       "    .dataframe tbody tr th {\n",
       "        vertical-align: top;\n",
       "    }\n",
       "\n",
       "    .dataframe thead th {\n",
       "        text-align: right;\n",
       "    }\n",
       "</style>\n",
       "<table border=\"1\" class=\"dataframe\">\n",
       "  <thead>\n",
       "    <tr style=\"text-align: right;\">\n",
       "      <th></th>\n",
       "      <th>Unnamed: 0</th>\n",
       "      <th>City</th>\n",
       "      <th>Product Type</th>\n",
       "      <th>Trip or Order Status</th>\n",
       "      <th>Request Time</th>\n",
       "      <th>Begin Trip Time</th>\n",
       "      <th>Begin Trip Lat</th>\n",
       "      <th>Begin Trip Lng</th>\n",
       "      <th>Dropoff Time</th>\n",
       "      <th>Dropoff Lat</th>\n",
       "      <th>Dropoff Lng</th>\n",
       "      <th>Distance (miles)</th>\n",
       "      <th>Fare Amount</th>\n",
       "      <th>Fare Currency</th>\n",
       "      <th>year</th>\n",
       "      <th>month</th>\n",
       "      <th>day</th>\n",
       "      <th>distance_km</th>\n",
       "      <th>price_per_km</th>\n",
       "    </tr>\n",
       "  </thead>\n",
       "  <tbody>\n",
       "    <tr>\n",
       "      <th>0</th>\n",
       "      <td>0</td>\n",
       "      <td>458</td>\n",
       "      <td>Black</td>\n",
       "      <td>COMPLETED</td>\n",
       "      <td>2021-01-13 22:06:46</td>\n",
       "      <td>2021-01-13 22:11:10</td>\n",
       "      <td>-23.599752</td>\n",
       "      <td>-46.715954</td>\n",
       "      <td>2021-01-13 22:29:13</td>\n",
       "      <td>-23.559359</td>\n",
       "      <td>-46.666542</td>\n",
       "      <td>4.84</td>\n",
       "      <td>29.63</td>\n",
       "      <td>BRL</td>\n",
       "      <td>2021</td>\n",
       "      <td>1</td>\n",
       "      <td>Wednesday</td>\n",
       "      <td>7.79</td>\n",
       "      <td>3.80</td>\n",
       "    </tr>\n",
       "    <tr>\n",
       "      <th>1</th>\n",
       "      <td>1</td>\n",
       "      <td>458</td>\n",
       "      <td>UberX</td>\n",
       "      <td>COMPLETED</td>\n",
       "      <td>2021-01-13 20:21:05</td>\n",
       "      <td>2021-01-13 20:27:29</td>\n",
       "      <td>-23.559298</td>\n",
       "      <td>-46.666454</td>\n",
       "      <td>2021-01-13 20:54:50</td>\n",
       "      <td>-23.599585</td>\n",
       "      <td>-46.715717</td>\n",
       "      <td>5.31</td>\n",
       "      <td>20.86</td>\n",
       "      <td>BRL</td>\n",
       "      <td>2021</td>\n",
       "      <td>1</td>\n",
       "      <td>Wednesday</td>\n",
       "      <td>8.55</td>\n",
       "      <td>2.44</td>\n",
       "    </tr>\n",
       "  </tbody>\n",
       "</table>\n",
       "</div>"
      ],
      "text/plain": [
       "   Unnamed: 0  City Product Type Trip or Order Status        Request Time  \\\n",
       "0           0   458        Black            COMPLETED 2021-01-13 22:06:46   \n",
       "1           1   458        UberX            COMPLETED 2021-01-13 20:21:05   \n",
       "\n",
       "      Begin Trip Time  Begin Trip Lat  Begin Trip Lng        Dropoff Time  \\\n",
       "0 2021-01-13 22:11:10      -23.599752      -46.715954 2021-01-13 22:29:13   \n",
       "1 2021-01-13 20:27:29      -23.559298      -46.666454 2021-01-13 20:54:50   \n",
       "\n",
       "   Dropoff Lat  Dropoff Lng  Distance (miles)  Fare Amount Fare Currency  \\\n",
       "0   -23.559359   -46.666542              4.84        29.63           BRL   \n",
       "1   -23.599585   -46.715717              5.31        20.86           BRL   \n",
       "\n",
       "   year  month        day  distance_km  price_per_km  \n",
       "0  2021      1  Wednesday         7.79          3.80  \n",
       "1  2021      1  Wednesday         8.55          2.44  "
      ]
     },
     "execution_count": 37,
     "metadata": {},
     "output_type": "execute_result"
    }
   ],
   "source": [
    "\n",
    "# 5. What a measure. fare, distance, amount, and time spent on the ride?\n",
    "\n",
    "df.head(2)"
   ]
  },
  {
   "cell_type": "code",
   "execution_count": 38,
   "metadata": {},
   "outputs": [
    {
     "data": {
      "application/javascript": "\n        if (window._pyforest_update_imports_cell) { window._pyforest_update_imports_cell('import pandas as pd\\nimport numpy as np'); }\n    ",
      "text/plain": [
       "<IPython.core.display.Javascript object>"
      ]
     },
     "metadata": {},
     "output_type": "display_data"
    },
    {
     "name": "stdout",
     "output_type": "stream",
     "text": [
      "Average distance travelled is 6.87 km\n"
     ]
    },
    {
     "data": {
      "application/javascript": "\n        if (window._pyforest_update_imports_cell) { window._pyforest_update_imports_cell('import pandas as pd\\nimport numpy as np'); }\n    ",
      "text/plain": [
       "<IPython.core.display.Javascript object>"
      ]
     },
     "metadata": {},
     "output_type": "display_data"
    },
    {
     "name": "stdout",
     "output_type": "stream",
     "text": [
      "Average price is 17.18 BRL\n"
     ]
    }
   ],
   "source": [
    "print('Average distance travelled is {i} km'.format(i=round(np.mean(df['distance_km']),2)))\n",
    "print('Average price is {i} BRL'.format(i=round(np.mean(df['Fare Amount']),2)))"
   ]
  },
  {
   "cell_type": "code",
   "execution_count": 39,
   "metadata": {},
   "outputs": [],
   "source": [
    "df['Travel_time_min']=(df['Dropoff Time']-df['Begin Trip Time']).apply(lambda x: round(x.total_seconds()/60,0))"
   ]
  },
  {
   "cell_type": "code",
   "execution_count": 40,
   "metadata": {},
   "outputs": [
    {
     "data": {
      "application/javascript": "\n        if (window._pyforest_update_imports_cell) { window._pyforest_update_imports_cell('import pandas as pd\\nimport numpy as np'); }\n    ",
      "text/plain": [
       "<IPython.core.display.Javascript object>"
      ]
     },
     "metadata": {},
     "output_type": "display_data"
    },
    {
     "name": "stdout",
     "output_type": "stream",
     "text": [
      "Average distance travelled is 6.87 km\n",
      "Average time travelled is 19.0 min\n"
     ]
    },
    {
     "data": {
      "application/javascript": "\n        if (window._pyforest_update_imports_cell) { window._pyforest_update_imports_cell('import pandas as pd\\nimport numpy as np'); }\n    ",
      "text/plain": [
       "<IPython.core.display.Javascript object>"
      ]
     },
     "metadata": {},
     "output_type": "display_data"
    },
    {
     "name": "stdout",
     "output_type": "stream",
     "text": [
      "Total distance travelled is 3608.66 km\n",
      "Total time travelled is 9665.0 min\n"
     ]
    },
    {
     "data": {
      "application/javascript": "\n        if (window._pyforest_update_imports_cell) { window._pyforest_update_imports_cell('import pandas as pd\\nimport numpy as np'); }\n    ",
      "text/plain": [
       "<IPython.core.display.Javascript object>"
      ]
     },
     "metadata": {},
     "output_type": "display_data"
    },
    {
     "name": "stdout",
     "output_type": "stream",
     "text": [
      "Average price is 17.18 BRL\n"
     ]
    },
    {
     "data": {
      "application/javascript": "\n        if (window._pyforest_update_imports_cell) { window._pyforest_update_imports_cell('import pandas as pd\\nimport numpy as np'); }\n    ",
      "text/plain": [
       "<IPython.core.display.Javascript object>"
      ]
     },
     "metadata": {},
     "output_type": "display_data"
    },
    {
     "data": {
      "application/javascript": "\n        if (window._pyforest_update_imports_cell) { window._pyforest_update_imports_cell('import pandas as pd\\nimport numpy as np'); }\n    ",
      "text/plain": [
       "<IPython.core.display.Javascript object>"
      ]
     },
     "metadata": {},
     "output_type": "display_data"
    },
    {
     "name": "stdout",
     "output_type": "stream",
     "text": [
      "Average price 2.5 BRL/km\n"
     ]
    }
   ],
   "source": [
    "print('Average distance travelled is {i} km'.format(i=round(np.mean(df['distance_km']),2)))\n",
    "print('Average time travelled is {i} min'.format(i=round(((df['Dropoff Time']-df['Begin Trip Time']).apply(lambda x: round(x.total_seconds()/60,0)).sort_values()[7:]).mean(),0)))\n",
    "print('Total distance travelled is {i} km'.format(i=round(np.sum(df['distance_km']),2)))\n",
    "print('Total time travelled is {i} min'.format(i=round(((df['Dropoff Time']-df['Begin Trip Time']).apply(lambda x: round(x.total_seconds()/60,0)).sort_values()[7:]).sum(),0)))\n",
    "print('Average price is {i} BRL'.format(i=round(np.mean(df['Fare Amount']),2)))\n",
    "print('Average price {i} BRL/km'.format(i=round((np.sum(df['Fare Amount'])/np.sum(df['distance_km'])),2)))"
   ]
  },
  {
   "cell_type": "code",
   "execution_count": 44,
   "metadata": {},
   "outputs": [
    {
     "data": {
      "text/plain": [
       "<AxesSubplot:xlabel='day'>"
      ]
     },
     "execution_count": 44,
     "metadata": {},
     "output_type": "execute_result"
    },
    {
     "data": {
      "image/png": "[encoded data removed]",
      "text/plain": [
       "<Figure size 432x288 with 1 Axes>"
      ]
     },
     "metadata": {
      "needs_background": "light"
     },
     "output_type": "display_data"
    }
   ],
   "source": [
    "#6. Which days of the week have the highest fare?\n",
    "df[df['Trip or Order Status']=='COMPLETED'].groupby('day')['price_per_km'].max().plot.bar()"
   ]
  },
  {
   "cell_type": "code",
   "execution_count": 57,
   "metadata": {},
   "outputs": [
    {
     "data": {
      "text/plain": [
       "[{'longest_ride in km': 31.77,\n",
       "  'shortest_ride in km': 0.24,\n",
       "  'most_expensive ride in Rs per km': 46.96,\n",
       "  'cheapest ride in rs per km': 0.0}]"
      ]
     },
     "execution_count": 57,
     "metadata": {},
     "output_type": "execute_result"
    }
   ],
   "source": [
    "\n",
    "# 7. Which is the longest / shortest and most expensive / cheapest ride?\n",
    "\n",
    "ans7=[]\n",
    "def show_result(df):\n",
    "    dff=df[df['Trip or Order Status']=='COMPLETED']\n",
    "    ans7.append({\n",
    "    'longest_ride in km':dff['distance_km'].max(),\n",
    "    'shortest_ride in km':dff['distance_km'].min(),\n",
    "    'most_expensive ride in Rs per km':dff['price_per_km'].max(),\n",
    "    'cheapest ride in rs per km':dff['price_per_km'].min()\n",
    "    \n",
    "})\n",
    "show_result(df)\n",
    "ans7"
   ]
  },
  {
   "cell_type": "code",
   "execution_count": 81,
   "metadata": {},
   "outputs": [
    {
     "name": "stdout",
     "output_type": "stream",
     "text": [
      "average lead time before requesting a trip is 5.4 min\n"
     ]
    }
   ],
   "source": [
    "# 8. What is the average lead time before requesting a trip?\n",
    "df['lead_time']=(df['Begin Trip Time']-df['Request Time']).apply(lambda x: round(x.total_seconds()/60,1))\n",
    "print('average lead time before requesting a trip is {i} min'.format(i=round(df[df['lead_time']>=0]['lead_time'].mean(),1)))"
   ]
  },
  {
   "cell_type": "code",
   "execution_count": null,
   "metadata": {},
   "outputs": [],
   "source": []
  }
 ],
 "metadata": {
  "interpreter": {
   "hash": "1fad7b21e112172dec91b5b510c95671b515bcca1804ad8ffcaf6fda457bb514"
  },
  "kernelspec": {
   "display_name": "Python 3.8.12 ('base')",
   "language": "python",
   "name": "python3"
  },
  "language_info": {
   "codemirror_mode": {
    "name": "ipython",
    "version": 3
   },
   "file_extension": ".py",
   "mimetype": "text/x-python",
   "name": "python",
   "nbconvert_exporter": "python",
   "pygments_lexer": "ipython3",
   "version": "3.8.12"
  },
  "orig_nbformat": 4
 },
 "nbformat": 4,
 "nbformat_minor": 2
}
