{
 "cells": [
  {
   "cell_type": "code",
   "execution_count": 1,
   "metadata": {},
   "outputs": [
    {
     "name": "stdout",
     "output_type": "stream",
     "text": [
      "connection allowed\n"
     ]
    }
   ],
   "source": [
    "import requests\n",
    "response = requests.get(\"https://meritindia.in/state-data/arunachal-pradesh\")\n",
    "if response.status_code != 200:\n",
    "\tprint(\"Error fetching page\")\n",
    "\texit()\n",
    "else:\n",
    "    print(\"connection allowed\")"
   ]
  },
  {
   "cell_type": "code",
   "execution_count": 2,
   "metadata": {},
   "outputs": [],
   "source": [
    "from bs4 import BeautifulSoup\n",
    "soup = BeautifulSoup(response.content, 'html.parser')\n"
   ]
  },
  {
   "cell_type": "code",
   "execution_count": 3,
   "metadata": {},
   "outputs": [
    {
     "name": "stdout",
     "output_type": "stream",
     "text": [
      "<div id=\"ShowDetailsForMerit\" style=\"display: none;\">\n",
      "<div class=\"col-md-12\" style=\"padding-top: 30px; padding-left: 1px; padding-right: 1px; overflow-x: auto;\">\n",
      "<table class=\"toggle-square toggle-medium footable table tbl_smallFont table-striped table-bordered table-hover\" data-sorting=\"true\">\n",
      "<thead>\n",
      "<tr>\n",
      "<th data-sort-ignore=\"true\">\n",
      "<label for=\"No\">No</label>\n",
      "</th>\n",
      "<th>\n",
      "<label for=\"Station\" style=\"cursor:pointer;\">Station</label>\n",
      "</th>\n",
      "<th data-type=\"numeric\">\n",
      "<label for=\"Plant_Capacity\" style=\"cursor:pointer;\">Plant Capacity</label><br/>\n",
      "<label for=\"\" style=\"cursor:pointer;\">(MW)</label>\n",
      "</th>\n",
      "<th data-type=\"numeric\">\n",
      "<label for=\"Capacity_Allocated_to_State\" style=\"cursor:pointer;\">Capacity Allocated to State</label><br/>\n",
      "<label for=\"\" style=\"cursor:pointer;\">(MW)</label>\n",
      "</th>\n",
      "<th>\n",
      "<label for=\"Type_of_Station\" style=\"cursor:pointer;\">Type of Station</label>\n",
      "</th>\n",
      "<th>\n",
      "<label for=\"Ownership\" style=\"cursor:pointer;\">Ownership</label>\n",
      "</th>\n",
      "<th data-type=\"numeric\">\n",
      "<label for=\"Variable_Cost\" style=\"cursor:pointer;\">Variable Cost</label><br/>\n",
      "<label for=\"\" style=\"cursor:pointer;\">(Rs/Unit)</label>\n",
      "</th>\n",
      "<th data-type=\"numeric\">\n",
      "<label for=\"Fixed_Cost\" style=\"cursor:pointer;\">Fixed Cost</label><br/>\n",
      "<label for=\"\" style=\"cursor:pointer;\">(Rs/Unit)</label>\n",
      "</th>\n",
      "<th data-type=\"numeric\">\n",
      "<label for=\"Total_Cost\" style=\"cursor:pointer;\">Total Cost</label><br/>\n",
      "<label for=\"\" style=\"cursor:pointer;\">(Rs/Unit)</label>\n",
      "</th>\n",
      "<th data-type=\"numeric\">\n",
      "<label for=\"Declared_Capability\" style=\"cursor:pointer;\">Declared Capability</label><br/>\n",
      "<label for=\"\" style=\"cursor:pointer;\">(MWh)</label>\n",
      "</th>\n",
      "<th data-type=\"numeric\">\n",
      "<label for=\"Schedule\" style=\"cursor:pointer;\">Schedule</label><br/>\n",
      "<label for=\"\" style=\"cursor:pointer;\">(MWh)</label>\n",
      "</th>\n",
      "<th data-type=\"numeric\">\n",
      "<label for=\"Deviation_from_Merit_Order\" style=\"cursor:pointer;\">Deviation from Merit Order</label><br/>\n",
      "<label for=\"\" style=\"cursor:pointer;\">(MWh)</label>\n",
      "</th>\n",
      "<th data-sort-ignore=\"true\">\n",
      "<label for=\"Reason_for_Deviation___Remarks__if_any_\">Reason for Deviation / Remarks (if any)</label>\n",
      "</th>\n",
      "</tr>\n",
      "</thead>\n",
      "<tbody>\n",
      "<tr>\n",
      "<td>1</td>\n",
      "<td>KOPILI-1, NEEPCO</td>\n",
      "<td class=\"Num_center\">            200</td>\n",
      "<td class=\"Num_center\">             10</td>\n",
      "<td>Hydro</td>\n",
      "<td>Central ISGS</td>\n",
      "<td class=\"Num_center\"><span style=\"display: none;\">999</span>-</td>\n",
      "<td class=\"Num_center\">-</td>\n",
      "<td class=\"Num_center\">-</td>\n",
      "<td class=\"Num_center\">-</td>\n",
      "<td class=\"Num_center\">-</td>\n",
      "<td class=\"Num_center\">-</td>\n",
      "<td>\n",
      "</td>\n",
      "</tr>\n",
      "<tr>\n",
      "<td>2</td>\n",
      "<td>KOPILI-2, NEEPCO</td>\n",
      "<td class=\"Num_center\">             25</td>\n",
      "<td class=\"Num_center\">              1</td>\n",
      "<td>Hydro</td>\n",
      "<td>Central ISGS</td>\n",
      "<td class=\"Num_center\"><span style=\"display: none;\">999</span>-</td>\n",
      "<td class=\"Num_center\">-</td>\n",
      "<td class=\"Num_center\">-</td>\n",
      "<td class=\"Num_center\">-</td>\n",
      "<td class=\"Num_center\">-</td>\n",
      "<td class=\"Num_center\">-</td>\n",
      "<td>\n",
      "</td>\n",
      "</tr>\n",
      "<tr>\n",
      "<td>3</td>\n",
      "<td>KHANDONG, NEEPCO</td>\n",
      "<td class=\"Num_center\">             50</td>\n",
      "<td class=\"Num_center\">              2</td>\n",
      "<td>Hydro</td>\n",
      "<td>Central ISGS</td>\n",
      "<td class=\"Num_center\"><span style=\"display: none;\">999</span>-</td>\n",
      "<td class=\"Num_center\">-</td>\n",
      "<td class=\"Num_center\">-</td>\n",
      "<td class=\"Num_center\">-</td>\n",
      "<td class=\"Num_center\">-</td>\n",
      "<td class=\"Num_center\">-</td>\n",
      "<td>\n",
      "</td>\n",
      "</tr>\n",
      "<tr>\n",
      "<td>4</td>\n",
      "<td>RANGANADI, NEEPCO</td>\n",
      "<td class=\"Num_center\">            405</td>\n",
      "<td class=\"Num_center\">             74</td>\n",
      "<td>Hydro</td>\n",
      "<td>Central ISGS</td>\n",
      "<td class=\"Num_center\"><span style=\"display: none;\">999</span>-</td>\n",
      "<td class=\"Num_center\">-</td>\n",
      "<td class=\"Num_center\">-</td>\n",
      "<td class=\"Num_center\">-</td>\n",
      "<td class=\"Num_center\">-</td>\n",
      "<td class=\"Num_center\">-</td>\n",
      "<td>\n",
      "</td>\n",
      "</tr>\n",
      "<tr>\n",
      "<td>5</td>\n",
      "<td>DOYANG, NEEPCO</td>\n",
      "<td class=\"Num_center\">             75</td>\n",
      "<td class=\"Num_center\">              5</td>\n",
      "<td>Hydro</td>\n",
      "<td>Central ISGS</td>\n",
      "<td class=\"Num_center\"><span style=\"display: none;\">999</span>-</td>\n",
      "<td class=\"Num_center\">-</td>\n",
      "<td class=\"Num_center\">-</td>\n",
      "<td class=\"Num_center\">-</td>\n",
      "<td class=\"Num_center\">-</td>\n",
      "<td class=\"Num_center\">-</td>\n",
      "<td>\n",
      "</td>\n",
      "</tr>\n",
      "<tr>\n",
      "<td>6</td>\n",
      "<td>AGBPP, NEEPCO</td>\n",
      "<td class=\"Num_center\">            291</td>\n",
      "<td class=\"Num_center\">             16</td>\n",
      "<td>Gas</td>\n",
      "<td>Central ISGS</td>\n",
      "<td class=\"Num_center\"><span style=\"display: none;\">999</span>-</td>\n",
      "<td class=\"Num_center\">-</td>\n",
      "<td class=\"Num_center\">-</td>\n",
      "<td class=\"Num_center\">-</td>\n",
      "<td class=\"Num_center\">-</td>\n",
      "<td class=\"Num_center\">-</td>\n",
      "<td>\n",
      "</td>\n",
      "</tr>\n",
      "<tr>\n",
      "<td>7</td>\n",
      "<td>LOKTAK, NHPC</td>\n",
      "<td class=\"Num_center\">            105</td>\n",
      "<td class=\"Num_center\">              5</td>\n",
      "<td>Hydro</td>\n",
      "<td>Central ISGS</td>\n",
      "<td class=\"Num_center\"><span style=\"display: none;\">999</span>-</td>\n",
      "<td class=\"Num_center\">-</td>\n",
      "<td class=\"Num_center\">-</td>\n",
      "<td class=\"Num_center\">-</td>\n",
      "<td class=\"Num_center\">-</td>\n",
      "<td class=\"Num_center\">-</td>\n",
      "<td>\n",
      "</td>\n",
      "</tr>\n",
      "<tr>\n",
      "<td>8</td>\n",
      "<td>PALATANA</td>\n",
      "<td class=\"Num_center\">            727</td>\n",
      "<td class=\"Num_center\">             21</td>\n",
      "<td>Gas</td>\n",
      "<td>Central ISGS</td>\n",
      "<td class=\"Num_center\"><span style=\"display: none;\">999</span>-</td>\n",
      "<td class=\"Num_center\">-</td>\n",
      "<td class=\"Num_center\">-</td>\n",
      "<td class=\"Num_center\">-</td>\n",
      "<td class=\"Num_center\">-</td>\n",
      "<td class=\"Num_center\">-</td>\n",
      "<td>\n",
      "</td>\n",
      "</tr>\n",
      "<tr>\n",
      "<td>9</td>\n",
      "<td>AGTPP-CC</td>\n",
      "<td class=\"Num_center\">            130</td>\n",
      "<td class=\"Num_center\">              8</td>\n",
      "<td>Gas</td>\n",
      "<td>Central ISGS</td>\n",
      "<td class=\"Num_center\"><span style=\"display: none;\">999</span>-</td>\n",
      "<td class=\"Num_center\">-</td>\n",
      "<td class=\"Num_center\">-</td>\n",
      "<td class=\"Num_center\">-</td>\n",
      "<td class=\"Num_center\">-</td>\n",
      "<td class=\"Num_center\">-</td>\n",
      "<td>\n",
      "</td>\n",
      "</tr>\n",
      "<tr>\n",
      "<td>10</td>\n",
      "<td>NTPC BONGAIGAON</td>\n",
      "<td class=\"Num_center\">            250</td>\n",
      "<td class=\"Num_center\">             12</td>\n",
      "<td>Thermal</td>\n",
      "<td>Central ISGS</td>\n",
      "<td class=\"Num_center\"><span style=\"display: none;\">999</span>-</td>\n",
      "<td class=\"Num_center\">-</td>\n",
      "<td class=\"Num_center\">-</td>\n",
      "<td class=\"Num_center\">-</td>\n",
      "<td class=\"Num_center\">-</td>\n",
      "<td class=\"Num_center\">-</td>\n",
      "<td>\n",
      "</td>\n",
      "</tr>\n",
      "<tr>\n",
      "<td>11</td>\n",
      "<td>FARAKKA</td>\n",
      "<td class=\"Num_center\">-</td>\n",
      "<td class=\"Num_center\">              3</td>\n",
      "<td>Thermal</td>\n",
      "<td>Central ISGS</td>\n",
      "<td class=\"Num_center\"><span style=\"display: none;\">999</span>-</td>\n",
      "<td class=\"Num_center\">-</td>\n",
      "<td class=\"Num_center\">-</td>\n",
      "<td class=\"Num_center\">-</td>\n",
      "<td class=\"Num_center\">-</td>\n",
      "<td class=\"Num_center\">-</td>\n",
      "<td>\n",
      "</td>\n",
      "</tr>\n",
      "<tr>\n",
      "<td>12</td>\n",
      "<td>KAHALGAON - I</td>\n",
      "<td class=\"Num_center\">            840</td>\n",
      "<td class=\"Num_center\">              1</td>\n",
      "<td>Thermal</td>\n",
      "<td>Central ISGS</td>\n",
      "<td class=\"Num_center\"><span style=\"display: none;\">999</span>-</td>\n",
      "<td class=\"Num_center\">-</td>\n",
      "<td class=\"Num_center\">-</td>\n",
      "<td class=\"Num_center\">-</td>\n",
      "<td class=\"Num_center\">-</td>\n",
      "<td class=\"Num_center\">-</td>\n",
      "<td>\n",
      "</td>\n",
      "</tr>\n",
      "<tr>\n",
      "<td>13</td>\n",
      "<td>TALCHER</td>\n",
      "<td class=\"Num_center\">          1,000</td>\n",
      "<td class=\"Num_center\">              2</td>\n",
      "<td>Thermal</td>\n",
      "<td>Central ISGS</td>\n",
      "<td class=\"Num_center\"><span style=\"display: none;\">999</span>-</td>\n",
      "<td class=\"Num_center\">-</td>\n",
      "<td class=\"Num_center\">-</td>\n",
      "<td class=\"Num_center\">-</td>\n",
      "<td class=\"Num_center\">-</td>\n",
      "<td class=\"Num_center\">-</td>\n",
      "<td>\n",
      "</td>\n",
      "</tr>\n",
      "</tbody>\n",
      "</table>\n",
      "</div>\n",
      "<div class=\"col-md-12\" style=\"padding-left: 0px; padding-right: 0px; padding-bottom: 15px;\">\n",
      "<div class=\"col-md-10\" style=\"padding: 0px;\"></div>\n",
      "<div class=\"col-md-2\" style=\"padding: 0px;\"><a data-target=\"#Excel_export\" data-toggle=\"modal\" onclick=\"ShowExcelExportPopup();\" style=\"cursor: pointer;\">Export To Excel</a></div>\n",
      "</div>\n",
      "<div class=\"col-md-12\" style=\"padding-left: 0; padding-right: 0;\">\n",
      "<div class=\"col-md-2\"></div>\n",
      "<div class=\"col-md-8\" style=\"overflow-x: auto; padding-left: 1px; padding-right: 1px;\">\n",
      "<table class=\"toggle-square toggle-medium footable table tbl_smallFont table-striped table-bordered table-hover\" data-expand-first=\"true\" data-filter=\"#filter\" data-filter-text-only=\"true\" data-page-navigation=\".pagination\" data-page-size=\"10\" data-show-toggle=\"false\" id=\"CompletedRequest_table\">\n",
      "<thead>\n",
      "<tr>\n",
      "<th data-sort-ignore=\"true\" width=\"5%\">\n",
      "<label for=\"No\">No</label>\n",
      "</th>\n",
      "<th data-sort-ignore=\"true\" width=\"10%\">\n",
      "<label for=\"Description\">Description</label>\n",
      "</th>\n",
      "<th data-sort-ignore=\"true\" width=\"10%\">\n",
      "<label for=\"Total_Energy_Purchased_during_the_day\">Total Energy Purchased during the day</label><br/><label for=\"\">(MWh)</label>\n",
      "</th>\n",
      "<th data-sort-ignore=\"true\" with=\"10%\">\n",
      "<label for=\"Max_Procurement_Cost\">Max Procurement Cost</label><br/><label for=\"\">(Rs/Unit)</label>\n",
      "</th>\n",
      "<th data-sort-ignore=\"true\" width=\"10%\">\n",
      "<label for=\"Min_Procurement_Cost\">Min Procurement Cost</label><br/><label for=\"\">(Rs/Unit)</label>\n",
      "</th>\n",
      "<th data-sort-ignore=\"true\" width=\"10%\">\n",
      "<label for=\"Avg_Procurement_Cost\">Avg Procurement Cost</label><br/><label for=\"\">(Rs/Unit)</label>\n",
      "</th>\n",
      "<th data-sort-ignore=\"true\" width=\"10%\">\n",
      "<label for=\"Power_Purchased_at_Max_Rate_during_the_Day\">Power Purchased at Max Rate during the Day</label><br/><label for=\"\">(MW)</label>\n",
      "</th>\n",
      "<th data-sort-ignore=\"true\" width=\"35%\">\n",
      "<label for=\"Remark__if_any\">Remark, if any</label>\n",
      "</th>\n",
      "</tr>\n",
      "</thead>\n",
      "<tbody>\n",
      "<tr>\n",
      "<td>1</td>\n",
      "<td>Bilateral</td>\n",
      "<td class=\"Num_center\">-</td>\n",
      "<td class=\"Num_center\">-</td>\n",
      "<td class=\"Num_center\">-</td>\n",
      "<td class=\"Num_center\">-</td>\n",
      "<td class=\"Num_center\">-</td>\n",
      "<td></td>\n",
      "</tr>\n",
      "<tr>\n",
      "<td>2</td>\n",
      "<td>Power Exchange</td>\n",
      "<td class=\"Num_center\">-</td>\n",
      "<td class=\"Num_center\">-</td>\n",
      "<td class=\"Num_center\">-</td>\n",
      "<td class=\"Num_center\">-</td>\n",
      "<td class=\"Num_center\">-</td>\n",
      "<td></td>\n",
      "</tr>\n",
      "</tbody>\n",
      "</table>\n",
      "</div>\n",
      "<div class=\"col-md-2\"></div>\n",
      "</div>\n",
      "</div>\n"
     ]
    }
   ],
   "source": [
    "\n",
    "div = soup.find(\"div\", {\"id\": \"ShowDetailsForMerit\"})\n",
    "\n",
    "content = str(div)\n",
    "\n",
    "print(content)"
   ]
  },
  {
   "cell_type": "code",
   "execution_count": 4,
   "metadata": {},
   "outputs": [],
   "source": [
    "import pandas as pd"
   ]
  },
  {
   "cell_type": "code",
   "execution_count": 5,
   "metadata": {},
   "outputs": [],
   "source": [
    "df=pd.read_excel(\"https://meritindia.in/StateWiseDetails/ExportToExcel?StateCode=ACP&RecordDate=11%20Mar%202022&DiscomCode=0\")"
   ]
  },
  {
   "cell_type": "code",
   "execution_count": 38,
   "metadata": {},
   "outputs": [],
   "source": [
    "df1=pd.read_csv(\"F:\\Github\\indian_state_code.csv\")"
   ]
  },
  {
   "cell_type": "code",
   "execution_count": 7,
   "metadata": {},
   "outputs": [
    {
     "name": "stdout",
     "output_type": "stream",
     "text": [
      "AP\n",
      "ACP\n",
      "ASM\n",
      "BHR\n",
      "CHG\n",
      "CTG\n",
      "DNH\n",
      "DND\n",
      "DL\n",
      "GOA\n",
      "GJT\n",
      "HRN\n",
      "HP\n",
      "JAK\n",
      "JHK\n",
      "KRT\n",
      "KRL\n",
      "MPD\n",
      "MHA\n",
      "MIP\n",
      "MGA\n",
      "MZM\n",
      "NGD\n",
      "ODI\n",
      "PU\n",
      "PNB\n",
      "RJ\n",
      "SKM\n",
      "TND\n",
      "TLG\n",
      "TPA\n",
      "UP\n",
      "UTK\n",
      "BGL\n"
     ]
    }
   ],
   "source": [
    "for i in df1.State_code.unique():\n",
    "    print(i)"
   ]
  },
  {
   "cell_type": "code",
   "execution_count": 8,
   "metadata": {},
   "outputs": [],
   "source": [
    "df=pd.read_excel(\"https://meritindia.in/StateWiseDetails/ExportToExcel?StateCode=BGL&RecordDate=11%20Mar%202022&DiscomCode=0\")"
   ]
  },
  {
   "cell_type": "code",
   "execution_count": 9,
   "metadata": {},
   "outputs": [
    {
     "name": "stderr",
     "output_type": "stream",
     "text": [
      "C:\\Users\\Balram\\AppData\\Local\\Temp/ipykernel_7836/476604036.py:6: FutureWarning: The frame.append method is deprecated and will be removed from pandas in a future version. Use pandas.concat instead.\n",
      "  all_india_data=all_india_data.append(df2,ignore_index=True)\n",
      "C:\\Users\\Balram\\AppData\\Local\\Temp/ipykernel_7836/476604036.py:6: FutureWarning: The frame.append method is deprecated and will be removed from pandas in a future version. Use pandas.concat instead.\n",
      "  all_india_data=all_india_data.append(df2,ignore_index=True)\n",
      "C:\\Users\\Balram\\AppData\\Local\\Temp/ipykernel_7836/476604036.py:6: FutureWarning: The frame.append method is deprecated and will be removed from pandas in a future version. Use pandas.concat instead.\n",
      "  all_india_data=all_india_data.append(df2,ignore_index=True)\n",
      "C:\\Users\\Balram\\AppData\\Local\\Temp/ipykernel_7836/476604036.py:6: FutureWarning: The frame.append method is deprecated and will be removed from pandas in a future version. Use pandas.concat instead.\n",
      "  all_india_data=all_india_data.append(df2,ignore_index=True)\n",
      "C:\\Users\\Balram\\AppData\\Local\\Temp/ipykernel_7836/476604036.py:6: FutureWarning: The frame.append method is deprecated and will be removed from pandas in a future version. Use pandas.concat instead.\n",
      "  all_india_data=all_india_data.append(df2,ignore_index=True)\n",
      "C:\\Users\\Balram\\AppData\\Local\\Temp/ipykernel_7836/476604036.py:6: FutureWarning: The frame.append method is deprecated and will be removed from pandas in a future version. Use pandas.concat instead.\n",
      "  all_india_data=all_india_data.append(df2,ignore_index=True)\n",
      "C:\\Users\\Balram\\AppData\\Local\\Temp/ipykernel_7836/476604036.py:6: FutureWarning: The frame.append method is deprecated and will be removed from pandas in a future version. Use pandas.concat instead.\n",
      "  all_india_data=all_india_data.append(df2,ignore_index=True)\n",
      "C:\\Users\\Balram\\AppData\\Local\\Temp/ipykernel_7836/476604036.py:6: FutureWarning: The frame.append method is deprecated and will be removed from pandas in a future version. Use pandas.concat instead.\n",
      "  all_india_data=all_india_data.append(df2,ignore_index=True)\n",
      "C:\\Users\\Balram\\AppData\\Local\\Temp/ipykernel_7836/476604036.py:6: FutureWarning: The frame.append method is deprecated and will be removed from pandas in a future version. Use pandas.concat instead.\n",
      "  all_india_data=all_india_data.append(df2,ignore_index=True)\n",
      "C:\\Users\\Balram\\AppData\\Local\\Temp/ipykernel_7836/476604036.py:6: FutureWarning: The frame.append method is deprecated and will be removed from pandas in a future version. Use pandas.concat instead.\n",
      "  all_india_data=all_india_data.append(df2,ignore_index=True)\n",
      "C:\\Users\\Balram\\AppData\\Local\\Temp/ipykernel_7836/476604036.py:6: FutureWarning: The frame.append method is deprecated and will be removed from pandas in a future version. Use pandas.concat instead.\n",
      "  all_india_data=all_india_data.append(df2,ignore_index=True)\n",
      "C:\\Users\\Balram\\AppData\\Local\\Temp/ipykernel_7836/476604036.py:6: FutureWarning: The frame.append method is deprecated and will be removed from pandas in a future version. Use pandas.concat instead.\n",
      "  all_india_data=all_india_data.append(df2,ignore_index=True)\n",
      "C:\\Users\\Balram\\AppData\\Local\\Temp/ipykernel_7836/476604036.py:6: FutureWarning: The frame.append method is deprecated and will be removed from pandas in a future version. Use pandas.concat instead.\n",
      "  all_india_data=all_india_data.append(df2,ignore_index=True)\n",
      "C:\\Users\\Balram\\AppData\\Local\\Temp/ipykernel_7836/476604036.py:6: FutureWarning: The frame.append method is deprecated and will be removed from pandas in a future version. Use pandas.concat instead.\n",
      "  all_india_data=all_india_data.append(df2,ignore_index=True)\n",
      "C:\\Users\\Balram\\AppData\\Local\\Temp/ipykernel_7836/476604036.py:6: FutureWarning: The frame.append method is deprecated and will be removed from pandas in a future version. Use pandas.concat instead.\n",
      "  all_india_data=all_india_data.append(df2,ignore_index=True)\n",
      "C:\\Users\\Balram\\AppData\\Local\\Temp/ipykernel_7836/476604036.py:6: FutureWarning: The frame.append method is deprecated and will be removed from pandas in a future version. Use pandas.concat instead.\n",
      "  all_india_data=all_india_data.append(df2,ignore_index=True)\n",
      "C:\\Users\\Balram\\AppData\\Local\\Temp/ipykernel_7836/476604036.py:6: FutureWarning: The frame.append method is deprecated and will be removed from pandas in a future version. Use pandas.concat instead.\n",
      "  all_india_data=all_india_data.append(df2,ignore_index=True)\n",
      "C:\\Users\\Balram\\AppData\\Local\\Temp/ipykernel_7836/476604036.py:6: FutureWarning: The frame.append method is deprecated and will be removed from pandas in a future version. Use pandas.concat instead.\n",
      "  all_india_data=all_india_data.append(df2,ignore_index=True)\n",
      "C:\\Users\\Balram\\AppData\\Local\\Temp/ipykernel_7836/476604036.py:6: FutureWarning: The frame.append method is deprecated and will be removed from pandas in a future version. Use pandas.concat instead.\n",
      "  all_india_data=all_india_data.append(df2,ignore_index=True)\n",
      "C:\\Users\\Balram\\AppData\\Local\\Temp/ipykernel_7836/476604036.py:6: FutureWarning: The frame.append method is deprecated and will be removed from pandas in a future version. Use pandas.concat instead.\n",
      "  all_india_data=all_india_data.append(df2,ignore_index=True)\n",
      "C:\\Users\\Balram\\AppData\\Local\\Temp/ipykernel_7836/476604036.py:6: FutureWarning: The frame.append method is deprecated and will be removed from pandas in a future version. Use pandas.concat instead.\n",
      "  all_india_data=all_india_data.append(df2,ignore_index=True)\n",
      "C:\\Users\\Balram\\AppData\\Local\\Temp/ipykernel_7836/476604036.py:6: FutureWarning: The frame.append method is deprecated and will be removed from pandas in a future version. Use pandas.concat instead.\n",
      "  all_india_data=all_india_data.append(df2,ignore_index=True)\n",
      "C:\\Users\\Balram\\AppData\\Local\\Temp/ipykernel_7836/476604036.py:6: FutureWarning: The frame.append method is deprecated and will be removed from pandas in a future version. Use pandas.concat instead.\n",
      "  all_india_data=all_india_data.append(df2,ignore_index=True)\n",
      "C:\\Users\\Balram\\AppData\\Local\\Temp/ipykernel_7836/476604036.py:6: FutureWarning: The frame.append method is deprecated and will be removed from pandas in a future version. Use pandas.concat instead.\n",
      "  all_india_data=all_india_data.append(df2,ignore_index=True)\n",
      "C:\\Users\\Balram\\AppData\\Local\\Temp/ipykernel_7836/476604036.py:6: FutureWarning: The frame.append method is deprecated and will be removed from pandas in a future version. Use pandas.concat instead.\n",
      "  all_india_data=all_india_data.append(df2,ignore_index=True)\n",
      "C:\\Users\\Balram\\AppData\\Local\\Temp/ipykernel_7836/476604036.py:6: FutureWarning: The frame.append method is deprecated and will be removed from pandas in a future version. Use pandas.concat instead.\n",
      "  all_india_data=all_india_data.append(df2,ignore_index=True)\n",
      "C:\\Users\\Balram\\AppData\\Local\\Temp/ipykernel_7836/476604036.py:6: FutureWarning: The frame.append method is deprecated and will be removed from pandas in a future version. Use pandas.concat instead.\n",
      "  all_india_data=all_india_data.append(df2,ignore_index=True)\n",
      "C:\\Users\\Balram\\AppData\\Local\\Temp/ipykernel_7836/476604036.py:6: FutureWarning: The frame.append method is deprecated and will be removed from pandas in a future version. Use pandas.concat instead.\n",
      "  all_india_data=all_india_data.append(df2,ignore_index=True)\n",
      "C:\\Users\\Balram\\AppData\\Local\\Temp/ipykernel_7836/476604036.py:6: FutureWarning: The frame.append method is deprecated and will be removed from pandas in a future version. Use pandas.concat instead.\n",
      "  all_india_data=all_india_data.append(df2,ignore_index=True)\n",
      "C:\\Users\\Balram\\AppData\\Local\\Temp/ipykernel_7836/476604036.py:6: FutureWarning: The frame.append method is deprecated and will be removed from pandas in a future version. Use pandas.concat instead.\n",
      "  all_india_data=all_india_data.append(df2,ignore_index=True)\n",
      "C:\\Users\\Balram\\AppData\\Local\\Temp/ipykernel_7836/476604036.py:6: FutureWarning: The frame.append method is deprecated and will be removed from pandas in a future version. Use pandas.concat instead.\n",
      "  all_india_data=all_india_data.append(df2,ignore_index=True)\n",
      "C:\\Users\\Balram\\AppData\\Local\\Temp/ipykernel_7836/476604036.py:6: FutureWarning: The frame.append method is deprecated and will be removed from pandas in a future version. Use pandas.concat instead.\n",
      "  all_india_data=all_india_data.append(df2,ignore_index=True)\n",
      "C:\\Users\\Balram\\AppData\\Local\\Temp/ipykernel_7836/476604036.py:6: FutureWarning: The frame.append method is deprecated and will be removed from pandas in a future version. Use pandas.concat instead.\n",
      "  all_india_data=all_india_data.append(df2,ignore_index=True)\n",
      "C:\\Users\\Balram\\AppData\\Local\\Temp/ipykernel_7836/476604036.py:6: FutureWarning: The frame.append method is deprecated and will be removed from pandas in a future version. Use pandas.concat instead.\n",
      "  all_india_data=all_india_data.append(df2,ignore_index=True)\n"
     ]
    }
   ],
   "source": [
    "all_india_data=pd.DataFrame()\n",
    "    \n",
    "for i in df1.State_code.unique():\n",
    "    df2=pd.read_excel(\"https://meritindia.in/StateWiseDetails/ExportToExcel?StateCode={i}&RecordDate=11%20Mar%202022&DiscomCode=0\".format(i=i))\n",
    "    df2['state']=i\n",
    "    all_india_data=all_india_data.append(df2,ignore_index=True)\n"
   ]
  },
  {
   "cell_type": "code",
   "execution_count": 11,
   "metadata": {},
   "outputs": [],
   "source": [
    "all_india_data.to_csv(\"all_india_data.csv\")"
   ]
  },
  {
   "cell_type": "code",
   "execution_count": 39,
   "metadata": {},
   "outputs": [],
   "source": [
    "all_india_data.fillna(0,inplace=True)"
   ]
  },
  {
   "cell_type": "code",
   "execution_count": 40,
   "metadata": {},
   "outputs": [
    {
     "data": {
      "text/html": [
       "<div>\n",
       "<style scoped>\n",
       "    .dataframe tbody tr th:only-of-type {\n",
       "        vertical-align: middle;\n",
       "    }\n",
       "\n",
       "    .dataframe tbody tr th {\n",
       "        vertical-align: top;\n",
       "    }\n",
       "\n",
       "    .dataframe thead th {\n",
       "        text-align: right;\n",
       "    }\n",
       "</style>\n",
       "<table border=\"1\" class=\"dataframe\">\n",
       "  <thead>\n",
       "    <tr style=\"text-align: right;\">\n",
       "      <th></th>\n",
       "      <th>State_name</th>\n",
       "      <th>State_code</th>\n",
       "    </tr>\n",
       "  </thead>\n",
       "  <tbody>\n",
       "    <tr>\n",
       "      <th>0</th>\n",
       "      <td>Andhra Pradesh</td>\n",
       "      <td>AP</td>\n",
       "    </tr>\n",
       "    <tr>\n",
       "      <th>1</th>\n",
       "      <td>Arunachal Pradesh</td>\n",
       "      <td>ACP</td>\n",
       "    </tr>\n",
       "    <tr>\n",
       "      <th>2</th>\n",
       "      <td>Assam</td>\n",
       "      <td>ASM</td>\n",
       "    </tr>\n",
       "    <tr>\n",
       "      <th>3</th>\n",
       "      <td>Bihar</td>\n",
       "      <td>BHR</td>\n",
       "    </tr>\n",
       "    <tr>\n",
       "      <th>4</th>\n",
       "      <td>Chandigarh</td>\n",
       "      <td>CHG</td>\n",
       "    </tr>\n",
       "  </tbody>\n",
       "</table>\n",
       "</div>"
      ],
      "text/plain": [
       "          State_name State_code\n",
       "0     Andhra Pradesh         AP\n",
       "1  Arunachal Pradesh        ACP\n",
       "2              Assam        ASM\n",
       "3              Bihar        BHR\n",
       "4         Chandigarh        CHG"
      ]
     },
     "execution_count": 40,
     "metadata": {},
     "output_type": "execute_result"
    }
   ],
   "source": [
    "df1.head()"
   ]
  },
  {
   "cell_type": "code",
   "execution_count": 41,
   "metadata": {},
   "outputs": [
    {
     "data": {
      "text/html": [
       "<div>\n",
       "<style scoped>\n",
       "    .dataframe tbody tr th:only-of-type {\n",
       "        vertical-align: middle;\n",
       "    }\n",
       "\n",
       "    .dataframe tbody tr th {\n",
       "        vertical-align: top;\n",
       "    }\n",
       "\n",
       "    .dataframe thead th {\n",
       "        text-align: right;\n",
       "    }\n",
       "</style>\n",
       "<table border=\"1\" class=\"dataframe\">\n",
       "  <thead>\n",
       "    <tr style=\"text-align: right;\">\n",
       "      <th></th>\n",
       "      <th>Station</th>\n",
       "      <th>Capacity Allocated to State (MW)</th>\n",
       "      <th>Plant Capacity (MW)</th>\n",
       "      <th>Type Of Station</th>\n",
       "      <th>Ownership</th>\n",
       "      <th>Variable Cost (Rs/Unit)</th>\n",
       "      <th>Fixed Cost (Rs/Unit)</th>\n",
       "      <th>Total Cost (Rs/Unit)</th>\n",
       "      <th>Declared Capability (MWh)</th>\n",
       "      <th>Schedule (MWh)</th>\n",
       "      <th>Deviation from Merit Order (MWh)</th>\n",
       "      <th>Reason for Deviation / Remarks(if any)</th>\n",
       "      <th>state</th>\n",
       "      <th>State_name</th>\n",
       "      <th>State_code</th>\n",
       "      <th>must_run</th>\n",
       "    </tr>\n",
       "  </thead>\n",
       "  <tbody>\n",
       "    <tr>\n",
       "      <th>0</th>\n",
       "      <td>KORBA ST 3</td>\n",
       "      <td>0.0</td>\n",
       "      <td>0.0</td>\n",
       "      <td>Thermal</td>\n",
       "      <td>State Generation</td>\n",
       "      <td>1.38</td>\n",
       "      <td>1.38</td>\n",
       "      <td>2.76</td>\n",
       "      <td>0.0</td>\n",
       "      <td>0.0</td>\n",
       "      <td>0.0</td>\n",
       "      <td>0</td>\n",
       "      <td>AP</td>\n",
       "      <td>Andhra Pradesh</td>\n",
       "      <td>AP</td>\n",
       "      <td>non_must_run</td>\n",
       "    </tr>\n",
       "    <tr>\n",
       "      <th>1</th>\n",
       "      <td>KORBA SUPER THERMAL PS 1</td>\n",
       "      <td>0.0</td>\n",
       "      <td>0.0</td>\n",
       "      <td>Thermal</td>\n",
       "      <td>State Generation</td>\n",
       "      <td>1.42</td>\n",
       "      <td>0.68</td>\n",
       "      <td>2.10</td>\n",
       "      <td>0.0</td>\n",
       "      <td>0.0</td>\n",
       "      <td>0.0</td>\n",
       "      <td>0</td>\n",
       "      <td>AP</td>\n",
       "      <td>Andhra Pradesh</td>\n",
       "      <td>AP</td>\n",
       "      <td>non_must_run</td>\n",
       "    </tr>\n",
       "    <tr>\n",
       "      <th>2</th>\n",
       "      <td>SIPAT TERMAL POWER STATION 1</td>\n",
       "      <td>0.0</td>\n",
       "      <td>0.0</td>\n",
       "      <td>Thermal</td>\n",
       "      <td>State Generation</td>\n",
       "      <td>1.43</td>\n",
       "      <td>1.30</td>\n",
       "      <td>2.73</td>\n",
       "      <td>0.0</td>\n",
       "      <td>0.0</td>\n",
       "      <td>0.0</td>\n",
       "      <td>0</td>\n",
       "      <td>AP</td>\n",
       "      <td>Andhra Pradesh</td>\n",
       "      <td>AP</td>\n",
       "      <td>non_must_run</td>\n",
       "    </tr>\n",
       "    <tr>\n",
       "      <th>3</th>\n",
       "      <td>SIPAT 2</td>\n",
       "      <td>0.0</td>\n",
       "      <td>0.0</td>\n",
       "      <td>Thermal</td>\n",
       "      <td>State Generation</td>\n",
       "      <td>1.48</td>\n",
       "      <td>1.24</td>\n",
       "      <td>2.72</td>\n",
       "      <td>0.0</td>\n",
       "      <td>0.0</td>\n",
       "      <td>0.0</td>\n",
       "      <td>0</td>\n",
       "      <td>AP</td>\n",
       "      <td>Andhra Pradesh</td>\n",
       "      <td>AP</td>\n",
       "      <td>non_must_run</td>\n",
       "    </tr>\n",
       "    <tr>\n",
       "      <th>4</th>\n",
       "      <td>TALCHER STPS-2</td>\n",
       "      <td>180.0</td>\n",
       "      <td>2000.0</td>\n",
       "      <td>Thermal</td>\n",
       "      <td>Central ISGS</td>\n",
       "      <td>1.75</td>\n",
       "      <td>0.71</td>\n",
       "      <td>2.46</td>\n",
       "      <td>4055.0</td>\n",
       "      <td>4055.0</td>\n",
       "      <td>0.0</td>\n",
       "      <td>0</td>\n",
       "      <td>AP</td>\n",
       "      <td>Andhra Pradesh</td>\n",
       "      <td>AP</td>\n",
       "      <td>non_must_run</td>\n",
       "    </tr>\n",
       "  </tbody>\n",
       "</table>\n",
       "</div>"
      ],
      "text/plain": [
       "                        Station  Capacity Allocated to State (MW)  \\\n",
       "0                    KORBA ST 3                               0.0   \n",
       "1      KORBA SUPER THERMAL PS 1                               0.0   \n",
       "2  SIPAT TERMAL POWER STATION 1                               0.0   \n",
       "3                       SIPAT 2                               0.0   \n",
       "4                TALCHER STPS-2                             180.0   \n",
       "\n",
       "   Plant Capacity (MW) Type Of Station         Ownership  \\\n",
       "0                  0.0         Thermal  State Generation   \n",
       "1                  0.0         Thermal  State Generation   \n",
       "2                  0.0         Thermal  State Generation   \n",
       "3                  0.0         Thermal  State Generation   \n",
       "4               2000.0         Thermal      Central ISGS   \n",
       "\n",
       "   Variable Cost (Rs/Unit)  Fixed Cost (Rs/Unit)  Total Cost (Rs/Unit)  \\\n",
       "0                     1.38                  1.38                  2.76   \n",
       "1                     1.42                  0.68                  2.10   \n",
       "2                     1.43                  1.30                  2.73   \n",
       "3                     1.48                  1.24                  2.72   \n",
       "4                     1.75                  0.71                  2.46   \n",
       "\n",
       "   Declared Capability (MWh)  Schedule (MWh)  \\\n",
       "0                        0.0             0.0   \n",
       "1                        0.0             0.0   \n",
       "2                        0.0             0.0   \n",
       "3                        0.0             0.0   \n",
       "4                     4055.0          4055.0   \n",
       "\n",
       "   Deviation from Merit Order (MWh) Reason for Deviation / Remarks(if any)  \\\n",
       "0                               0.0                                      0   \n",
       "1                               0.0                                      0   \n",
       "2                               0.0                                      0   \n",
       "3                               0.0                                      0   \n",
       "4                               0.0                                      0   \n",
       "\n",
       "  state      State_name State_code      must_run  \n",
       "0    AP  Andhra Pradesh         AP  non_must_run  \n",
       "1    AP  Andhra Pradesh         AP  non_must_run  \n",
       "2    AP  Andhra Pradesh         AP  non_must_run  \n",
       "3    AP  Andhra Pradesh         AP  non_must_run  \n",
       "4    AP  Andhra Pradesh         AP  non_must_run  "
      ]
     },
     "execution_count": 41,
     "metadata": {},
     "output_type": "execute_result"
    }
   ],
   "source": [
    "all_india_data.head()"
   ]
  },
  {
   "cell_type": "code",
   "execution_count": 42,
   "metadata": {},
   "outputs": [],
   "source": [
    "all_india_data=all_india_data.merge(df1,left_on='state',right_on='State_code',how='outer')"
   ]
  },
  {
   "cell_type": "code",
   "execution_count": 45,
   "metadata": {},
   "outputs": [
    {
     "data": {
      "text/html": [
       "<div>\n",
       "<style scoped>\n",
       "    .dataframe tbody tr th:only-of-type {\n",
       "        vertical-align: middle;\n",
       "    }\n",
       "\n",
       "    .dataframe tbody tr th {\n",
       "        vertical-align: top;\n",
       "    }\n",
       "\n",
       "    .dataframe thead th {\n",
       "        text-align: right;\n",
       "    }\n",
       "</style>\n",
       "<table border=\"1\" class=\"dataframe\">\n",
       "  <thead>\n",
       "    <tr style=\"text-align: right;\">\n",
       "      <th></th>\n",
       "      <th>Station</th>\n",
       "      <th>Capacity Allocated to State (MW)</th>\n",
       "      <th>Plant Capacity (MW)</th>\n",
       "      <th>Type Of Station</th>\n",
       "      <th>Ownership</th>\n",
       "      <th>Variable Cost (Rs/Unit)</th>\n",
       "      <th>Fixed Cost (Rs/Unit)</th>\n",
       "      <th>Total Cost (Rs/Unit)</th>\n",
       "      <th>Declared Capability (MWh)</th>\n",
       "      <th>Schedule (MWh)</th>\n",
       "      <th>Deviation from Merit Order (MWh)</th>\n",
       "      <th>Reason for Deviation / Remarks(if any)</th>\n",
       "      <th>state</th>\n",
       "      <th>State_name_x</th>\n",
       "      <th>State_code_x</th>\n",
       "      <th>must_run</th>\n",
       "      <th>State_name_y</th>\n",
       "      <th>State_code_y</th>\n",
       "    </tr>\n",
       "  </thead>\n",
       "  <tbody>\n",
       "    <tr>\n",
       "      <th>0</th>\n",
       "      <td>KORBA ST 3</td>\n",
       "      <td>0.0</td>\n",
       "      <td>0.0</td>\n",
       "      <td>Thermal</td>\n",
       "      <td>State Generation</td>\n",
       "      <td>1.38</td>\n",
       "      <td>1.38</td>\n",
       "      <td>2.76</td>\n",
       "      <td>0.0</td>\n",
       "      <td>0.0</td>\n",
       "      <td>0.0</td>\n",
       "      <td>0</td>\n",
       "      <td>AP</td>\n",
       "      <td>Andhra Pradesh</td>\n",
       "      <td>AP</td>\n",
       "      <td>non_must_run</td>\n",
       "      <td>Andhra Pradesh</td>\n",
       "      <td>AP</td>\n",
       "    </tr>\n",
       "    <tr>\n",
       "      <th>1</th>\n",
       "      <td>KORBA SUPER THERMAL PS 1</td>\n",
       "      <td>0.0</td>\n",
       "      <td>0.0</td>\n",
       "      <td>Thermal</td>\n",
       "      <td>State Generation</td>\n",
       "      <td>1.42</td>\n",
       "      <td>0.68</td>\n",
       "      <td>2.10</td>\n",
       "      <td>0.0</td>\n",
       "      <td>0.0</td>\n",
       "      <td>0.0</td>\n",
       "      <td>0</td>\n",
       "      <td>AP</td>\n",
       "      <td>Andhra Pradesh</td>\n",
       "      <td>AP</td>\n",
       "      <td>non_must_run</td>\n",
       "      <td>Andhra Pradesh</td>\n",
       "      <td>AP</td>\n",
       "    </tr>\n",
       "    <tr>\n",
       "      <th>2</th>\n",
       "      <td>SIPAT TERMAL POWER STATION 1</td>\n",
       "      <td>0.0</td>\n",
       "      <td>0.0</td>\n",
       "      <td>Thermal</td>\n",
       "      <td>State Generation</td>\n",
       "      <td>1.43</td>\n",
       "      <td>1.30</td>\n",
       "      <td>2.73</td>\n",
       "      <td>0.0</td>\n",
       "      <td>0.0</td>\n",
       "      <td>0.0</td>\n",
       "      <td>0</td>\n",
       "      <td>AP</td>\n",
       "      <td>Andhra Pradesh</td>\n",
       "      <td>AP</td>\n",
       "      <td>non_must_run</td>\n",
       "      <td>Andhra Pradesh</td>\n",
       "      <td>AP</td>\n",
       "    </tr>\n",
       "    <tr>\n",
       "      <th>3</th>\n",
       "      <td>SIPAT 2</td>\n",
       "      <td>0.0</td>\n",
       "      <td>0.0</td>\n",
       "      <td>Thermal</td>\n",
       "      <td>State Generation</td>\n",
       "      <td>1.48</td>\n",
       "      <td>1.24</td>\n",
       "      <td>2.72</td>\n",
       "      <td>0.0</td>\n",
       "      <td>0.0</td>\n",
       "      <td>0.0</td>\n",
       "      <td>0</td>\n",
       "      <td>AP</td>\n",
       "      <td>Andhra Pradesh</td>\n",
       "      <td>AP</td>\n",
       "      <td>non_must_run</td>\n",
       "      <td>Andhra Pradesh</td>\n",
       "      <td>AP</td>\n",
       "    </tr>\n",
       "    <tr>\n",
       "      <th>4</th>\n",
       "      <td>TALCHER STPS-2</td>\n",
       "      <td>180.0</td>\n",
       "      <td>2000.0</td>\n",
       "      <td>Thermal</td>\n",
       "      <td>Central ISGS</td>\n",
       "      <td>1.75</td>\n",
       "      <td>0.71</td>\n",
       "      <td>2.46</td>\n",
       "      <td>4055.0</td>\n",
       "      <td>4055.0</td>\n",
       "      <td>0.0</td>\n",
       "      <td>0</td>\n",
       "      <td>AP</td>\n",
       "      <td>Andhra Pradesh</td>\n",
       "      <td>AP</td>\n",
       "      <td>non_must_run</td>\n",
       "      <td>Andhra Pradesh</td>\n",
       "      <td>AP</td>\n",
       "    </tr>\n",
       "  </tbody>\n",
       "</table>\n",
       "</div>"
      ],
      "text/plain": [
       "                        Station  Capacity Allocated to State (MW)  \\\n",
       "0                    KORBA ST 3                               0.0   \n",
       "1      KORBA SUPER THERMAL PS 1                               0.0   \n",
       "2  SIPAT TERMAL POWER STATION 1                               0.0   \n",
       "3                       SIPAT 2                               0.0   \n",
       "4                TALCHER STPS-2                             180.0   \n",
       "\n",
       "   Plant Capacity (MW) Type Of Station         Ownership  \\\n",
       "0                  0.0         Thermal  State Generation   \n",
       "1                  0.0         Thermal  State Generation   \n",
       "2                  0.0         Thermal  State Generation   \n",
       "3                  0.0         Thermal  State Generation   \n",
       "4               2000.0         Thermal      Central ISGS   \n",
       "\n",
       "   Variable Cost (Rs/Unit)  Fixed Cost (Rs/Unit)  Total Cost (Rs/Unit)  \\\n",
       "0                     1.38                  1.38                  2.76   \n",
       "1                     1.42                  0.68                  2.10   \n",
       "2                     1.43                  1.30                  2.73   \n",
       "3                     1.48                  1.24                  2.72   \n",
       "4                     1.75                  0.71                  2.46   \n",
       "\n",
       "   Declared Capability (MWh)  Schedule (MWh)  \\\n",
       "0                        0.0             0.0   \n",
       "1                        0.0             0.0   \n",
       "2                        0.0             0.0   \n",
       "3                        0.0             0.0   \n",
       "4                     4055.0          4055.0   \n",
       "\n",
       "   Deviation from Merit Order (MWh) Reason for Deviation / Remarks(if any)  \\\n",
       "0                               0.0                                      0   \n",
       "1                               0.0                                      0   \n",
       "2                               0.0                                      0   \n",
       "3                               0.0                                      0   \n",
       "4                               0.0                                      0   \n",
       "\n",
       "  state    State_name_x State_code_x      must_run    State_name_y  \\\n",
       "0    AP  Andhra Pradesh           AP  non_must_run  Andhra Pradesh   \n",
       "1    AP  Andhra Pradesh           AP  non_must_run  Andhra Pradesh   \n",
       "2    AP  Andhra Pradesh           AP  non_must_run  Andhra Pradesh   \n",
       "3    AP  Andhra Pradesh           AP  non_must_run  Andhra Pradesh   \n",
       "4    AP  Andhra Pradesh           AP  non_must_run  Andhra Pradesh   \n",
       "\n",
       "  State_code_y  \n",
       "0           AP  \n",
       "1           AP  \n",
       "2           AP  \n",
       "3           AP  \n",
       "4           AP  "
      ]
     },
     "execution_count": 45,
     "metadata": {},
     "output_type": "execute_result"
    }
   ],
   "source": [
    "all_india_data.head()"
   ]
  },
  {
   "cell_type": "code",
   "execution_count": 17,
   "metadata": {},
   "outputs": [],
   "source": [
    "# all_india_data.State_name.replace({'Jammu and Kashmir':'Jammu & Kashmir'},inplace=True)"
   ]
  },
  {
   "cell_type": "code",
   "execution_count": 47,
   "metadata": {},
   "outputs": [],
   "source": [
    "map_data=all_india_data.groupby('State_name_y')['Capacity Allocated to State (MW)'].sum().reset_index()"
   ]
  },
  {
   "cell_type": "code",
   "execution_count": 48,
   "metadata": {},
   "outputs": [],
   "source": [
    "\n",
    "map_data.loc[len(map_data.index)] = ['Ladakh',0.0] "
   ]
  },
  {
   "cell_type": "code",
   "execution_count": 51,
   "metadata": {},
   "outputs": [
    {
     "data": {
      "application/vnd.plotly.v1+json": {
       "config": {
        "plotlyServerURL": "https://plot.ly"
       },
       "data": [
        {
         "coloraxis": "coloraxis",
         "customdata": [
          [
           13937
          ],
          [
           160
          ],
          [
           1502
          ],
          [
           4885
          ],
          [
           412
          ],
          [
           5557
          ],
          [
           1253
          ],
          [
           536
          ],
          [
           5492
          ],
          [
           614
          ],
          [
           34419
          ],
          [
           18255
          ],
          [
           2042
          ],
          [
           3363
          ],
          [
           1176
          ],
          [
           12660
          ],
          [
           2759
          ],
          [
           17122
          ],
          [
           34051
          ],
          [
           200
          ],
          [
           607
          ],
          [
           109
          ],
          [
           154
          ],
          [
           7133
          ],
          [
           543
          ],
          [
           10848
          ],
          [
           22359
          ],
          [
           185
          ],
          [
           27074
          ],
          [
           15418
          ],
          [
           426
          ],
          [
           25291
          ],
          [
           3075
          ],
          [
           10626
          ],
          [
           0
          ]
         ],
         "featureidkey": "properties.ST_NM",
         "geo": "geo",
         "geojson": "https://gist.githubusercontent.com/jbrobst/56c13bbbf9d97d187fea01ca62ea5112/raw/e388c4cae20aa53cb5090210a42ebb9b765c0a36/india_states.geojson",
         "hovertemplate": "<b>%{hovertext}</b><br><br>State_name_y=%{location}<br>Capacity Allocated to State (MW)=%{z:.2f}<extra></extra>",
         "hovertext": [
          "Andhra Pradesh",
          "Arunachal Pradesh",
          "Assam",
          "Bihar",
          "Chandigarh",
          "Chhattisgarh",
          "Dadra & Nagar Haveli",
          "Daman & Diu",
          "Delhi",
          "Goa",
          "Gujarat",
          "Haryana",
          "Himachal Pradesh",
          "Jammu & Kashmir",
          "Jharkhand",
          "Karnataka",
          "Kerala",
          "Madhya Pradesh",
          "Maharashtra",
          "Manipur",
          "Meghalaya",
          "Mizoram",
          "Nagaland",
          "Odisha",
          "Puducherry",
          "Punjab",
          "Rajasthan",
          "Sikkim",
          "Tamil Nadu",
          "Telangana",
          "Tripura",
          "Uttar Pradesh",
          "Uttarakhand",
          "West Bengal",
          "Ladakh"
         ],
         "locations": [
          "Andhra Pradesh",
          "Arunachal Pradesh",
          "Assam",
          "Bihar",
          "Chandigarh",
          "Chhattisgarh",
          "Dadra & Nagar Haveli",
          "Daman & Diu",
          "Delhi",
          "Goa",
          "Gujarat",
          "Haryana",
          "Himachal Pradesh",
          "Jammu & Kashmir",
          "Jharkhand",
          "Karnataka",
          "Kerala",
          "Madhya Pradesh",
          "Maharashtra",
          "Manipur",
          "Meghalaya",
          "Mizoram",
          "Nagaland",
          "Odisha",
          "Puducherry",
          "Punjab",
          "Rajasthan",
          "Sikkim",
          "Tamil Nadu",
          "Telangana",
          "Tripura",
          "Uttar Pradesh",
          "Uttarakhand",
          "West Bengal",
          "Ladakh"
         ],
         "name": "",
         "type": "choropleth",
         "z": [
          13937,
          160,
          1502,
          4885,
          412,
          5557,
          1253,
          536,
          5492,
          614,
          34419,
          18255,
          2042,
          3363,
          1176,
          12660,
          2759,
          17122,
          34051,
          200,
          607,
          109,
          154,
          7133,
          543,
          10848,
          22359,
          185,
          27074,
          15418,
          426,
          25291,
          3075,
          10626,
          0
         ]
        }
       ],
       "layout": {
        "coloraxis": {
         "colorbar": {
          "title": {
           "text": "Capacity Allocated to State (MW)"
          }
         },
         "colorscale": [
          [
           0,
           "#0d0887"
          ],
          [
           0.1111111111111111,
           "#46039f"
          ],
          [
           0.2222222222222222,
           "#7201a8"
          ],
          [
           0.3333333333333333,
           "#9c179e"
          ],
          [
           0.4444444444444444,
           "#bd3786"
          ],
          [
           0.5555555555555556,
           "#d8576b"
          ],
          [
           0.6666666666666666,
           "#ed7953"
          ],
          [
           0.7777777777777778,
           "#fb9f3a"
          ],
          [
           0.8888888888888888,
           "#fdca26"
          ],
          [
           1,
           "#f0f921"
          ]
         ]
        },
        "geo": {
         "center": {},
         "domain": {
          "x": [
           0,
           1
          ],
          "y": [
           0,
           1
          ]
         },
         "fitbounds": "locations",
         "scope": "asia",
         "visible": false
        },
        "legend": {
         "tracegroupgap": 0
        },
        "margin": {
         "t": 60
        },
        "template": {
         "data": {
          "bar": [
           {
            "error_x": {
             "color": "#2a3f5f"
            },
            "error_y": {
             "color": "#2a3f5f"
            },
            "marker": {
             "line": {
              "color": "#E5ECF6",
              "width": 0.5
             },
             "pattern": {
              "fillmode": "overlay",
              "size": 10,
              "solidity": 0.2
             }
            },
            "type": "bar"
           }
          ],
          "barpolar": [
           {
            "marker": {
             "line": {
              "color": "#E5ECF6",
              "width": 0.5
             },
             "pattern": {
              "fillmode": "overlay",
              "size": 10,
              "solidity": 0.2
             }
            },
            "type": "barpolar"
           }
          ],
          "carpet": [
           {
            "aaxis": {
             "endlinecolor": "#2a3f5f",
             "gridcolor": "white",
             "linecolor": "white",
             "minorgridcolor": "white",
             "startlinecolor": "#2a3f5f"
            },
            "baxis": {
             "endlinecolor": "#2a3f5f",
             "gridcolor": "white",
             "linecolor": "white",
             "minorgridcolor": "white",
             "startlinecolor": "#2a3f5f"
            },
            "type": "carpet"
           }
          ],
          "choropleth": [
           {
            "colorbar": {
             "outlinewidth": 0,
             "ticks": ""
            },
            "type": "choropleth"
           }
          ],
          "contour": [
           {
            "colorbar": {
             "outlinewidth": 0,
             "ticks": ""
            },
            "colorscale": [
             [
              0,
              "#0d0887"
             ],
             [
              0.1111111111111111,
              "#46039f"
             ],
             [
              0.2222222222222222,
              "#7201a8"
             ],
             [
              0.3333333333333333,
              "#9c179e"
             ],
             [
              0.4444444444444444,
              "#bd3786"
             ],
             [
              0.5555555555555556,
              "#d8576b"
             ],
             [
              0.6666666666666666,
              "#ed7953"
             ],
             [
              0.7777777777777778,
              "#fb9f3a"
             ],
             [
              0.8888888888888888,
              "#fdca26"
             ],
             [
              1,
              "#f0f921"
             ]
            ],
            "type": "contour"
           }
          ],
          "contourcarpet": [
           {
            "colorbar": {
             "outlinewidth": 0,
             "ticks": ""
            },
            "type": "contourcarpet"
           }
          ],
          "heatmap": [
           {
            "colorbar": {
             "outlinewidth": 0,
             "ticks": ""
            },
            "colorscale": [
             [
              0,
              "#0d0887"
             ],
             [
              0.1111111111111111,
              "#46039f"
             ],
             [
              0.2222222222222222,
              "#7201a8"
             ],
             [
              0.3333333333333333,
              "#9c179e"
             ],
             [
              0.4444444444444444,
              "#bd3786"
             ],
             [
              0.5555555555555556,
              "#d8576b"
             ],
             [
              0.6666666666666666,
              "#ed7953"
             ],
             [
              0.7777777777777778,
              "#fb9f3a"
             ],
             [
              0.8888888888888888,
              "#fdca26"
             ],
             [
              1,
              "#f0f921"
             ]
            ],
            "type": "heatmap"
           }
          ],
          "heatmapgl": [
           {
            "colorbar": {
             "outlinewidth": 0,
             "ticks": ""
            },
            "colorscale": [
             [
              0,
              "#0d0887"
             ],
             [
              0.1111111111111111,
              "#46039f"
             ],
             [
              0.2222222222222222,
              "#7201a8"
             ],
             [
              0.3333333333333333,
              "#9c179e"
             ],
             [
              0.4444444444444444,
              "#bd3786"
             ],
             [
              0.5555555555555556,
              "#d8576b"
             ],
             [
              0.6666666666666666,
              "#ed7953"
             ],
             [
              0.7777777777777778,
              "#fb9f3a"
             ],
             [
              0.8888888888888888,
              "#fdca26"
             ],
             [
              1,
              "#f0f921"
             ]
            ],
            "type": "heatmapgl"
           }
          ],
          "histogram": [
           {
            "marker": {
             "pattern": {
              "fillmode": "overlay",
              "size": 10,
              "solidity": 0.2
             }
            },
            "type": "histogram"
           }
          ],
          "histogram2d": [
           {
            "colorbar": {
             "outlinewidth": 0,
             "ticks": ""
            },
            "colorscale": [
             [
              0,
              "#0d0887"
             ],
             [
              0.1111111111111111,
              "#46039f"
             ],
             [
              0.2222222222222222,
              "#7201a8"
             ],
             [
              0.3333333333333333,
              "#9c179e"
             ],
             [
              0.4444444444444444,
              "#bd3786"
             ],
             [
              0.5555555555555556,
              "#d8576b"
             ],
             [
              0.6666666666666666,
              "#ed7953"
             ],
             [
              0.7777777777777778,
              "#fb9f3a"
             ],
             [
              0.8888888888888888,
              "#fdca26"
             ],
             [
              1,
              "#f0f921"
             ]
            ],
            "type": "histogram2d"
           }
          ],
          "histogram2dcontour": [
           {
            "colorbar": {
             "outlinewidth": 0,
             "ticks": ""
            },
            "colorscale": [
             [
              0,
              "#0d0887"
             ],
             [
              0.1111111111111111,
              "#46039f"
             ],
             [
              0.2222222222222222,
              "#7201a8"
             ],
             [
              0.3333333333333333,
              "#9c179e"
             ],
             [
              0.4444444444444444,
              "#bd3786"
             ],
             [
              0.5555555555555556,
              "#d8576b"
             ],
             [
              0.6666666666666666,
              "#ed7953"
             ],
             [
              0.7777777777777778,
              "#fb9f3a"
             ],
             [
              0.8888888888888888,
              "#fdca26"
             ],
             [
              1,
              "#f0f921"
             ]
            ],
            "type": "histogram2dcontour"
           }
          ],
          "mesh3d": [
           {
            "colorbar": {
             "outlinewidth": 0,
             "ticks": ""
            },
            "type": "mesh3d"
           }
          ],
          "parcoords": [
           {
            "line": {
             "colorbar": {
              "outlinewidth": 0,
              "ticks": ""
             }
            },
            "type": "parcoords"
           }
          ],
          "pie": [
           {
            "automargin": true,
            "type": "pie"
           }
          ],
          "scatter": [
           {
            "marker": {
             "colorbar": {
              "outlinewidth": 0,
              "ticks": ""
             }
            },
            "type": "scatter"
           }
          ],
          "scatter3d": [
           {
            "line": {
             "colorbar": {
              "outlinewidth": 0,
              "ticks": ""
             }
            },
            "marker": {
             "colorbar": {
              "outlinewidth": 0,
              "ticks": ""
             }
            },
            "type": "scatter3d"
           }
          ],
          "scattercarpet": [
           {
            "marker": {
             "colorbar": {
              "outlinewidth": 0,
              "ticks": ""
             }
            },
            "type": "scattercarpet"
           }
          ],
          "scattergeo": [
           {
            "marker": {
             "colorbar": {
              "outlinewidth": 0,
              "ticks": ""
             }
            },
            "type": "scattergeo"
           }
          ],
          "scattergl": [
           {
            "marker": {
             "colorbar": {
              "outlinewidth": 0,
              "ticks": ""
             }
            },
            "type": "scattergl"
           }
          ],
          "scattermapbox": [
           {
            "marker": {
             "colorbar": {
              "outlinewidth": 0,
              "ticks": ""
             }
            },
            "type": "scattermapbox"
           }
          ],
          "scatterpolar": [
           {
            "marker": {
             "colorbar": {
              "outlinewidth": 0,
              "ticks": ""
             }
            },
            "type": "scatterpolar"
           }
          ],
          "scatterpolargl": [
           {
            "marker": {
             "colorbar": {
              "outlinewidth": 0,
              "ticks": ""
             }
            },
            "type": "scatterpolargl"
           }
          ],
          "scatterternary": [
           {
            "marker": {
             "colorbar": {
              "outlinewidth": 0,
              "ticks": ""
             }
            },
            "type": "scatterternary"
           }
          ],
          "surface": [
           {
            "colorbar": {
             "outlinewidth": 0,
             "ticks": ""
            },
            "colorscale": [
             [
              0,
              "#0d0887"
             ],
             [
              0.1111111111111111,
              "#46039f"
             ],
             [
              0.2222222222222222,
              "#7201a8"
             ],
             [
              0.3333333333333333,
              "#9c179e"
             ],
             [
              0.4444444444444444,
              "#bd3786"
             ],
             [
              0.5555555555555556,
              "#d8576b"
             ],
             [
              0.6666666666666666,
              "#ed7953"
             ],
             [
              0.7777777777777778,
              "#fb9f3a"
             ],
             [
              0.8888888888888888,
              "#fdca26"
             ],
             [
              1,
              "#f0f921"
             ]
            ],
            "type": "surface"
           }
          ],
          "table": [
           {
            "cells": {
             "fill": {
              "color": "#EBF0F8"
             },
             "line": {
              "color": "white"
             }
            },
            "header": {
             "fill": {
              "color": "#C8D4E3"
             },
             "line": {
              "color": "white"
             }
            },
            "type": "table"
           }
          ]
         },
         "layout": {
          "annotationdefaults": {
           "arrowcolor": "#2a3f5f",
           "arrowhead": 0,
           "arrowwidth": 1
          },
          "autotypenumbers": "strict",
          "coloraxis": {
           "colorbar": {
            "outlinewidth": 0,
            "ticks": ""
           }
          },
          "colorscale": {
           "diverging": [
            [
             0,
             "#8e0152"
            ],
            [
             0.1,
             "#c51b7d"
            ],
            [
             0.2,
             "#de77ae"
            ],
            [
             0.3,
             "#f1b6da"
            ],
            [
             0.4,
             "#fde0ef"
            ],
            [
             0.5,
             "#f7f7f7"
            ],
            [
             0.6,
             "#e6f5d0"
            ],
            [
             0.7,
             "#b8e186"
            ],
            [
             0.8,
             "#7fbc41"
            ],
            [
             0.9,
             "#4d9221"
            ],
            [
             1,
             "#276419"
            ]
           ],
           "sequential": [
            [
             0,
             "#0d0887"
            ],
            [
             0.1111111111111111,
             "#46039f"
            ],
            [
             0.2222222222222222,
             "#7201a8"
            ],
            [
             0.3333333333333333,
             "#9c179e"
            ],
            [
             0.4444444444444444,
             "#bd3786"
            ],
            [
             0.5555555555555556,
             "#d8576b"
            ],
            [
             0.6666666666666666,
             "#ed7953"
            ],
            [
             0.7777777777777778,
             "#fb9f3a"
            ],
            [
             0.8888888888888888,
             "#fdca26"
            ],
            [
             1,
             "#f0f921"
            ]
           ],
           "sequentialminus": [
            [
             0,
             "#0d0887"
            ],
            [
             0.1111111111111111,
             "#46039f"
            ],
            [
             0.2222222222222222,
             "#7201a8"
            ],
            [
             0.3333333333333333,
             "#9c179e"
            ],
            [
             0.4444444444444444,
             "#bd3786"
            ],
            [
             0.5555555555555556,
             "#d8576b"
            ],
            [
             0.6666666666666666,
             "#ed7953"
            ],
            [
             0.7777777777777778,
             "#fb9f3a"
            ],
            [
             0.8888888888888888,
             "#fdca26"
            ],
            [
             1,
             "#f0f921"
            ]
           ]
          },
          "colorway": [
           "#636efa",
           "#EF553B",
           "#00cc96",
           "#ab63fa",
           "#FFA15A",
           "#19d3f3",
           "#FF6692",
           "#B6E880",
           "#FF97FF",
           "#FECB52"
          ],
          "font": {
           "color": "#2a3f5f"
          },
          "geo": {
           "bgcolor": "white",
           "lakecolor": "white",
           "landcolor": "#E5ECF6",
           "showlakes": true,
           "showland": true,
           "subunitcolor": "white"
          },
          "hoverlabel": {
           "align": "left"
          },
          "hovermode": "closest",
          "mapbox": {
           "style": "light"
          },
          "paper_bgcolor": "white",
          "plot_bgcolor": "#E5ECF6",
          "polar": {
           "angularaxis": {
            "gridcolor": "white",
            "linecolor": "white",
            "ticks": ""
           },
           "bgcolor": "#E5ECF6",
           "radialaxis": {
            "gridcolor": "white",
            "linecolor": "white",
            "ticks": ""
           }
          },
          "scene": {
           "xaxis": {
            "backgroundcolor": "#E5ECF6",
            "gridcolor": "white",
            "gridwidth": 2,
            "linecolor": "white",
            "showbackground": true,
            "ticks": "",
            "zerolinecolor": "white"
           },
           "yaxis": {
            "backgroundcolor": "#E5ECF6",
            "gridcolor": "white",
            "gridwidth": 2,
            "linecolor": "white",
            "showbackground": true,
            "ticks": "",
            "zerolinecolor": "white"
           },
           "zaxis": {
            "backgroundcolor": "#E5ECF6",
            "gridcolor": "white",
            "gridwidth": 2,
            "linecolor": "white",
            "showbackground": true,
            "ticks": "",
            "zerolinecolor": "white"
           }
          },
          "shapedefaults": {
           "line": {
            "color": "#2a3f5f"
           }
          },
          "ternary": {
           "aaxis": {
            "gridcolor": "white",
            "linecolor": "white",
            "ticks": ""
           },
           "baxis": {
            "gridcolor": "white",
            "linecolor": "white",
            "ticks": ""
           },
           "bgcolor": "#E5ECF6",
           "caxis": {
            "gridcolor": "white",
            "linecolor": "white",
            "ticks": ""
           }
          },
          "title": {
           "x": 0.05
          },
          "xaxis": {
           "automargin": true,
           "gridcolor": "white",
           "linecolor": "white",
           "ticks": "",
           "title": {
            "standoff": 15
           },
           "zerolinecolor": "white",
           "zerolinewidth": 2
          },
          "yaxis": {
           "automargin": true,
           "gridcolor": "white",
           "linecolor": "white",
           "ticks": "",
           "title": {
            "standoff": 15
           },
           "zerolinecolor": "white",
           "zerolinewidth": 2
          }
         }
        }
       }
      }
     },
     "metadata": {},
     "output_type": "display_data"
    }
   ],
   "source": [
    "import plotly.graph_objects as go\n",
    "import plotly.express as px\n",
    " \n",
    "\n",
    "fig=px.choropleth(map_data,  # Input data\n",
    "                    locations='State_name_y',\n",
    "                    color='Capacity Allocated to State (MW)',  \n",
    "                    hover_name='State_name_y',\n",
    "                    hover_data={'Capacity Allocated to State (MW)':':.2f'},\n",
    "                    scope='asia',\n",
    "                    geojson=\"https://gist.githubusercontent.com/jbrobst/56c13bbbf9d97d187fea01ca62ea5112/raw/e388c4cae20aa53cb5090210a42ebb9b765c0a36/india_states.geojson\",\n",
    "                    featureidkey='properties.ST_NM',\n",
    "                    )\n",
    "fig.update_geos(fitbounds='locations',visible=False)\n",
    "fig.show()\n",
    "              \n",
    "\n"
   ]
  },
  {
   "cell_type": "code",
   "execution_count": 138,
   "metadata": {},
   "outputs": [],
   "source": [
    "all_india_data['must_run_status']=np.where(all_india_data['Type Of Station'].isin(['Nuclear', 'Hydro', 'Renewable', 0]),\"must_run\",\"non_must_run\")"
   ]
  },
  {
   "cell_type": "code",
   "execution_count": 53,
   "metadata": {},
   "outputs": [
    {
     "data": {
      "text/html": [
       "<div>\n",
       "<style scoped>\n",
       "    .dataframe tbody tr th:only-of-type {\n",
       "        vertical-align: middle;\n",
       "    }\n",
       "\n",
       "    .dataframe tbody tr th {\n",
       "        vertical-align: top;\n",
       "    }\n",
       "\n",
       "    .dataframe thead th {\n",
       "        text-align: right;\n",
       "    }\n",
       "</style>\n",
       "<table border=\"1\" class=\"dataframe\">\n",
       "  <thead>\n",
       "    <tr style=\"text-align: right;\">\n",
       "      <th></th>\n",
       "      <th>Station</th>\n",
       "      <th>Capacity Allocated to State (MW)</th>\n",
       "      <th>Plant Capacity (MW)</th>\n",
       "      <th>Type Of Station</th>\n",
       "      <th>Ownership</th>\n",
       "      <th>Variable Cost (Rs/Unit)</th>\n",
       "      <th>Fixed Cost (Rs/Unit)</th>\n",
       "      <th>Total Cost (Rs/Unit)</th>\n",
       "      <th>Declared Capability (MWh)</th>\n",
       "      <th>Schedule (MWh)</th>\n",
       "      <th>Deviation from Merit Order (MWh)</th>\n",
       "      <th>Reason for Deviation / Remarks(if any)</th>\n",
       "      <th>state</th>\n",
       "      <th>State_name_x</th>\n",
       "      <th>State_code_x</th>\n",
       "      <th>must_run</th>\n",
       "      <th>State_name_y</th>\n",
       "      <th>State_code_y</th>\n",
       "    </tr>\n",
       "  </thead>\n",
       "  <tbody>\n",
       "    <tr>\n",
       "      <th>1406</th>\n",
       "      <td>KAHALGAON-II</td>\n",
       "      <td>13.0</td>\n",
       "      <td>1500.0</td>\n",
       "      <td>Thermal</td>\n",
       "      <td>Central ISGS</td>\n",
       "      <td>0.0</td>\n",
       "      <td>0.0</td>\n",
       "      <td>0.0</td>\n",
       "      <td>0.0</td>\n",
       "      <td>0.0</td>\n",
       "      <td>0.0</td>\n",
       "      <td>0</td>\n",
       "      <td>BGL</td>\n",
       "      <td>West Bengal</td>\n",
       "      <td>BGL</td>\n",
       "      <td>non_must_run</td>\n",
       "      <td>West Bengal</td>\n",
       "      <td>BGL</td>\n",
       "    </tr>\n",
       "    <tr>\n",
       "      <th>1407</th>\n",
       "      <td>TALCHER</td>\n",
       "      <td>94.0</td>\n",
       "      <td>1000.0</td>\n",
       "      <td>Thermal</td>\n",
       "      <td>Central ISGS</td>\n",
       "      <td>0.0</td>\n",
       "      <td>0.0</td>\n",
       "      <td>0.0</td>\n",
       "      <td>0.0</td>\n",
       "      <td>0.0</td>\n",
       "      <td>0.0</td>\n",
       "      <td>0</td>\n",
       "      <td>BGL</td>\n",
       "      <td>West Bengal</td>\n",
       "      <td>BGL</td>\n",
       "      <td>non_must_run</td>\n",
       "      <td>West Bengal</td>\n",
       "      <td>BGL</td>\n",
       "    </tr>\n",
       "    <tr>\n",
       "      <th>1408</th>\n",
       "      <td>RANGEET</td>\n",
       "      <td>17.0</td>\n",
       "      <td>60.0</td>\n",
       "      <td>Hydro</td>\n",
       "      <td>Central ISGS</td>\n",
       "      <td>0.0</td>\n",
       "      <td>0.0</td>\n",
       "      <td>0.0</td>\n",
       "      <td>0.0</td>\n",
       "      <td>0.0</td>\n",
       "      <td>0.0</td>\n",
       "      <td>0</td>\n",
       "      <td>BGL</td>\n",
       "      <td>West Bengal</td>\n",
       "      <td>BGL</td>\n",
       "      <td>must_run</td>\n",
       "      <td>West Bengal</td>\n",
       "      <td>BGL</td>\n",
       "    </tr>\n",
       "    <tr>\n",
       "      <th>1409</th>\n",
       "      <td>TEESTA</td>\n",
       "      <td>121.0</td>\n",
       "      <td>510.0</td>\n",
       "      <td>Hydro</td>\n",
       "      <td>Central ISGS</td>\n",
       "      <td>0.0</td>\n",
       "      <td>0.0</td>\n",
       "      <td>0.0</td>\n",
       "      <td>0.0</td>\n",
       "      <td>0.0</td>\n",
       "      <td>0.0</td>\n",
       "      <td>0</td>\n",
       "      <td>BGL</td>\n",
       "      <td>West Bengal</td>\n",
       "      <td>BGL</td>\n",
       "      <td>must_run</td>\n",
       "      <td>West Bengal</td>\n",
       "      <td>BGL</td>\n",
       "    </tr>\n",
       "    <tr>\n",
       "      <th>1410</th>\n",
       "      <td>TALA</td>\n",
       "      <td>386.0</td>\n",
       "      <td>1020.0</td>\n",
       "      <td>Hydro</td>\n",
       "      <td>Other ISGS</td>\n",
       "      <td>0.0</td>\n",
       "      <td>0.0</td>\n",
       "      <td>0.0</td>\n",
       "      <td>0.0</td>\n",
       "      <td>0.0</td>\n",
       "      <td>0.0</td>\n",
       "      <td>0</td>\n",
       "      <td>BGL</td>\n",
       "      <td>West Bengal</td>\n",
       "      <td>BGL</td>\n",
       "      <td>must_run</td>\n",
       "      <td>West Bengal</td>\n",
       "      <td>BGL</td>\n",
       "    </tr>\n",
       "  </tbody>\n",
       "</table>\n",
       "</div>"
      ],
      "text/plain": [
       "           Station  Capacity Allocated to State (MW)  Plant Capacity (MW)  \\\n",
       "1406  KAHALGAON-II                              13.0               1500.0   \n",
       "1407       TALCHER                              94.0               1000.0   \n",
       "1408       RANGEET                              17.0                 60.0   \n",
       "1409        TEESTA                             121.0                510.0   \n",
       "1410          TALA                             386.0               1020.0   \n",
       "\n",
       "     Type Of Station     Ownership  Variable Cost (Rs/Unit)  \\\n",
       "1406         Thermal  Central ISGS                      0.0   \n",
       "1407         Thermal  Central ISGS                      0.0   \n",
       "1408           Hydro  Central ISGS                      0.0   \n",
       "1409           Hydro  Central ISGS                      0.0   \n",
       "1410           Hydro    Other ISGS                      0.0   \n",
       "\n",
       "      Fixed Cost (Rs/Unit)  Total Cost (Rs/Unit)  Declared Capability (MWh)  \\\n",
       "1406                   0.0                   0.0                        0.0   \n",
       "1407                   0.0                   0.0                        0.0   \n",
       "1408                   0.0                   0.0                        0.0   \n",
       "1409                   0.0                   0.0                        0.0   \n",
       "1410                   0.0                   0.0                        0.0   \n",
       "\n",
       "      Schedule (MWh)  Deviation from Merit Order (MWh)  \\\n",
       "1406             0.0                               0.0   \n",
       "1407             0.0                               0.0   \n",
       "1408             0.0                               0.0   \n",
       "1409             0.0                               0.0   \n",
       "1410             0.0                               0.0   \n",
       "\n",
       "     Reason for Deviation / Remarks(if any) state State_name_x State_code_x  \\\n",
       "1406                                      0   BGL  West Bengal          BGL   \n",
       "1407                                      0   BGL  West Bengal          BGL   \n",
       "1408                                      0   BGL  West Bengal          BGL   \n",
       "1409                                      0   BGL  West Bengal          BGL   \n",
       "1410                                      0   BGL  West Bengal          BGL   \n",
       "\n",
       "          must_run State_name_y State_code_y  \n",
       "1406  non_must_run  West Bengal          BGL  \n",
       "1407  non_must_run  West Bengal          BGL  \n",
       "1408      must_run  West Bengal          BGL  \n",
       "1409      must_run  West Bengal          BGL  \n",
       "1410      must_run  West Bengal          BGL  "
      ]
     },
     "execution_count": 53,
     "metadata": {},
     "output_type": "execute_result"
    }
   ],
   "source": [
    "all_india_data.tail()"
   ]
  },
  {
   "cell_type": "code",
   "execution_count": 54,
   "metadata": {},
   "outputs": [
    {
     "data": {
      "text/plain": [
       "array(['Thermal', 'Gas', 'Nuclear', 'Hydro', 'Renewable', 0], dtype=object)"
      ]
     },
     "execution_count": 54,
     "metadata": {},
     "output_type": "execute_result"
    }
   ],
   "source": [
    "all_india_data['Type Of Station'].unique()"
   ]
  },
  {
   "cell_type": "code",
   "execution_count": 55,
   "metadata": {},
   "outputs": [
    {
     "data": {
      "text/plain": [
       "<AxesSubplot:ylabel='Capacity Allocated to State (MW)'>"
      ]
     },
     "execution_count": 55,
     "metadata": {},
     "output_type": "execute_result"
    },
    {
     "data": {
      "image/png": "[encoded data removed]",
      "text/plain": [
       "<Figure size 432x288 with 1 Axes>"
      ]
     },
     "metadata": {},
     "output_type": "display_data"
    }
   ],
   "source": [
    "all_india_data.groupby('Type Of Station')['Capacity Allocated to State (MW)'].sum().plot.pie()"
   ]
  },
  {
   "cell_type": "code",
   "execution_count": 56,
   "metadata": {},
   "outputs": [
    {
     "data": {
      "text/plain": [
       "<AxesSubplot:ylabel='Capacity Allocated to State (MW)'>"
      ]
     },
     "execution_count": 56,
     "metadata": {},
     "output_type": "execute_result"
    },
    {
     "data": {
      "image/png": "[encoded data removed]",
      "text/plain": [
       "<Figure size 432x288 with 1 Axes>"
      ]
     },
     "metadata": {},
     "output_type": "display_data"
    }
   ],
   "source": [
    "all_india_data.groupby('Ownership')['Capacity Allocated to State (MW)'].sum().plot.pie()"
   ]
  },
  {
   "cell_type": "code",
   "execution_count": 57,
   "metadata": {},
   "outputs": [
    {
     "data": {
      "text/html": [
       "<div>\n",
       "<style scoped>\n",
       "    .dataframe tbody tr th:only-of-type {\n",
       "        vertical-align: middle;\n",
       "    }\n",
       "\n",
       "    .dataframe tbody tr th {\n",
       "        vertical-align: top;\n",
       "    }\n",
       "\n",
       "    .dataframe thead th {\n",
       "        text-align: right;\n",
       "    }\n",
       "</style>\n",
       "<table border=\"1\" class=\"dataframe\">\n",
       "  <thead>\n",
       "    <tr style=\"text-align: right;\">\n",
       "      <th></th>\n",
       "      <th>Station</th>\n",
       "      <th>Capacity Allocated to State (MW)</th>\n",
       "      <th>Plant Capacity (MW)</th>\n",
       "      <th>Type Of Station</th>\n",
       "      <th>Ownership</th>\n",
       "      <th>Variable Cost (Rs/Unit)</th>\n",
       "      <th>Fixed Cost (Rs/Unit)</th>\n",
       "      <th>Total Cost (Rs/Unit)</th>\n",
       "      <th>Declared Capability (MWh)</th>\n",
       "      <th>Schedule (MWh)</th>\n",
       "      <th>Deviation from Merit Order (MWh)</th>\n",
       "      <th>Reason for Deviation / Remarks(if any)</th>\n",
       "      <th>state</th>\n",
       "      <th>State_name_x</th>\n",
       "      <th>State_code_x</th>\n",
       "      <th>must_run</th>\n",
       "      <th>State_name_y</th>\n",
       "      <th>State_code_y</th>\n",
       "    </tr>\n",
       "  </thead>\n",
       "  <tbody>\n",
       "    <tr>\n",
       "      <th>42</th>\n",
       "      <td>MACHKUND HES</td>\n",
       "      <td>0.0</td>\n",
       "      <td>960.0</td>\n",
       "      <td>Hydro</td>\n",
       "      <td>State Generation</td>\n",
       "      <td>0.00</td>\n",
       "      <td>1.15</td>\n",
       "      <td>1.15</td>\n",
       "      <td>581.0</td>\n",
       "      <td>581.0</td>\n",
       "      <td>0.0</td>\n",
       "      <td>0</td>\n",
       "      <td>AP</td>\n",
       "      <td>Andhra Pradesh</td>\n",
       "      <td>AP</td>\n",
       "      <td>must_run</td>\n",
       "      <td>Andhra Pradesh</td>\n",
       "      <td>AP</td>\n",
       "    </tr>\n",
       "    <tr>\n",
       "      <th>43</th>\n",
       "      <td>T. B. DAM (SHARE)</td>\n",
       "      <td>0.0</td>\n",
       "      <td>0.0</td>\n",
       "      <td>Hydro</td>\n",
       "      <td>State Generation</td>\n",
       "      <td>0.00</td>\n",
       "      <td>0.00</td>\n",
       "      <td>0.00</td>\n",
       "      <td>528.0</td>\n",
       "      <td>528.0</td>\n",
       "      <td>0.0</td>\n",
       "      <td>0</td>\n",
       "      <td>AP</td>\n",
       "      <td>Andhra Pradesh</td>\n",
       "      <td>AP</td>\n",
       "      <td>must_run</td>\n",
       "      <td>Andhra Pradesh</td>\n",
       "      <td>AP</td>\n",
       "    </tr>\n",
       "    <tr>\n",
       "      <th>45</th>\n",
       "      <td>DONKARAI HES</td>\n",
       "      <td>0.0</td>\n",
       "      <td>0.0</td>\n",
       "      <td>Hydro</td>\n",
       "      <td>State Generation</td>\n",
       "      <td>0.00</td>\n",
       "      <td>0.00</td>\n",
       "      <td>0.00</td>\n",
       "      <td>314.0</td>\n",
       "      <td>314.0</td>\n",
       "      <td>0.0</td>\n",
       "      <td>0</td>\n",
       "      <td>AP</td>\n",
       "      <td>Andhra Pradesh</td>\n",
       "      <td>AP</td>\n",
       "      <td>must_run</td>\n",
       "      <td>Andhra Pradesh</td>\n",
       "      <td>AP</td>\n",
       "    </tr>\n",
       "    <tr>\n",
       "      <th>46</th>\n",
       "      <td>LOWER SILERU</td>\n",
       "      <td>460.0</td>\n",
       "      <td>460.0</td>\n",
       "      <td>Hydro</td>\n",
       "      <td>State Generation</td>\n",
       "      <td>0.00</td>\n",
       "      <td>1.02</td>\n",
       "      <td>1.02</td>\n",
       "      <td>3743.0</td>\n",
       "      <td>3743.0</td>\n",
       "      <td>0.0</td>\n",
       "      <td>0</td>\n",
       "      <td>AP</td>\n",
       "      <td>Andhra Pradesh</td>\n",
       "      <td>AP</td>\n",
       "      <td>must_run</td>\n",
       "      <td>Andhra Pradesh</td>\n",
       "      <td>AP</td>\n",
       "    </tr>\n",
       "    <tr>\n",
       "      <th>47</th>\n",
       "      <td>SRISAILAM RB</td>\n",
       "      <td>770.0</td>\n",
       "      <td>770.0</td>\n",
       "      <td>Hydro</td>\n",
       "      <td>State Generation</td>\n",
       "      <td>0.00</td>\n",
       "      <td>1.73</td>\n",
       "      <td>1.73</td>\n",
       "      <td>0.0</td>\n",
       "      <td>0.0</td>\n",
       "      <td>0.0</td>\n",
       "      <td>0</td>\n",
       "      <td>AP</td>\n",
       "      <td>Andhra Pradesh</td>\n",
       "      <td>AP</td>\n",
       "      <td>must_run</td>\n",
       "      <td>Andhra Pradesh</td>\n",
       "      <td>AP</td>\n",
       "    </tr>\n",
       "    <tr>\n",
       "      <th>...</th>\n",
       "      <td>...</td>\n",
       "      <td>...</td>\n",
       "      <td>...</td>\n",
       "      <td>...</td>\n",
       "      <td>...</td>\n",
       "      <td>...</td>\n",
       "      <td>...</td>\n",
       "      <td>...</td>\n",
       "      <td>...</td>\n",
       "      <td>...</td>\n",
       "      <td>...</td>\n",
       "      <td>...</td>\n",
       "      <td>...</td>\n",
       "      <td>...</td>\n",
       "      <td>...</td>\n",
       "      <td>...</td>\n",
       "      <td>...</td>\n",
       "      <td>...</td>\n",
       "    </tr>\n",
       "    <tr>\n",
       "      <th>433</th>\n",
       "      <td>GSEG_2_SPOT</td>\n",
       "      <td>351.0</td>\n",
       "      <td>351.0</td>\n",
       "      <td>Gas</td>\n",
       "      <td>State Generation</td>\n",
       "      <td>21.18</td>\n",
       "      <td>1.15</td>\n",
       "      <td>22.33</td>\n",
       "      <td>0.0</td>\n",
       "      <td>0.0</td>\n",
       "      <td>0.0</td>\n",
       "      <td>0</td>\n",
       "      <td>GJT</td>\n",
       "      <td>Gujarat</td>\n",
       "      <td>GJT</td>\n",
       "      <td>non_must_run</td>\n",
       "      <td>Gujarat</td>\n",
       "      <td>GJT</td>\n",
       "    </tr>\n",
       "    <tr>\n",
       "      <th>434</th>\n",
       "      <td>DHUVARAN CCPP-II GSPC SPOT GAS</td>\n",
       "      <td>112.0</td>\n",
       "      <td>112.0</td>\n",
       "      <td>Gas</td>\n",
       "      <td>State Generation</td>\n",
       "      <td>22.31</td>\n",
       "      <td>0.72</td>\n",
       "      <td>23.03</td>\n",
       "      <td>0.0</td>\n",
       "      <td>0.0</td>\n",
       "      <td>0.0</td>\n",
       "      <td>0</td>\n",
       "      <td>GJT</td>\n",
       "      <td>Gujarat</td>\n",
       "      <td>GJT</td>\n",
       "      <td>non_must_run</td>\n",
       "      <td>Gujarat</td>\n",
       "      <td>GJT</td>\n",
       "    </tr>\n",
       "    <tr>\n",
       "      <th>435</th>\n",
       "      <td>DHUVARAN CCPP-I GSPC SPOT GAS</td>\n",
       "      <td>107.0</td>\n",
       "      <td>107.0</td>\n",
       "      <td>Gas</td>\n",
       "      <td>State Generation</td>\n",
       "      <td>22.31</td>\n",
       "      <td>0.72</td>\n",
       "      <td>23.03</td>\n",
       "      <td>0.0</td>\n",
       "      <td>0.0</td>\n",
       "      <td>0.0</td>\n",
       "      <td>0</td>\n",
       "      <td>GJT</td>\n",
       "      <td>Gujarat</td>\n",
       "      <td>GJT</td>\n",
       "      <td>non_must_run</td>\n",
       "      <td>Gujarat</td>\n",
       "      <td>GJT</td>\n",
       "    </tr>\n",
       "    <tr>\n",
       "      <th>436</th>\n",
       "      <td>GSEG_SPOT</td>\n",
       "      <td>156.0</td>\n",
       "      <td>156.0</td>\n",
       "      <td>Gas</td>\n",
       "      <td>State Generation</td>\n",
       "      <td>22.88</td>\n",
       "      <td>0.46</td>\n",
       "      <td>23.34</td>\n",
       "      <td>0.0</td>\n",
       "      <td>0.0</td>\n",
       "      <td>0.0</td>\n",
       "      <td>0</td>\n",
       "      <td>GJT</td>\n",
       "      <td>Gujarat</td>\n",
       "      <td>GJT</td>\n",
       "      <td>non_must_run</td>\n",
       "      <td>Gujarat</td>\n",
       "      <td>GJT</td>\n",
       "    </tr>\n",
       "    <tr>\n",
       "      <th>1103</th>\n",
       "      <td>DHOLPUR GPS</td>\n",
       "      <td>330.0</td>\n",
       "      <td>330.0</td>\n",
       "      <td>Gas</td>\n",
       "      <td>State Generation</td>\n",
       "      <td>23.41</td>\n",
       "      <td>1.02</td>\n",
       "      <td>24.43</td>\n",
       "      <td>0.0</td>\n",
       "      <td>0.0</td>\n",
       "      <td>0.0</td>\n",
       "      <td>0</td>\n",
       "      <td>RJ</td>\n",
       "      <td>Rajasthan</td>\n",
       "      <td>RJ</td>\n",
       "      <td>non_must_run</td>\n",
       "      <td>Rajasthan</td>\n",
       "      <td>RJ</td>\n",
       "    </tr>\n",
       "  </tbody>\n",
       "</table>\n",
       "<p>1411 rows × 18 columns</p>\n",
       "</div>"
      ],
      "text/plain": [
       "                             Station  Capacity Allocated to State (MW)  \\\n",
       "42                      MACHKUND HES                               0.0   \n",
       "43                 T. B. DAM (SHARE)                               0.0   \n",
       "45                      DONKARAI HES                               0.0   \n",
       "46                      LOWER SILERU                             460.0   \n",
       "47                      SRISAILAM RB                             770.0   \n",
       "...                              ...                               ...   \n",
       "433                      GSEG_2_SPOT                             351.0   \n",
       "434   DHUVARAN CCPP-II GSPC SPOT GAS                             112.0   \n",
       "435    DHUVARAN CCPP-I GSPC SPOT GAS                             107.0   \n",
       "436                        GSEG_SPOT                             156.0   \n",
       "1103                     DHOLPUR GPS                             330.0   \n",
       "\n",
       "      Plant Capacity (MW) Type Of Station         Ownership  \\\n",
       "42                  960.0           Hydro  State Generation   \n",
       "43                    0.0           Hydro  State Generation   \n",
       "45                    0.0           Hydro  State Generation   \n",
       "46                  460.0           Hydro  State Generation   \n",
       "47                  770.0           Hydro  State Generation   \n",
       "...                   ...             ...               ...   \n",
       "433                 351.0             Gas  State Generation   \n",
       "434                 112.0             Gas  State Generation   \n",
       "435                 107.0             Gas  State Generation   \n",
       "436                 156.0             Gas  State Generation   \n",
       "1103                330.0             Gas  State Generation   \n",
       "\n",
       "      Variable Cost (Rs/Unit)  Fixed Cost (Rs/Unit)  Total Cost (Rs/Unit)  \\\n",
       "42                       0.00                  1.15                  1.15   \n",
       "43                       0.00                  0.00                  0.00   \n",
       "45                       0.00                  0.00                  0.00   \n",
       "46                       0.00                  1.02                  1.02   \n",
       "47                       0.00                  1.73                  1.73   \n",
       "...                       ...                   ...                   ...   \n",
       "433                     21.18                  1.15                 22.33   \n",
       "434                     22.31                  0.72                 23.03   \n",
       "435                     22.31                  0.72                 23.03   \n",
       "436                     22.88                  0.46                 23.34   \n",
       "1103                    23.41                  1.02                 24.43   \n",
       "\n",
       "      Declared Capability (MWh)  Schedule (MWh)  \\\n",
       "42                        581.0           581.0   \n",
       "43                        528.0           528.0   \n",
       "45                        314.0           314.0   \n",
       "46                       3743.0          3743.0   \n",
       "47                          0.0             0.0   \n",
       "...                         ...             ...   \n",
       "433                         0.0             0.0   \n",
       "434                         0.0             0.0   \n",
       "435                         0.0             0.0   \n",
       "436                         0.0             0.0   \n",
       "1103                        0.0             0.0   \n",
       "\n",
       "      Deviation from Merit Order (MWh) Reason for Deviation / Remarks(if any)  \\\n",
       "42                                 0.0                                      0   \n",
       "43                                 0.0                                      0   \n",
       "45                                 0.0                                      0   \n",
       "46                                 0.0                                      0   \n",
       "47                                 0.0                                      0   \n",
       "...                                ...                                    ...   \n",
       "433                                0.0                                      0   \n",
       "434                                0.0                                      0   \n",
       "435                                0.0                                      0   \n",
       "436                                0.0                                      0   \n",
       "1103                               0.0                                      0   \n",
       "\n",
       "     state    State_name_x State_code_x      must_run    State_name_y  \\\n",
       "42      AP  Andhra Pradesh           AP      must_run  Andhra Pradesh   \n",
       "43      AP  Andhra Pradesh           AP      must_run  Andhra Pradesh   \n",
       "45      AP  Andhra Pradesh           AP      must_run  Andhra Pradesh   \n",
       "46      AP  Andhra Pradesh           AP      must_run  Andhra Pradesh   \n",
       "47      AP  Andhra Pradesh           AP      must_run  Andhra Pradesh   \n",
       "...    ...             ...          ...           ...             ...   \n",
       "433    GJT         Gujarat          GJT  non_must_run         Gujarat   \n",
       "434    GJT         Gujarat          GJT  non_must_run         Gujarat   \n",
       "435    GJT         Gujarat          GJT  non_must_run         Gujarat   \n",
       "436    GJT         Gujarat          GJT  non_must_run         Gujarat   \n",
       "1103    RJ       Rajasthan           RJ  non_must_run       Rajasthan   \n",
       "\n",
       "     State_code_y  \n",
       "42             AP  \n",
       "43             AP  \n",
       "45             AP  \n",
       "46             AP  \n",
       "47             AP  \n",
       "...           ...  \n",
       "433           GJT  \n",
       "434           GJT  \n",
       "435           GJT  \n",
       "436           GJT  \n",
       "1103           RJ  \n",
       "\n",
       "[1411 rows x 18 columns]"
      ]
     },
     "execution_count": 57,
     "metadata": {},
     "output_type": "execute_result"
    }
   ],
   "source": [
    "all_india_data.sort_values(by=['must_run','Variable Cost (Rs/Unit)'],axis=0,ascending=[True,True])"
   ]
  },
  {
   "cell_type": "code",
   "execution_count": 71,
   "metadata": {},
   "outputs": [],
   "source": [
    "df2=pd.read_csv(\"Use_map_state.csv\")"
   ]
  },
  {
   "cell_type": "code",
   "execution_count": 72,
   "metadata": {},
   "outputs": [
    {
     "data": {
      "text/html": [
       "<div>\n",
       "<style scoped>\n",
       "    .dataframe tbody tr th:only-of-type {\n",
       "        vertical-align: middle;\n",
       "    }\n",
       "\n",
       "    .dataframe tbody tr th {\n",
       "        vertical-align: top;\n",
       "    }\n",
       "\n",
       "    .dataframe thead th {\n",
       "        text-align: right;\n",
       "    }\n",
       "</style>\n",
       "<table border=\"1\" class=\"dataframe\">\n",
       "  <thead>\n",
       "    <tr style=\"text-align: right;\">\n",
       "      <th></th>\n",
       "      <th>S.NO.</th>\n",
       "      <th>State</th>\n",
       "    </tr>\n",
       "  </thead>\n",
       "  <tbody>\n",
       "    <tr>\n",
       "      <th>0</th>\n",
       "      <td>1</td>\n",
       "      <td>Andaman &amp; Nicobar</td>\n",
       "    </tr>\n",
       "    <tr>\n",
       "      <th>1</th>\n",
       "      <td>2</td>\n",
       "      <td>Andhra Pradesh</td>\n",
       "    </tr>\n",
       "    <tr>\n",
       "      <th>2</th>\n",
       "      <td>3</td>\n",
       "      <td>Arunachal Pradesh</td>\n",
       "    </tr>\n",
       "    <tr>\n",
       "      <th>3</th>\n",
       "      <td>4</td>\n",
       "      <td>Assam</td>\n",
       "    </tr>\n",
       "    <tr>\n",
       "      <th>4</th>\n",
       "      <td>5</td>\n",
       "      <td>Bihar</td>\n",
       "    </tr>\n",
       "    <tr>\n",
       "      <th>5</th>\n",
       "      <td>6</td>\n",
       "      <td>Chandigarh</td>\n",
       "    </tr>\n",
       "    <tr>\n",
       "      <th>6</th>\n",
       "      <td>7</td>\n",
       "      <td>Chhattisgarh</td>\n",
       "    </tr>\n",
       "    <tr>\n",
       "      <th>7</th>\n",
       "      <td>8</td>\n",
       "      <td>Dadra &amp; Nagar Haveli</td>\n",
       "    </tr>\n",
       "    <tr>\n",
       "      <th>8</th>\n",
       "      <td>9</td>\n",
       "      <td>Daman &amp; Diu</td>\n",
       "    </tr>\n",
       "    <tr>\n",
       "      <th>9</th>\n",
       "      <td>10</td>\n",
       "      <td>Delhi</td>\n",
       "    </tr>\n",
       "    <tr>\n",
       "      <th>10</th>\n",
       "      <td>11</td>\n",
       "      <td>Goa</td>\n",
       "    </tr>\n",
       "    <tr>\n",
       "      <th>11</th>\n",
       "      <td>12</td>\n",
       "      <td>Gujarat</td>\n",
       "    </tr>\n",
       "    <tr>\n",
       "      <th>12</th>\n",
       "      <td>13</td>\n",
       "      <td>Haryana</td>\n",
       "    </tr>\n",
       "    <tr>\n",
       "      <th>13</th>\n",
       "      <td>14</td>\n",
       "      <td>Himachal Pradesh</td>\n",
       "    </tr>\n",
       "    <tr>\n",
       "      <th>14</th>\n",
       "      <td>15</td>\n",
       "      <td>Jammu &amp; Kashmir</td>\n",
       "    </tr>\n",
       "    <tr>\n",
       "      <th>15</th>\n",
       "      <td>16</td>\n",
       "      <td>Jharkhand</td>\n",
       "    </tr>\n",
       "    <tr>\n",
       "      <th>16</th>\n",
       "      <td>17</td>\n",
       "      <td>Karnataka</td>\n",
       "    </tr>\n",
       "    <tr>\n",
       "      <th>17</th>\n",
       "      <td>18</td>\n",
       "      <td>Kerala</td>\n",
       "    </tr>\n",
       "    <tr>\n",
       "      <th>18</th>\n",
       "      <td>19</td>\n",
       "      <td>Lakshadweep</td>\n",
       "    </tr>\n",
       "    <tr>\n",
       "      <th>19</th>\n",
       "      <td>20</td>\n",
       "      <td>Madhya Pradesh</td>\n",
       "    </tr>\n",
       "    <tr>\n",
       "      <th>20</th>\n",
       "      <td>21</td>\n",
       "      <td>Maharashtra</td>\n",
       "    </tr>\n",
       "    <tr>\n",
       "      <th>21</th>\n",
       "      <td>22</td>\n",
       "      <td>Manipur</td>\n",
       "    </tr>\n",
       "    <tr>\n",
       "      <th>22</th>\n",
       "      <td>23</td>\n",
       "      <td>Meghalaya</td>\n",
       "    </tr>\n",
       "    <tr>\n",
       "      <th>23</th>\n",
       "      <td>24</td>\n",
       "      <td>Mizoram</td>\n",
       "    </tr>\n",
       "    <tr>\n",
       "      <th>24</th>\n",
       "      <td>25</td>\n",
       "      <td>Nagaland</td>\n",
       "    </tr>\n",
       "    <tr>\n",
       "      <th>25</th>\n",
       "      <td>26</td>\n",
       "      <td>Odisha</td>\n",
       "    </tr>\n",
       "    <tr>\n",
       "      <th>26</th>\n",
       "      <td>27</td>\n",
       "      <td>Puducherry</td>\n",
       "    </tr>\n",
       "    <tr>\n",
       "      <th>27</th>\n",
       "      <td>28</td>\n",
       "      <td>Punjab</td>\n",
       "    </tr>\n",
       "    <tr>\n",
       "      <th>28</th>\n",
       "      <td>29</td>\n",
       "      <td>Rajasthan</td>\n",
       "    </tr>\n",
       "    <tr>\n",
       "      <th>29</th>\n",
       "      <td>30</td>\n",
       "      <td>Sikkim</td>\n",
       "    </tr>\n",
       "    <tr>\n",
       "      <th>30</th>\n",
       "      <td>31</td>\n",
       "      <td>Tamil Nadu</td>\n",
       "    </tr>\n",
       "    <tr>\n",
       "      <th>31</th>\n",
       "      <td>32</td>\n",
       "      <td>Telangana</td>\n",
       "    </tr>\n",
       "    <tr>\n",
       "      <th>32</th>\n",
       "      <td>33</td>\n",
       "      <td>Tripura</td>\n",
       "    </tr>\n",
       "    <tr>\n",
       "      <th>33</th>\n",
       "      <td>34</td>\n",
       "      <td>Uttar Pradesh</td>\n",
       "    </tr>\n",
       "    <tr>\n",
       "      <th>34</th>\n",
       "      <td>35</td>\n",
       "      <td>Uttarakhand</td>\n",
       "    </tr>\n",
       "    <tr>\n",
       "      <th>35</th>\n",
       "      <td>36</td>\n",
       "      <td>West Bengal</td>\n",
       "    </tr>\n",
       "    <tr>\n",
       "      <th>36</th>\n",
       "      <td>37</td>\n",
       "      <td>Ladakh</td>\n",
       "    </tr>\n",
       "  </tbody>\n",
       "</table>\n",
       "</div>"
      ],
      "text/plain": [
       "    S.NO.                 State\n",
       "0       1     Andaman & Nicobar\n",
       "1       2        Andhra Pradesh\n",
       "2       3     Arunachal Pradesh\n",
       "3       4                 Assam\n",
       "4       5                 Bihar\n",
       "5       6            Chandigarh\n",
       "6       7          Chhattisgarh\n",
       "7       8  Dadra & Nagar Haveli\n",
       "8       9           Daman & Diu\n",
       "9      10                 Delhi\n",
       "10     11                   Goa\n",
       "11     12               Gujarat\n",
       "12     13               Haryana\n",
       "13     14      Himachal Pradesh\n",
       "14     15       Jammu & Kashmir\n",
       "15     16             Jharkhand\n",
       "16     17             Karnataka\n",
       "17     18                Kerala\n",
       "18     19           Lakshadweep\n",
       "19     20        Madhya Pradesh\n",
       "20     21           Maharashtra\n",
       "21     22               Manipur\n",
       "22     23             Meghalaya\n",
       "23     24               Mizoram\n",
       "24     25              Nagaland\n",
       "25     26                Odisha\n",
       "26     27            Puducherry\n",
       "27     28                Punjab\n",
       "28     29             Rajasthan\n",
       "29     30                Sikkim\n",
       "30     31            Tamil Nadu\n",
       "31     32             Telangana\n",
       "32     33               Tripura\n",
       "33     34         Uttar Pradesh\n",
       "34     35           Uttarakhand\n",
       "35     36           West Bengal\n",
       "36     37                Ladakh"
      ]
     },
     "execution_count": 72,
     "metadata": {},
     "output_type": "execute_result"
    }
   ],
   "source": [
    "df2"
   ]
  },
  {
   "cell_type": "code",
   "execution_count": 88,
   "metadata": {},
   "outputs": [],
   "source": [
    "all_india_data['State_code_x'].replace({'Dadra and Nagar Haveli\t':'Dadra & Nagar Haveli\t','Daman and Diu\t':'Daman & Diu'},inplace=True)"
   ]
  },
  {
   "cell_type": "code",
   "execution_count": 102,
   "metadata": {},
   "outputs": [
    {
     "data": {
      "text/html": [
       "<div>\n",
       "<style scoped>\n",
       "    .dataframe tbody tr th:only-of-type {\n",
       "        vertical-align: middle;\n",
       "    }\n",
       "\n",
       "    .dataframe tbody tr th {\n",
       "        vertical-align: top;\n",
       "    }\n",
       "\n",
       "    .dataframe thead th {\n",
       "        text-align: right;\n",
       "    }\n",
       "</style>\n",
       "<table border=\"1\" class=\"dataframe\">\n",
       "  <thead>\n",
       "    <tr style=\"text-align: right;\">\n",
       "      <th></th>\n",
       "      <th>Station</th>\n",
       "      <th>Capacity Allocated to State (MW)</th>\n",
       "      <th>Plant Capacity (MW)</th>\n",
       "      <th>Type Of Station</th>\n",
       "      <th>Ownership</th>\n",
       "      <th>Variable Cost (Rs/Unit)</th>\n",
       "      <th>Fixed Cost (Rs/Unit)</th>\n",
       "      <th>Total Cost (Rs/Unit)</th>\n",
       "      <th>Declared Capability (MWh)</th>\n",
       "      <th>Schedule (MWh)</th>\n",
       "      <th>Deviation from Merit Order (MWh)</th>\n",
       "      <th>Reason for Deviation / Remarks(if any)</th>\n",
       "      <th>state</th>\n",
       "      <th>State_name_x</th>\n",
       "      <th>State_code_x</th>\n",
       "      <th>must_run</th>\n",
       "      <th>State_name_y</th>\n",
       "      <th>State_code_y</th>\n",
       "    </tr>\n",
       "  </thead>\n",
       "  <tbody>\n",
       "    <tr>\n",
       "      <th>0</th>\n",
       "      <td>KORBA ST 3</td>\n",
       "      <td>0.0</td>\n",
       "      <td>0.0</td>\n",
       "      <td>Thermal</td>\n",
       "      <td>State Generation</td>\n",
       "      <td>1.38</td>\n",
       "      <td>1.38</td>\n",
       "      <td>2.76</td>\n",
       "      <td>0.0</td>\n",
       "      <td>0.0</td>\n",
       "      <td>0.0</td>\n",
       "      <td>0</td>\n",
       "      <td>AP</td>\n",
       "      <td>Andhra Pradesh</td>\n",
       "      <td>AP</td>\n",
       "      <td>non_must_run</td>\n",
       "      <td>Andhra Pradesh</td>\n",
       "      <td>AP</td>\n",
       "    </tr>\n",
       "    <tr>\n",
       "      <th>1</th>\n",
       "      <td>KORBA SUPER THERMAL PS 1</td>\n",
       "      <td>0.0</td>\n",
       "      <td>0.0</td>\n",
       "      <td>Thermal</td>\n",
       "      <td>State Generation</td>\n",
       "      <td>1.42</td>\n",
       "      <td>0.68</td>\n",
       "      <td>2.10</td>\n",
       "      <td>0.0</td>\n",
       "      <td>0.0</td>\n",
       "      <td>0.0</td>\n",
       "      <td>0</td>\n",
       "      <td>AP</td>\n",
       "      <td>Andhra Pradesh</td>\n",
       "      <td>AP</td>\n",
       "      <td>non_must_run</td>\n",
       "      <td>Andhra Pradesh</td>\n",
       "      <td>AP</td>\n",
       "    </tr>\n",
       "    <tr>\n",
       "      <th>2</th>\n",
       "      <td>SIPAT TERMAL POWER STATION 1</td>\n",
       "      <td>0.0</td>\n",
       "      <td>0.0</td>\n",
       "      <td>Thermal</td>\n",
       "      <td>State Generation</td>\n",
       "      <td>1.43</td>\n",
       "      <td>1.30</td>\n",
       "      <td>2.73</td>\n",
       "      <td>0.0</td>\n",
       "      <td>0.0</td>\n",
       "      <td>0.0</td>\n",
       "      <td>0</td>\n",
       "      <td>AP</td>\n",
       "      <td>Andhra Pradesh</td>\n",
       "      <td>AP</td>\n",
       "      <td>non_must_run</td>\n",
       "      <td>Andhra Pradesh</td>\n",
       "      <td>AP</td>\n",
       "    </tr>\n",
       "    <tr>\n",
       "      <th>3</th>\n",
       "      <td>SIPAT 2</td>\n",
       "      <td>0.0</td>\n",
       "      <td>0.0</td>\n",
       "      <td>Thermal</td>\n",
       "      <td>State Generation</td>\n",
       "      <td>1.48</td>\n",
       "      <td>1.24</td>\n",
       "      <td>2.72</td>\n",
       "      <td>0.0</td>\n",
       "      <td>0.0</td>\n",
       "      <td>0.0</td>\n",
       "      <td>0</td>\n",
       "      <td>AP</td>\n",
       "      <td>Andhra Pradesh</td>\n",
       "      <td>AP</td>\n",
       "      <td>non_must_run</td>\n",
       "      <td>Andhra Pradesh</td>\n",
       "      <td>AP</td>\n",
       "    </tr>\n",
       "    <tr>\n",
       "      <th>4</th>\n",
       "      <td>TALCHER STPS-2</td>\n",
       "      <td>180.0</td>\n",
       "      <td>2000.0</td>\n",
       "      <td>Thermal</td>\n",
       "      <td>Central ISGS</td>\n",
       "      <td>1.75</td>\n",
       "      <td>0.71</td>\n",
       "      <td>2.46</td>\n",
       "      <td>4055.0</td>\n",
       "      <td>4055.0</td>\n",
       "      <td>0.0</td>\n",
       "      <td>0</td>\n",
       "      <td>AP</td>\n",
       "      <td>Andhra Pradesh</td>\n",
       "      <td>AP</td>\n",
       "      <td>non_must_run</td>\n",
       "      <td>Andhra Pradesh</td>\n",
       "      <td>AP</td>\n",
       "    </tr>\n",
       "  </tbody>\n",
       "</table>\n",
       "</div>"
      ],
      "text/plain": [
       "                        Station  Capacity Allocated to State (MW)  \\\n",
       "0                    KORBA ST 3                               0.0   \n",
       "1      KORBA SUPER THERMAL PS 1                               0.0   \n",
       "2  SIPAT TERMAL POWER STATION 1                               0.0   \n",
       "3                       SIPAT 2                               0.0   \n",
       "4                TALCHER STPS-2                             180.0   \n",
       "\n",
       "   Plant Capacity (MW) Type Of Station         Ownership  \\\n",
       "0                  0.0         Thermal  State Generation   \n",
       "1                  0.0         Thermal  State Generation   \n",
       "2                  0.0         Thermal  State Generation   \n",
       "3                  0.0         Thermal  State Generation   \n",
       "4               2000.0         Thermal      Central ISGS   \n",
       "\n",
       "   Variable Cost (Rs/Unit)  Fixed Cost (Rs/Unit)  Total Cost (Rs/Unit)  \\\n",
       "0                     1.38                  1.38                  2.76   \n",
       "1                     1.42                  0.68                  2.10   \n",
       "2                     1.43                  1.30                  2.73   \n",
       "3                     1.48                  1.24                  2.72   \n",
       "4                     1.75                  0.71                  2.46   \n",
       "\n",
       "   Declared Capability (MWh)  Schedule (MWh)  \\\n",
       "0                        0.0             0.0   \n",
       "1                        0.0             0.0   \n",
       "2                        0.0             0.0   \n",
       "3                        0.0             0.0   \n",
       "4                     4055.0          4055.0   \n",
       "\n",
       "   Deviation from Merit Order (MWh) Reason for Deviation / Remarks(if any)  \\\n",
       "0                               0.0                                      0   \n",
       "1                               0.0                                      0   \n",
       "2                               0.0                                      0   \n",
       "3                               0.0                                      0   \n",
       "4                               0.0                                      0   \n",
       "\n",
       "  state    State_name_x State_code_x      must_run    State_name_y  \\\n",
       "0    AP  Andhra Pradesh           AP  non_must_run  Andhra Pradesh   \n",
       "1    AP  Andhra Pradesh           AP  non_must_run  Andhra Pradesh   \n",
       "2    AP  Andhra Pradesh           AP  non_must_run  Andhra Pradesh   \n",
       "3    AP  Andhra Pradesh           AP  non_must_run  Andhra Pradesh   \n",
       "4    AP  Andhra Pradesh           AP  non_must_run  Andhra Pradesh   \n",
       "\n",
       "  State_code_y  \n",
       "0           AP  \n",
       "1           AP  \n",
       "2           AP  \n",
       "3           AP  \n",
       "4           AP  "
      ]
     },
     "execution_count": 102,
     "metadata": {},
     "output_type": "execute_result"
    }
   ],
   "source": [
    "all_india_data.head()"
   ]
  },
  {
   "cell_type": "code",
   "execution_count": 34,
   "metadata": {},
   "outputs": [
    {
     "data": {
      "text/html": [
       "<div>\n",
       "<style scoped>\n",
       "    .dataframe tbody tr th:only-of-type {\n",
       "        vertical-align: middle;\n",
       "    }\n",
       "\n",
       "    .dataframe tbody tr th {\n",
       "        vertical-align: top;\n",
       "    }\n",
       "\n",
       "    .dataframe thead th {\n",
       "        text-align: right;\n",
       "    }\n",
       "</style>\n",
       "<table border=\"1\" class=\"dataframe\">\n",
       "  <thead>\n",
       "    <tr style=\"text-align: right;\">\n",
       "      <th></th>\n",
       "      <th>State_name</th>\n",
       "      <th>State_code</th>\n",
       "    </tr>\n",
       "  </thead>\n",
       "  <tbody>\n",
       "    <tr>\n",
       "      <th>0</th>\n",
       "      <td>Andhra Pradesh</td>\n",
       "      <td>AP</td>\n",
       "    </tr>\n",
       "    <tr>\n",
       "      <th>1</th>\n",
       "      <td>Arunachal Pradesh</td>\n",
       "      <td>ACP</td>\n",
       "    </tr>\n",
       "    <tr>\n",
       "      <th>2</th>\n",
       "      <td>Assam</td>\n",
       "      <td>ASM</td>\n",
       "    </tr>\n",
       "    <tr>\n",
       "      <th>3</th>\n",
       "      <td>Bihar</td>\n",
       "      <td>BHR</td>\n",
       "    </tr>\n",
       "    <tr>\n",
       "      <th>4</th>\n",
       "      <td>Chandigarh</td>\n",
       "      <td>CHG</td>\n",
       "    </tr>\n",
       "    <tr>\n",
       "      <th>5</th>\n",
       "      <td>Chhattisgarh</td>\n",
       "      <td>CTG</td>\n",
       "    </tr>\n",
       "    <tr>\n",
       "      <th>6</th>\n",
       "      <td>Dadra and Nagar Haveli</td>\n",
       "      <td>DNH</td>\n",
       "    </tr>\n",
       "    <tr>\n",
       "      <th>7</th>\n",
       "      <td>Daman and Diu</td>\n",
       "      <td>DND</td>\n",
       "    </tr>\n",
       "    <tr>\n",
       "      <th>8</th>\n",
       "      <td>Delhi</td>\n",
       "      <td>DL</td>\n",
       "    </tr>\n",
       "    <tr>\n",
       "      <th>9</th>\n",
       "      <td>Goa</td>\n",
       "      <td>GOA</td>\n",
       "    </tr>\n",
       "    <tr>\n",
       "      <th>10</th>\n",
       "      <td>Gujarat</td>\n",
       "      <td>GJT</td>\n",
       "    </tr>\n",
       "    <tr>\n",
       "      <th>11</th>\n",
       "      <td>Haryana</td>\n",
       "      <td>HRN</td>\n",
       "    </tr>\n",
       "    <tr>\n",
       "      <th>12</th>\n",
       "      <td>Himachal Pradesh</td>\n",
       "      <td>HP</td>\n",
       "    </tr>\n",
       "    <tr>\n",
       "      <th>13</th>\n",
       "      <td>Jammu &amp; Kashmir</td>\n",
       "      <td>JAK</td>\n",
       "    </tr>\n",
       "    <tr>\n",
       "      <th>14</th>\n",
       "      <td>Jharkhand</td>\n",
       "      <td>JHK</td>\n",
       "    </tr>\n",
       "    <tr>\n",
       "      <th>15</th>\n",
       "      <td>Karnataka</td>\n",
       "      <td>KRT</td>\n",
       "    </tr>\n",
       "    <tr>\n",
       "      <th>16</th>\n",
       "      <td>Kerala</td>\n",
       "      <td>KRL</td>\n",
       "    </tr>\n",
       "    <tr>\n",
       "      <th>17</th>\n",
       "      <td>Madhya Pradesh</td>\n",
       "      <td>MPD</td>\n",
       "    </tr>\n",
       "    <tr>\n",
       "      <th>18</th>\n",
       "      <td>Maharashtra</td>\n",
       "      <td>MHA</td>\n",
       "    </tr>\n",
       "    <tr>\n",
       "      <th>19</th>\n",
       "      <td>Manipur</td>\n",
       "      <td>MIP</td>\n",
       "    </tr>\n",
       "    <tr>\n",
       "      <th>20</th>\n",
       "      <td>Meghalaya</td>\n",
       "      <td>MGA</td>\n",
       "    </tr>\n",
       "    <tr>\n",
       "      <th>21</th>\n",
       "      <td>Mizoram</td>\n",
       "      <td>MZM</td>\n",
       "    </tr>\n",
       "    <tr>\n",
       "      <th>22</th>\n",
       "      <td>Nagaland</td>\n",
       "      <td>NGD</td>\n",
       "    </tr>\n",
       "    <tr>\n",
       "      <th>23</th>\n",
       "      <td>Odisha</td>\n",
       "      <td>ODI</td>\n",
       "    </tr>\n",
       "    <tr>\n",
       "      <th>24</th>\n",
       "      <td>Puducherry</td>\n",
       "      <td>PU</td>\n",
       "    </tr>\n",
       "    <tr>\n",
       "      <th>25</th>\n",
       "      <td>Punjab</td>\n",
       "      <td>PNB</td>\n",
       "    </tr>\n",
       "    <tr>\n",
       "      <th>26</th>\n",
       "      <td>Rajasthan</td>\n",
       "      <td>RJ</td>\n",
       "    </tr>\n",
       "    <tr>\n",
       "      <th>27</th>\n",
       "      <td>Sikkim</td>\n",
       "      <td>SKM</td>\n",
       "    </tr>\n",
       "    <tr>\n",
       "      <th>28</th>\n",
       "      <td>Tamil Nadu</td>\n",
       "      <td>TND</td>\n",
       "    </tr>\n",
       "    <tr>\n",
       "      <th>29</th>\n",
       "      <td>Telangana</td>\n",
       "      <td>TLG</td>\n",
       "    </tr>\n",
       "    <tr>\n",
       "      <th>30</th>\n",
       "      <td>Tripura</td>\n",
       "      <td>TPA</td>\n",
       "    </tr>\n",
       "    <tr>\n",
       "      <th>31</th>\n",
       "      <td>Uttar Pradesh</td>\n",
       "      <td>UP</td>\n",
       "    </tr>\n",
       "    <tr>\n",
       "      <th>32</th>\n",
       "      <td>Uttarakhand</td>\n",
       "      <td>UTK</td>\n",
       "    </tr>\n",
       "    <tr>\n",
       "      <th>33</th>\n",
       "      <td>West Bengal</td>\n",
       "      <td>BGL</td>\n",
       "    </tr>\n",
       "    <tr>\n",
       "      <th>34</th>\n",
       "      <td>Ladakh</td>\n",
       "      <td>LDK</td>\n",
       "    </tr>\n",
       "    <tr>\n",
       "      <th>35</th>\n",
       "      <td>Lakshadweep</td>\n",
       "      <td>LDP</td>\n",
       "    </tr>\n",
       "  </tbody>\n",
       "</table>\n",
       "</div>"
      ],
      "text/plain": [
       "                State_name State_code\n",
       "0           Andhra Pradesh         AP\n",
       "1        Arunachal Pradesh        ACP\n",
       "2                    Assam        ASM\n",
       "3                    Bihar        BHR\n",
       "4               Chandigarh        CHG\n",
       "5             Chhattisgarh        CTG\n",
       "6   Dadra and Nagar Haveli        DNH\n",
       "7            Daman and Diu        DND\n",
       "8                    Delhi         DL\n",
       "9                      Goa        GOA\n",
       "10                 Gujarat        GJT\n",
       "11                 Haryana        HRN\n",
       "12        Himachal Pradesh         HP\n",
       "13         Jammu & Kashmir        JAK\n",
       "14               Jharkhand        JHK\n",
       "15               Karnataka        KRT\n",
       "16                  Kerala        KRL\n",
       "17          Madhya Pradesh        MPD\n",
       "18             Maharashtra        MHA\n",
       "19                 Manipur        MIP\n",
       "20               Meghalaya        MGA\n",
       "21                 Mizoram        MZM\n",
       "22                Nagaland        NGD\n",
       "23                  Odisha        ODI\n",
       "24              Puducherry         PU\n",
       "25                  Punjab        PNB\n",
       "26               Rajasthan         RJ\n",
       "27                  Sikkim        SKM\n",
       "28              Tamil Nadu        TND\n",
       "29               Telangana        TLG\n",
       "30                 Tripura        TPA\n",
       "31           Uttar Pradesh         UP\n",
       "32             Uttarakhand        UTK\n",
       "33             West Bengal        BGL\n",
       "34                  Ladakh        LDK\n",
       "35             Lakshadweep        LDP"
      ]
     },
     "execution_count": 34,
     "metadata": {},
     "output_type": "execute_result"
    }
   ],
   "source": [
    "# df1['State_name'].replace({'Jammu and Kashmir':'Jammu & Kashmir'},inplace=True)\n",
    "# df1"
   ]
  },
  {
   "cell_type": "code",
   "execution_count": 145,
   "metadata": {},
   "outputs": [
    {
     "name": "stdout",
     "output_type": "stream",
     "text": [
      "Dash is running on http://127.0.0.1:8050/\n",
      "\n",
      "Dash is running on http://127.0.0.1:8050/\n",
      "\n",
      "Dash is running on http://127.0.0.1:8050/\n",
      "\n",
      "Dash is running on http://127.0.0.1:8050/\n",
      "\n",
      "Dash is running on http://127.0.0.1:8050/\n",
      "\n",
      "Dash is running on http://127.0.0.1:8050/\n",
      "\n",
      "Dash is running on http://127.0.0.1:8050/\n",
      "\n",
      "Dash is running on http://127.0.0.1:8050/\n",
      "\n",
      "Dash is running on http://127.0.0.1:8050/\n",
      "\n",
      "Dash is running on http://127.0.0.1:8050/\n",
      "\n",
      "Dash is running on http://127.0.0.1:8050/\n",
      "\n",
      "Dash is running on http://127.0.0.1:8050/\n",
      "\n",
      "Dash is running on http://127.0.0.1:8050/\n",
      "\n",
      "Dash is running on http://127.0.0.1:8050/\n",
      "\n",
      "Dash is running on http://127.0.0.1:8050/\n",
      "\n",
      "Dash is running on http://127.0.0.1:8050/\n",
      "\n",
      "Dash is running on http://127.0.0.1:8050/\n",
      "\n",
      "Dash is running on http://127.0.0.1:8050/\n",
      "\n",
      "Dash is running on http://127.0.0.1:8050/\n",
      "\n",
      "Dash is running on http://127.0.0.1:8050/\n",
      "\n",
      "Dash is running on http://127.0.0.1:8050/\n",
      "\n",
      "Dash is running on http://127.0.0.1:8050/\n",
      "\n",
      "Dash is running on http://127.0.0.1:8050/\n",
      "\n",
      "Dash is running on http://127.0.0.1:8050/\n",
      "\n",
      "Dash is running on http://127.0.0.1:8050/\n",
      "\n",
      "Dash is running on http://127.0.0.1:8050/\n",
      "\n",
      "Dash is running on http://127.0.0.1:8050/\n",
      "\n",
      "Dash is running on http://127.0.0.1:8050/\n",
      "\n",
      "Dash is running on http://127.0.0.1:8050/\n",
      "\n",
      "Dash is running on http://127.0.0.1:8050/\n",
      "\n",
      "Dash is running on http://127.0.0.1:8050/\n",
      "\n",
      "Dash is running on http://127.0.0.1:8050/\n",
      "\n",
      "Dash is running on http://127.0.0.1:8050/\n",
      "\n",
      "Dash is running on http://127.0.0.1:8050/\n",
      "\n",
      "Dash is running on http://127.0.0.1:8050/\n",
      "\n",
      "Dash is running on http://127.0.0.1:8050/\n",
      "\n",
      "Dash is running on http://127.0.0.1:8050/\n",
      "\n",
      "Dash is running on http://127.0.0.1:8050/\n",
      "\n",
      "Dash is running on http://127.0.0.1:8050/\n",
      "\n",
      "Dash is running on http://127.0.0.1:8050/\n",
      "\n",
      "Dash is running on http://127.0.0.1:8050/\n",
      "\n",
      "Dash is running on http://127.0.0.1:8050/\n",
      "\n",
      "Dash is running on http://127.0.0.1:8050/\n",
      "\n",
      "Dash is running on http://127.0.0.1:8050/\n",
      "\n",
      " * Serving Flask app '__main__' (lazy loading)\n",
      " * Environment: production\n",
      "\u001b[31m   WARNING: This is a development server. Do not use it in a production deployment.\u001b[0m\n",
      "\u001b[2m   Use a production WSGI server instead.\u001b[0m\n",
      " * Debug mode: off\n"
     ]
    },
    {
     "name": "stderr",
     "output_type": "stream",
     "text": [
      " * Running on http://127.0.0.1:8050/ (Press CTRL+C to quit)\n",
      "127.0.0.1 - - [15/Mar/2022 19:57:43] \"GET / HTTP/1.1\" 200 -\n",
      "127.0.0.1 - - [15/Mar/2022 19:57:43] \"GET /_dash-layout HTTP/1.1\" 200 -\n",
      "127.0.0.1 - - [15/Mar/2022 19:57:43] \"GET /_dash-dependencies HTTP/1.1\" 200 -\n",
      "127.0.0.1 - - [15/Mar/2022 19:57:43] \"GET /_dash-component-suites/dash/dcc/async-dropdown.js HTTP/1.1\" 200 -\n",
      "127.0.0.1 - - [15/Mar/2022 19:57:43] \"GET /_dash-component-suites/dash/dcc/async-graph.js HTTP/1.1\" 200 -\n",
      "127.0.0.1 - - [15/Mar/2022 19:57:43] \"GET /_favicon.ico?v=2.2.0 HTTP/1.1\" 200 -\n",
      "127.0.0.1 - - [15/Mar/2022 19:57:43] \"GET /_dash-component-suites/dash/dcc/async-plotlyjs.js HTTP/1.1\" 200 -\n"
     ]
    },
    {
     "data": {
      "application/vnd.plotly.v1+json": {
       "config": {
        "plotlyServerURL": "https://plot.ly"
       },
       "data": [
        {
         "coloraxis": "coloraxis",
         "customdata": [
          [
           0
          ],
          [
           8504
          ],
          [
           18
          ],
          [
           557
          ],
          [
           4090
          ],
          [
           58
          ],
          [
           5318
          ],
          [
           0
          ],
          [
           0
          ],
          [
           4041
          ],
          [
           540
          ],
          [
           16416
          ],
          [
           8820
          ],
          [
           156
          ],
          [
           686
          ],
          [
           992
          ],
          [
           8298
          ],
          [
           2422
          ],
          [
           0
          ],
          [
           11060
          ],
          [
           22920
          ],
          [
           17
          ],
          [
           25
          ],
          [
           16
          ],
          [
           24
          ],
          [
           4802
          ],
          [
           432
          ],
          [
           6057
          ],
          [
           12920
          ],
          [
           111
          ],
          [
           13940
          ],
          [
           9128
          ],
          [
           17
          ],
          [
           19712
          ],
          [
           846
          ],
          [
           8668
          ],
          [
           0
          ],
          [
           671
          ],
          [
           264
          ]
         ],
         "featureidkey": "properties.ST_NM",
         "geo": "geo",
         "geojson": "https://gist.githubusercontent.com/jbrobst/56c13bbbf9d97d187fea01ca62ea5112/raw/e388c4cae20aa53cb5090210a42ebb9b765c0a36/india_states.geojson",
         "hovertemplate": "<b>%{hovertext}</b><br><br>State=%{location}<br>Capacity Allocated to State (MW)=%{z:.2f}<extra></extra>",
         "hovertext": [
          "Andaman & Nicobar",
          "Andhra Pradesh",
          "Arunachal Pradesh",
          "Assam",
          "Bihar",
          "Chandigarh",
          "Chhattisgarh",
          "Dadra & Nagar Haveli",
          "Daman & Diu",
          "Delhi",
          "Goa",
          "Gujarat",
          "Haryana",
          "Himachal Pradesh",
          "Jammu & Kashmir",
          "Jharkhand",
          "Karnataka",
          "Kerala",
          "Lakshadweep",
          "Madhya Pradesh",
          "Maharashtra",
          "Manipur",
          "Meghalaya",
          "Mizoram",
          "Nagaland",
          "Odisha",
          "Puducherry",
          "Punjab",
          "Rajasthan",
          "Sikkim",
          "Tamil Nadu",
          "Telangana",
          "Tripura",
          "Uttar Pradesh",
          "Uttarakhand",
          "West Bengal",
          "Ladakh",
          null,
          null
         ],
         "locations": [
          "Andaman & Nicobar",
          "Andhra Pradesh",
          "Arunachal Pradesh",
          "Assam",
          "Bihar",
          "Chandigarh",
          "Chhattisgarh",
          "Dadra & Nagar Haveli",
          "Daman & Diu",
          "Delhi",
          "Goa",
          "Gujarat",
          "Haryana",
          "Himachal Pradesh",
          "Jammu & Kashmir",
          "Jharkhand",
          "Karnataka",
          "Kerala",
          "Lakshadweep",
          "Madhya Pradesh",
          "Maharashtra",
          "Manipur",
          "Meghalaya",
          "Mizoram",
          "Nagaland",
          "Odisha",
          "Puducherry",
          "Punjab",
          "Rajasthan",
          "Sikkim",
          "Tamil Nadu",
          "Telangana",
          "Tripura",
          "Uttar Pradesh",
          "Uttarakhand",
          "West Bengal",
          "Ladakh",
          null,
          null
         ],
         "name": "",
         "type": "choropleth",
         "z": [
          0,
          8504,
          18,
          557,
          4090,
          58,
          5318,
          0,
          0,
          4041,
          540,
          16416,
          8820,
          156,
          686,
          992,
          8298,
          2422,
          0,
          11060,
          22920,
          17,
          25,
          16,
          24,
          4802,
          432,
          6057,
          12920,
          111,
          13940,
          9128,
          17,
          19712,
          846,
          8668,
          0,
          671,
          264
         ]
        }
       ],
       "layout": {
        "coloraxis": {
         "colorbar": {
          "title": {
           "text": "Capacity Allocated to State (MW)"
          }
         },
         "colorscale": [
          [
           0,
           "#0d0887"
          ],
          [
           0.1111111111111111,
           "#46039f"
          ],
          [
           0.2222222222222222,
           "#7201a8"
          ],
          [
           0.3333333333333333,
           "#9c179e"
          ],
          [
           0.4444444444444444,
           "#bd3786"
          ],
          [
           0.5555555555555556,
           "#d8576b"
          ],
          [
           0.6666666666666666,
           "#ed7953"
          ],
          [
           0.7777777777777778,
           "#fb9f3a"
          ],
          [
           0.8888888888888888,
           "#fdca26"
          ],
          [
           1,
           "#f0f921"
          ]
         ]
        },
        "font": {
         "color": "black"
        },
        "geo": {
         "bgcolor": "pink",
         "center": {},
         "domain": {
          "x": [
           0,
           1
          ],
          "y": [
           0,
           1
          ]
         },
         "fitbounds": "locations",
         "scope": "asia",
         "visible": false
        },
        "legend": {
         "tracegroupgap": 0
        },
        "margin": {
         "t": 60
        },
        "paper_bgcolor": "pink",
        "plot_bgcolor": "pink",
        "template": {
         "data": {
          "bar": [
           {
            "error_x": {
             "color": "#2a3f5f"
            },
            "error_y": {
             "color": "#2a3f5f"
            },
            "marker": {
             "line": {
              "color": "#E5ECF6",
              "width": 0.5
             },
             "pattern": {
              "fillmode": "overlay",
              "size": 10,
              "solidity": 0.2
             }
            },
            "type": "bar"
           }
          ],
          "barpolar": [
           {
            "marker": {
             "line": {
              "color": "#E5ECF6",
              "width": 0.5
             },
             "pattern": {
              "fillmode": "overlay",
              "size": 10,
              "solidity": 0.2
             }
            },
            "type": "barpolar"
           }
          ],
          "carpet": [
           {
            "aaxis": {
             "endlinecolor": "#2a3f5f",
             "gridcolor": "white",
             "linecolor": "white",
             "minorgridcolor": "white",
             "startlinecolor": "#2a3f5f"
            },
            "baxis": {
             "endlinecolor": "#2a3f5f",
             "gridcolor": "white",
             "linecolor": "white",
             "minorgridcolor": "white",
             "startlinecolor": "#2a3f5f"
            },
            "type": "carpet"
           }
          ],
          "choropleth": [
           {
            "colorbar": {
             "outlinewidth": 0,
             "ticks": ""
            },
            "type": "choropleth"
           }
          ],
          "contour": [
           {
            "colorbar": {
             "outlinewidth": 0,
             "ticks": ""
            },
            "colorscale": [
             [
              0,
              "#0d0887"
             ],
             [
              0.1111111111111111,
              "#46039f"
             ],
             [
              0.2222222222222222,
              "#7201a8"
             ],
             [
              0.3333333333333333,
              "#9c179e"
             ],
             [
              0.4444444444444444,
              "#bd3786"
             ],
             [
              0.5555555555555556,
              "#d8576b"
             ],
             [
              0.6666666666666666,
              "#ed7953"
             ],
             [
              0.7777777777777778,
              "#fb9f3a"
             ],
             [
              0.8888888888888888,
              "#fdca26"
             ],
             [
              1,
              "#f0f921"
             ]
            ],
            "type": "contour"
           }
          ],
          "contourcarpet": [
           {
            "colorbar": {
             "outlinewidth": 0,
             "ticks": ""
            },
            "type": "contourcarpet"
           }
          ],
          "heatmap": [
           {
            "colorbar": {
             "outlinewidth": 0,
             "ticks": ""
            },
            "colorscale": [
             [
              0,
              "#0d0887"
             ],
             [
              0.1111111111111111,
              "#46039f"
             ],
             [
              0.2222222222222222,
              "#7201a8"
             ],
             [
              0.3333333333333333,
              "#9c179e"
             ],
             [
              0.4444444444444444,
              "#bd3786"
             ],
             [
              0.5555555555555556,
              "#d8576b"
             ],
             [
              0.6666666666666666,
              "#ed7953"
             ],
             [
              0.7777777777777778,
              "#fb9f3a"
             ],
             [
              0.8888888888888888,
              "#fdca26"
             ],
             [
              1,
              "#f0f921"
             ]
            ],
            "type": "heatmap"
           }
          ],
          "heatmapgl": [
           {
            "colorbar": {
             "outlinewidth": 0,
             "ticks": ""
            },
            "colorscale": [
             [
              0,
              "#0d0887"
             ],
             [
              0.1111111111111111,
              "#46039f"
             ],
             [
              0.2222222222222222,
              "#7201a8"
             ],
             [
              0.3333333333333333,
              "#9c179e"
             ],
             [
              0.4444444444444444,
              "#bd3786"
             ],
             [
              0.5555555555555556,
              "#d8576b"
             ],
             [
              0.6666666666666666,
              "#ed7953"
             ],
             [
              0.7777777777777778,
              "#fb9f3a"
             ],
             [
              0.8888888888888888,
              "#fdca26"
             ],
             [
              1,
              "#f0f921"
             ]
            ],
            "type": "heatmapgl"
           }
          ],
          "histogram": [
           {
            "marker": {
             "pattern": {
              "fillmode": "overlay",
              "size": 10,
              "solidity": 0.2
             }
            },
            "type": "histogram"
           }
          ],
          "histogram2d": [
           {
            "colorbar": {
             "outlinewidth": 0,
             "ticks": ""
            },
            "colorscale": [
             [
              0,
              "#0d0887"
             ],
             [
              0.1111111111111111,
              "#46039f"
             ],
             [
              0.2222222222222222,
              "#7201a8"
             ],
             [
              0.3333333333333333,
              "#9c179e"
             ],
             [
              0.4444444444444444,
              "#bd3786"
             ],
             [
              0.5555555555555556,
              "#d8576b"
             ],
             [
              0.6666666666666666,
              "#ed7953"
             ],
             [
              0.7777777777777778,
              "#fb9f3a"
             ],
             [
              0.8888888888888888,
              "#fdca26"
             ],
             [
              1,
              "#f0f921"
             ]
            ],
            "type": "histogram2d"
           }
          ],
          "histogram2dcontour": [
           {
            "colorbar": {
             "outlinewidth": 0,
             "ticks": ""
            },
            "colorscale": [
             [
              0,
              "#0d0887"
             ],
             [
              0.1111111111111111,
              "#46039f"
             ],
             [
              0.2222222222222222,
              "#7201a8"
             ],
             [
              0.3333333333333333,
              "#9c179e"
             ],
             [
              0.4444444444444444,
              "#bd3786"
             ],
             [
              0.5555555555555556,
              "#d8576b"
             ],
             [
              0.6666666666666666,
              "#ed7953"
             ],
             [
              0.7777777777777778,
              "#fb9f3a"
             ],
             [
              0.8888888888888888,
              "#fdca26"
             ],
             [
              1,
              "#f0f921"
             ]
            ],
            "type": "histogram2dcontour"
           }
          ],
          "mesh3d": [
           {
            "colorbar": {
             "outlinewidth": 0,
             "ticks": ""
            },
            "type": "mesh3d"
           }
          ],
          "parcoords": [
           {
            "line": {
             "colorbar": {
              "outlinewidth": 0,
              "ticks": ""
             }
            },
            "type": "parcoords"
           }
          ],
          "pie": [
           {
            "automargin": true,
            "type": "pie"
           }
          ],
          "scatter": [
           {
            "marker": {
             "colorbar": {
              "outlinewidth": 0,
              "ticks": ""
             }
            },
            "type": "scatter"
           }
          ],
          "scatter3d": [
           {
            "line": {
             "colorbar": {
              "outlinewidth": 0,
              "ticks": ""
             }
            },
            "marker": {
             "colorbar": {
              "outlinewidth": 0,
              "ticks": ""
             }
            },
            "type": "scatter3d"
           }
          ],
          "scattercarpet": [
           {
            "marker": {
             "colorbar": {
              "outlinewidth": 0,
              "ticks": ""
             }
            },
            "type": "scattercarpet"
           }
          ],
          "scattergeo": [
           {
            "marker": {
             "colorbar": {
              "outlinewidth": 0,
              "ticks": ""
             }
            },
            "type": "scattergeo"
           }
          ],
          "scattergl": [
           {
            "marker": {
             "colorbar": {
              "outlinewidth": 0,
              "ticks": ""
             }
            },
            "type": "scattergl"
           }
          ],
          "scattermapbox": [
           {
            "marker": {
             "colorbar": {
              "outlinewidth": 0,
              "ticks": ""
             }
            },
            "type": "scattermapbox"
           }
          ],
          "scatterpolar": [
           {
            "marker": {
             "colorbar": {
              "outlinewidth": 0,
              "ticks": ""
             }
            },
            "type": "scatterpolar"
           }
          ],
          "scatterpolargl": [
           {
            "marker": {
             "colorbar": {
              "outlinewidth": 0,
              "ticks": ""
             }
            },
            "type": "scatterpolargl"
           }
          ],
          "scatterternary": [
           {
            "marker": {
             "colorbar": {
              "outlinewidth": 0,
              "ticks": ""
             }
            },
            "type": "scatterternary"
           }
          ],
          "surface": [
           {
            "colorbar": {
             "outlinewidth": 0,
             "ticks": ""
            },
            "colorscale": [
             [
              0,
              "#0d0887"
             ],
             [
              0.1111111111111111,
              "#46039f"
             ],
             [
              0.2222222222222222,
              "#7201a8"
             ],
             [
              0.3333333333333333,
              "#9c179e"
             ],
             [
              0.4444444444444444,
              "#bd3786"
             ],
             [
              0.5555555555555556,
              "#d8576b"
             ],
             [
              0.6666666666666666,
              "#ed7953"
             ],
             [
              0.7777777777777778,
              "#fb9f3a"
             ],
             [
              0.8888888888888888,
              "#fdca26"
             ],
             [
              1,
              "#f0f921"
             ]
            ],
            "type": "surface"
           }
          ],
          "table": [
           {
            "cells": {
             "fill": {
              "color": "#EBF0F8"
             },
             "line": {
              "color": "white"
             }
            },
            "header": {
             "fill": {
              "color": "#C8D4E3"
             },
             "line": {
              "color": "white"
             }
            },
            "type": "table"
           }
          ]
         },
         "layout": {
          "annotationdefaults": {
           "arrowcolor": "#2a3f5f",
           "arrowhead": 0,
           "arrowwidth": 1
          },
          "autotypenumbers": "strict",
          "coloraxis": {
           "colorbar": {
            "outlinewidth": 0,
            "ticks": ""
           }
          },
          "colorscale": {
           "diverging": [
            [
             0,
             "#8e0152"
            ],
            [
             0.1,
             "#c51b7d"
            ],
            [
             0.2,
             "#de77ae"
            ],
            [
             0.3,
             "#f1b6da"
            ],
            [
             0.4,
             "#fde0ef"
            ],
            [
             0.5,
             "#f7f7f7"
            ],
            [
             0.6,
             "#e6f5d0"
            ],
            [
             0.7,
             "#b8e186"
            ],
            [
             0.8,
             "#7fbc41"
            ],
            [
             0.9,
             "#4d9221"
            ],
            [
             1,
             "#276419"
            ]
           ],
           "sequential": [
            [
             0,
             "#0d0887"
            ],
            [
             0.1111111111111111,
             "#46039f"
            ],
            [
             0.2222222222222222,
             "#7201a8"
            ],
            [
             0.3333333333333333,
             "#9c179e"
            ],
            [
             0.4444444444444444,
             "#bd3786"
            ],
            [
             0.5555555555555556,
             "#d8576b"
            ],
            [
             0.6666666666666666,
             "#ed7953"
            ],
            [
             0.7777777777777778,
             "#fb9f3a"
            ],
            [
             0.8888888888888888,
             "#fdca26"
            ],
            [
             1,
             "#f0f921"
            ]
           ],
           "sequentialminus": [
            [
             0,
             "#0d0887"
            ],
            [
             0.1111111111111111,
             "#46039f"
            ],
            [
             0.2222222222222222,
             "#7201a8"
            ],
            [
             0.3333333333333333,
             "#9c179e"
            ],
            [
             0.4444444444444444,
             "#bd3786"
            ],
            [
             0.5555555555555556,
             "#d8576b"
            ],
            [
             0.6666666666666666,
             "#ed7953"
            ],
            [
             0.7777777777777778,
             "#fb9f3a"
            ],
            [
             0.8888888888888888,
             "#fdca26"
            ],
            [
             1,
             "#f0f921"
            ]
           ]
          },
          "colorway": [
           "#636efa",
           "#EF553B",
           "#00cc96",
           "#ab63fa",
           "#FFA15A",
           "#19d3f3",
           "#FF6692",
           "#B6E880",
           "#FF97FF",
           "#FECB52"
          ],
          "font": {
           "color": "#2a3f5f"
          },
          "geo": {
           "bgcolor": "white",
           "lakecolor": "white",
           "landcolor": "#E5ECF6",
           "showlakes": true,
           "showland": true,
           "subunitcolor": "white"
          },
          "hoverlabel": {
           "align": "left"
          },
          "hovermode": "closest",
          "mapbox": {
           "style": "light"
          },
          "paper_bgcolor": "white",
          "plot_bgcolor": "#E5ECF6",
          "polar": {
           "angularaxis": {
            "gridcolor": "white",
            "linecolor": "white",
            "ticks": ""
           },
           "bgcolor": "#E5ECF6",
           "radialaxis": {
            "gridcolor": "white",
            "linecolor": "white",
            "ticks": ""
           }
          },
          "scene": {
           "xaxis": {
            "backgroundcolor": "#E5ECF6",
            "gridcolor": "white",
            "gridwidth": 2,
            "linecolor": "white",
            "showbackground": true,
            "ticks": "",
            "zerolinecolor": "white"
           },
           "yaxis": {
            "backgroundcolor": "#E5ECF6",
            "gridcolor": "white",
            "gridwidth": 2,
            "linecolor": "white",
            "showbackground": true,
            "ticks": "",
            "zerolinecolor": "white"
           },
           "zaxis": {
            "backgroundcolor": "#E5ECF6",
            "gridcolor": "white",
            "gridwidth": 2,
            "linecolor": "white",
            "showbackground": true,
            "ticks": "",
            "zerolinecolor": "white"
           }
          },
          "shapedefaults": {
           "line": {
            "color": "#2a3f5f"
           }
          },
          "ternary": {
           "aaxis": {
            "gridcolor": "white",
            "linecolor": "white",
            "ticks": ""
           },
           "baxis": {
            "gridcolor": "white",
            "linecolor": "white",
            "ticks": ""
           },
           "bgcolor": "#E5ECF6",
           "caxis": {
            "gridcolor": "white",
            "linecolor": "white",
            "ticks": ""
           }
          },
          "title": {
           "x": 0.05
          },
          "xaxis": {
           "automargin": true,
           "gridcolor": "white",
           "linecolor": "white",
           "ticks": "",
           "title": {
            "standoff": 15
           },
           "zerolinecolor": "white",
           "zerolinewidth": 2
          },
          "yaxis": {
           "automargin": true,
           "gridcolor": "white",
           "linecolor": "white",
           "ticks": "",
           "title": {
            "standoff": 15
           },
           "zerolinecolor": "white",
           "zerolinewidth": 2
          }
         }
        },
        "title": {
         "text": "Technology-wise Distribution",
         "x": 0.4
        }
       }
      }
     },
     "metadata": {},
     "output_type": "display_data"
    },
    {
     "name": "stderr",
     "output_type": "stream",
     "text": [
      "127.0.0.1 - - [15/Mar/2022 19:57:43] \"POST /_dash-update-component HTTP/1.1\" 200 -\n",
      "127.0.0.1 - - [15/Mar/2022 19:57:43] \"POST /_dash-update-component HTTP/1.1\" 200 -\n",
      "127.0.0.1 - - [15/Mar/2022 19:58:06] \"POST /_dash-update-component HTTP/1.1\" 200 -\n",
      "127.0.0.1 - - [15/Mar/2022 19:58:16] \"POST /_dash-update-component HTTP/1.1\" 200 -\n"
     ]
    }
   ],
   "source": [
    "import pandas as pd\n",
    "import numpy as np\n",
    "import plotly.express as px\n",
    "import plotly.graph_objs as go\n",
    "import dash\n",
    "import dash_html_components as html\n",
    "import dash_core_components as dcc\n",
    "from dash.dependencies import Input, Output, State\n",
    "import dash_bootstrap_components as dbc\n",
    "from dash import no_update\n",
    "from plotly.subplots import make_subplots\n",
    "app = dash.Dash(\n",
    "    external_stylesheets=[dbc.themes.BOOTSTRAP])\n",
    "\n",
    "\n",
    "tech_list=all_india_data['Type Of Station'].unique()\n",
    "tech_list=tech_list[:-1]\n",
    "state_list=all_india_data['State_name_x'].unique()\n",
    "\n",
    "app.layout=dbc.Container([\n",
    "    dbc.Row(\n",
    "        dbc.Col(html.H1(\"Energy Dashboard\",\n",
    "                        className='text-center text-primary mb-4'),\n",
    "                width=12,style={\"background-color\": \"orange\"})\n",
    "    ),\n",
    "\n",
    "    dbc.Row([\n",
    "\n",
    "        dbc.Col([\n",
    "            dcc.Dropdown(id='my-dpdn', multi=False, value='Thermal',placeholder=\"Select fuel type\",\n",
    "                         options=[{'label':x, 'value':x}\n",
    "                                  for x in tech_list],style={\"background-color\": \"pink\"}\n",
    "                         )\n",
    "        ],width=6\n",
    "        ), \n",
    "\n",
    "        dbc.Col([\n",
    "            dcc.Dropdown(id='my-dpdn2', multi=False, value='Jharkhand',placeholder=\"Select state\",style={\"background-color\": \"pink\"},\n",
    "                         options=[{'label':x, 'value':x}\n",
    "                                  for x in state_list],\n",
    "                         )\n",
    "            \n",
    "\n",
    "            ],width=6\n",
    "            ),\n",
    "\n",
    "\n",
    "            \n",
    "\n",
    "    ]),  # Horizontal:start,center,end,between,around\n",
    "\n",
    "    dbc.Row([\n",
    "\n",
    "        dbc.Col([\n",
    "            dcc.Graph(id='map-fig', figure={\n",
    "           })\n",
    "        ],width=6,xs=12, sm=12, md=12, lg=6, xl=6\n",
    "        ), \n",
    "\n",
    "        dbc.Col([\n",
    "            dcc.Graph(id='pie1-fig', figure={\n",
    "               })\n",
    "            ],width=3,xs=12, sm=12, md=12, lg=3, xl=3\n",
    "            ),\n",
    "        dbc.Col([\n",
    "            dcc.Graph(id='pie2-fig', figure={\n",
    "                })\n",
    "            \n",
    "\n",
    "            ],width=3,xs=12, sm=12, md=12, lg=3, xl=3\n",
    "            )\n",
    "\n",
    "\n",
    "            \n",
    "\n",
    "    ]),\n",
    "\n",
    "    dbc.Row([\n",
    "            \n",
    "            dcc.Graph(id='merit_order', figure={}),\n",
    "        ]\n",
    "        # , #width={'size':5, 'offset':1},\n",
    "        #    xs=12, sm=12, md=12, lg=5, xl=5\n",
    "        ),\n",
    "\n",
    "],fluid=True,style={\"background-color\": \"pink\"})\n",
    "\n",
    "\n",
    "# Callback section: connecting the components\n",
    "# ************************************************************************\n",
    "# Line chart - Single\n",
    "@app.callback(\n",
    "    Output('map-fig', 'figure'),\n",
    "    Input('my-dpdn', 'value')\n",
    ")\n",
    "def update_graph(fuel_slctd):\n",
    "    dff=all_india_data[all_india_data['Type Of Station']==fuel_slctd]\n",
    "    map_data=dff.groupby('State_name_x')['Capacity Allocated to State (MW)'].sum().reset_index()\n",
    "    map_data=df2.merge(map_data,left_on='State',right_on='State_name_x',how='outer')\n",
    "    map_data['Capacity Allocated to State (MW)'].fillna(0,inplace=True)\n",
    "    \n",
    "    fig=px.choropleth(map_data,  # Input data\n",
    "                    locations='State',\n",
    "                    color='Capacity Allocated to State (MW)',  \n",
    "                    hover_name='State',\n",
    "                    hover_data={'Capacity Allocated to State (MW)':':.2f'},\n",
    "                    scope='asia',\n",
    "                    geojson=\"https://gist.githubusercontent.com/jbrobst/56c13bbbf9d97d187fea01ca62ea5112/raw/e388c4cae20aa53cb5090210a42ebb9b765c0a36/india_states.geojson\",\n",
    "                    featureidkey='properties.ST_NM',\n",
    "                    )\n",
    "    fig.update_geos(fitbounds='locations',visible=False)\n",
    "    fig.update_layout(geo=dict(bgcolor= 'pink'),plot_bgcolor='pink',paper_bgcolor='pink',font={'color':'black'},title_text='Technology-wise Distribution', title_x=0.4,)\n",
    "    fig.show()\n",
    "    return fig\n",
    "\n",
    "\n",
    "# Line chart - multiple\n",
    "@app.callback(\n",
    "    Output('pie1-fig', 'figure'),\n",
    "    Output('pie2-fig', 'figure'),\n",
    "    Output('merit_order', 'figure'),\n",
    "    Input('my-dpdn2', 'value')\n",
    ")\n",
    "def update_graph(state_slctd):\n",
    "    dff=all_india_data[all_india_data['State_name_x']==state_slctd]\n",
    "    station_data=dff.groupby('Type Of Station')['Capacity Allocated to State (MW)'].sum().reset_index()\n",
    "    owner_data=dff.groupby('Ownership')['Capacity Allocated to State (MW)'].sum().reset_index()\n",
    "    merit=dff.sort_values(by=['must_run_status','Variable Cost (Rs/Unit)'],axis=0,ascending=[True,True])\n",
    "    fig1= px.pie(data_frame=station_data, values='Capacity Allocated to State (MW)', names='Type Of Station')\n",
    "    fig1.update_layout(title_text='% of Capacity allocated by Fuel type', title_x=0.5,plot_bgcolor='pink',paper_bgcolor='pink',font={'color':'black'})\n",
    "    fig2= px.pie(data_frame=owner_data, values='Capacity Allocated to State (MW)', names='Ownership')\n",
    "    fig2.update_layout(title_text='% of Capacity allocated by Owner', title_x=0.5,plot_bgcolor='pink',paper_bgcolor='pink',font={'color':'black'})\n",
    "    fig3 = px.bar(merit, x='Station', y='Variable Cost (Rs/Unit)',color='must_run',hover_data=['must_run','Capacity Allocated to State (MW)'])\n",
    "    fig3.update_layout(title_text='Merit Order of {i}'.format(i=state_slctd), title_x=0.5,height=600,plot_bgcolor='pink',paper_bgcolor='pink',font={'color':'black','size':15})\n",
    "    return (fig1,fig2,fig3)\n",
    "\n",
    "\n",
    "\n",
    "\n",
    "\n",
    "if __name__=='__main__':\n",
    "    app.run_server()\n"
   ]
  },
  {
   "cell_type": "code",
   "execution_count": 125,
   "metadata": {},
   "outputs": [],
   "source": [
    "india_json=pd.read_json(\"https://gist.githubusercontent.com/jbrobst/56c13bbbf9d97d187fea01ca62ea5112/raw/e388c4cae20aa53cb5090210a42ebb9b765c0a36/india_states.geojson\")"
   ]
  },
  {
   "cell_type": "code",
   "execution_count": 37,
   "metadata": {},
   "outputs": [],
   "source": [
    "india_json.to_json(\"use_india_json.geojson\")"
   ]
  },
  {
   "cell_type": "code",
   "execution_count": 89,
   "metadata": {},
   "outputs": [],
   "source": [
    "map_data=all_india_data.groupby('State_name_x')['Capacity Allocated to State (MW)'].sum().reset_index()\n",
    "map_data=df2.merge(map_data,left_on='State',right_on='State_name_x',how='outer')"
   ]
  },
  {
   "cell_type": "code",
   "execution_count": 90,
   "metadata": {},
   "outputs": [],
   "source": [
    "map_data['Capacity Allocated to State (MW)'].fillna(0,inplace=True)"
   ]
  },
  {
   "cell_type": "code",
   "execution_count": 91,
   "metadata": {},
   "outputs": [
    {
     "data": {
      "text/html": [
       "<div>\n",
       "<style scoped>\n",
       "    .dataframe tbody tr th:only-of-type {\n",
       "        vertical-align: middle;\n",
       "    }\n",
       "\n",
       "    .dataframe tbody tr th {\n",
       "        vertical-align: top;\n",
       "    }\n",
       "\n",
       "    .dataframe thead th {\n",
       "        text-align: right;\n",
       "    }\n",
       "</style>\n",
       "<table border=\"1\" class=\"dataframe\">\n",
       "  <thead>\n",
       "    <tr style=\"text-align: right;\">\n",
       "      <th></th>\n",
       "      <th>S.NO.</th>\n",
       "      <th>State</th>\n",
       "      <th>State_name_x</th>\n",
       "      <th>Capacity Allocated to State (MW)</th>\n",
       "    </tr>\n",
       "  </thead>\n",
       "  <tbody>\n",
       "    <tr>\n",
       "      <th>0</th>\n",
       "      <td>1.0</td>\n",
       "      <td>Andaman &amp; Nicobar</td>\n",
       "      <td>NaN</td>\n",
       "      <td>0.0</td>\n",
       "    </tr>\n",
       "    <tr>\n",
       "      <th>1</th>\n",
       "      <td>2.0</td>\n",
       "      <td>Andhra Pradesh</td>\n",
       "      <td>Andhra Pradesh</td>\n",
       "      <td>13937.0</td>\n",
       "    </tr>\n",
       "    <tr>\n",
       "      <th>2</th>\n",
       "      <td>3.0</td>\n",
       "      <td>Arunachal Pradesh</td>\n",
       "      <td>Arunachal Pradesh</td>\n",
       "      <td>160.0</td>\n",
       "    </tr>\n",
       "    <tr>\n",
       "      <th>3</th>\n",
       "      <td>4.0</td>\n",
       "      <td>Assam</td>\n",
       "      <td>Assam</td>\n",
       "      <td>1502.0</td>\n",
       "    </tr>\n",
       "    <tr>\n",
       "      <th>4</th>\n",
       "      <td>5.0</td>\n",
       "      <td>Bihar</td>\n",
       "      <td>Bihar</td>\n",
       "      <td>4885.0</td>\n",
       "    </tr>\n",
       "    <tr>\n",
       "      <th>5</th>\n",
       "      <td>6.0</td>\n",
       "      <td>Chandigarh</td>\n",
       "      <td>Chandigarh</td>\n",
       "      <td>412.0</td>\n",
       "    </tr>\n",
       "    <tr>\n",
       "      <th>6</th>\n",
       "      <td>7.0</td>\n",
       "      <td>Chhattisgarh</td>\n",
       "      <td>Chhattisgarh</td>\n",
       "      <td>5557.0</td>\n",
       "    </tr>\n",
       "    <tr>\n",
       "      <th>7</th>\n",
       "      <td>8.0</td>\n",
       "      <td>Dadra &amp; Nagar Haveli</td>\n",
       "      <td>NaN</td>\n",
       "      <td>0.0</td>\n",
       "    </tr>\n",
       "    <tr>\n",
       "      <th>8</th>\n",
       "      <td>9.0</td>\n",
       "      <td>Daman &amp; Diu</td>\n",
       "      <td>NaN</td>\n",
       "      <td>0.0</td>\n",
       "    </tr>\n",
       "    <tr>\n",
       "      <th>9</th>\n",
       "      <td>10.0</td>\n",
       "      <td>Delhi</td>\n",
       "      <td>Delhi</td>\n",
       "      <td>5492.0</td>\n",
       "    </tr>\n",
       "    <tr>\n",
       "      <th>10</th>\n",
       "      <td>11.0</td>\n",
       "      <td>Goa</td>\n",
       "      <td>Goa</td>\n",
       "      <td>614.0</td>\n",
       "    </tr>\n",
       "    <tr>\n",
       "      <th>11</th>\n",
       "      <td>12.0</td>\n",
       "      <td>Gujarat</td>\n",
       "      <td>Gujarat</td>\n",
       "      <td>34419.0</td>\n",
       "    </tr>\n",
       "    <tr>\n",
       "      <th>12</th>\n",
       "      <td>13.0</td>\n",
       "      <td>Haryana</td>\n",
       "      <td>Haryana</td>\n",
       "      <td>18255.0</td>\n",
       "    </tr>\n",
       "    <tr>\n",
       "      <th>13</th>\n",
       "      <td>14.0</td>\n",
       "      <td>Himachal Pradesh</td>\n",
       "      <td>Himachal Pradesh</td>\n",
       "      <td>2042.0</td>\n",
       "    </tr>\n",
       "    <tr>\n",
       "      <th>14</th>\n",
       "      <td>15.0</td>\n",
       "      <td>Jammu &amp; Kashmir</td>\n",
       "      <td>Jammu &amp; Kashmir</td>\n",
       "      <td>3363.0</td>\n",
       "    </tr>\n",
       "    <tr>\n",
       "      <th>15</th>\n",
       "      <td>16.0</td>\n",
       "      <td>Jharkhand</td>\n",
       "      <td>Jharkhand</td>\n",
       "      <td>1176.0</td>\n",
       "    </tr>\n",
       "    <tr>\n",
       "      <th>16</th>\n",
       "      <td>17.0</td>\n",
       "      <td>Karnataka</td>\n",
       "      <td>Karnataka</td>\n",
       "      <td>12660.0</td>\n",
       "    </tr>\n",
       "    <tr>\n",
       "      <th>17</th>\n",
       "      <td>18.0</td>\n",
       "      <td>Kerala</td>\n",
       "      <td>Kerala</td>\n",
       "      <td>2759.0</td>\n",
       "    </tr>\n",
       "    <tr>\n",
       "      <th>18</th>\n",
       "      <td>19.0</td>\n",
       "      <td>Lakshadweep</td>\n",
       "      <td>NaN</td>\n",
       "      <td>0.0</td>\n",
       "    </tr>\n",
       "    <tr>\n",
       "      <th>19</th>\n",
       "      <td>20.0</td>\n",
       "      <td>Madhya Pradesh</td>\n",
       "      <td>Madhya Pradesh</td>\n",
       "      <td>17122.0</td>\n",
       "    </tr>\n",
       "    <tr>\n",
       "      <th>20</th>\n",
       "      <td>21.0</td>\n",
       "      <td>Maharashtra</td>\n",
       "      <td>Maharashtra</td>\n",
       "      <td>34051.0</td>\n",
       "    </tr>\n",
       "    <tr>\n",
       "      <th>21</th>\n",
       "      <td>22.0</td>\n",
       "      <td>Manipur</td>\n",
       "      <td>Manipur</td>\n",
       "      <td>200.0</td>\n",
       "    </tr>\n",
       "    <tr>\n",
       "      <th>22</th>\n",
       "      <td>23.0</td>\n",
       "      <td>Meghalaya</td>\n",
       "      <td>Meghalaya</td>\n",
       "      <td>607.0</td>\n",
       "    </tr>\n",
       "    <tr>\n",
       "      <th>23</th>\n",
       "      <td>24.0</td>\n",
       "      <td>Mizoram</td>\n",
       "      <td>Mizoram</td>\n",
       "      <td>109.0</td>\n",
       "    </tr>\n",
       "    <tr>\n",
       "      <th>24</th>\n",
       "      <td>25.0</td>\n",
       "      <td>Nagaland</td>\n",
       "      <td>Nagaland</td>\n",
       "      <td>154.0</td>\n",
       "    </tr>\n",
       "    <tr>\n",
       "      <th>25</th>\n",
       "      <td>26.0</td>\n",
       "      <td>Odisha</td>\n",
       "      <td>Odisha</td>\n",
       "      <td>7133.0</td>\n",
       "    </tr>\n",
       "    <tr>\n",
       "      <th>26</th>\n",
       "      <td>27.0</td>\n",
       "      <td>Puducherry</td>\n",
       "      <td>Puducherry</td>\n",
       "      <td>543.0</td>\n",
       "    </tr>\n",
       "    <tr>\n",
       "      <th>27</th>\n",
       "      <td>28.0</td>\n",
       "      <td>Punjab</td>\n",
       "      <td>Punjab</td>\n",
       "      <td>10848.0</td>\n",
       "    </tr>\n",
       "    <tr>\n",
       "      <th>28</th>\n",
       "      <td>29.0</td>\n",
       "      <td>Rajasthan</td>\n",
       "      <td>Rajasthan</td>\n",
       "      <td>22359.0</td>\n",
       "    </tr>\n",
       "    <tr>\n",
       "      <th>29</th>\n",
       "      <td>30.0</td>\n",
       "      <td>Sikkim</td>\n",
       "      <td>Sikkim</td>\n",
       "      <td>185.0</td>\n",
       "    </tr>\n",
       "    <tr>\n",
       "      <th>30</th>\n",
       "      <td>31.0</td>\n",
       "      <td>Tamil Nadu</td>\n",
       "      <td>Tamil Nadu</td>\n",
       "      <td>27074.0</td>\n",
       "    </tr>\n",
       "    <tr>\n",
       "      <th>31</th>\n",
       "      <td>32.0</td>\n",
       "      <td>Telangana</td>\n",
       "      <td>Telangana</td>\n",
       "      <td>15418.0</td>\n",
       "    </tr>\n",
       "    <tr>\n",
       "      <th>32</th>\n",
       "      <td>33.0</td>\n",
       "      <td>Tripura</td>\n",
       "      <td>Tripura</td>\n",
       "      <td>426.0</td>\n",
       "    </tr>\n",
       "    <tr>\n",
       "      <th>33</th>\n",
       "      <td>34.0</td>\n",
       "      <td>Uttar Pradesh</td>\n",
       "      <td>Uttar Pradesh</td>\n",
       "      <td>25291.0</td>\n",
       "    </tr>\n",
       "    <tr>\n",
       "      <th>34</th>\n",
       "      <td>35.0</td>\n",
       "      <td>Uttarakhand</td>\n",
       "      <td>Uttarakhand</td>\n",
       "      <td>3075.0</td>\n",
       "    </tr>\n",
       "    <tr>\n",
       "      <th>35</th>\n",
       "      <td>36.0</td>\n",
       "      <td>West Bengal</td>\n",
       "      <td>West Bengal</td>\n",
       "      <td>10626.0</td>\n",
       "    </tr>\n",
       "    <tr>\n",
       "      <th>36</th>\n",
       "      <td>37.0</td>\n",
       "      <td>Ladakh</td>\n",
       "      <td>NaN</td>\n",
       "      <td>0.0</td>\n",
       "    </tr>\n",
       "    <tr>\n",
       "      <th>37</th>\n",
       "      <td>NaN</td>\n",
       "      <td>NaN</td>\n",
       "      <td>Dadra and Nagar Haveli</td>\n",
       "      <td>1253.0</td>\n",
       "    </tr>\n",
       "    <tr>\n",
       "      <th>38</th>\n",
       "      <td>NaN</td>\n",
       "      <td>NaN</td>\n",
       "      <td>Daman and Diu</td>\n",
       "      <td>536.0</td>\n",
       "    </tr>\n",
       "  </tbody>\n",
       "</table>\n",
       "</div>"
      ],
      "text/plain": [
       "    S.NO.                 State            State_name_x  \\\n",
       "0     1.0     Andaman & Nicobar                     NaN   \n",
       "1     2.0        Andhra Pradesh          Andhra Pradesh   \n",
       "2     3.0     Arunachal Pradesh       Arunachal Pradesh   \n",
       "3     4.0                 Assam                   Assam   \n",
       "4     5.0                 Bihar                   Bihar   \n",
       "5     6.0            Chandigarh              Chandigarh   \n",
       "6     7.0          Chhattisgarh            Chhattisgarh   \n",
       "7     8.0  Dadra & Nagar Haveli                     NaN   \n",
       "8     9.0           Daman & Diu                     NaN   \n",
       "9    10.0                 Delhi                   Delhi   \n",
       "10   11.0                   Goa                     Goa   \n",
       "11   12.0               Gujarat                 Gujarat   \n",
       "12   13.0               Haryana                 Haryana   \n",
       "13   14.0      Himachal Pradesh        Himachal Pradesh   \n",
       "14   15.0       Jammu & Kashmir         Jammu & Kashmir   \n",
       "15   16.0             Jharkhand               Jharkhand   \n",
       "16   17.0             Karnataka               Karnataka   \n",
       "17   18.0                Kerala                  Kerala   \n",
       "18   19.0           Lakshadweep                     NaN   \n",
       "19   20.0        Madhya Pradesh          Madhya Pradesh   \n",
       "20   21.0           Maharashtra             Maharashtra   \n",
       "21   22.0               Manipur                 Manipur   \n",
       "22   23.0             Meghalaya               Meghalaya   \n",
       "23   24.0               Mizoram                 Mizoram   \n",
       "24   25.0              Nagaland                Nagaland   \n",
       "25   26.0                Odisha                  Odisha   \n",
       "26   27.0            Puducherry              Puducherry   \n",
       "27   28.0                Punjab                  Punjab   \n",
       "28   29.0             Rajasthan               Rajasthan   \n",
       "29   30.0                Sikkim                  Sikkim   \n",
       "30   31.0            Tamil Nadu              Tamil Nadu   \n",
       "31   32.0             Telangana               Telangana   \n",
       "32   33.0               Tripura                 Tripura   \n",
       "33   34.0         Uttar Pradesh           Uttar Pradesh   \n",
       "34   35.0           Uttarakhand             Uttarakhand   \n",
       "35   36.0           West Bengal             West Bengal   \n",
       "36   37.0                Ladakh                     NaN   \n",
       "37    NaN                   NaN  Dadra and Nagar Haveli   \n",
       "38    NaN                   NaN           Daman and Diu   \n",
       "\n",
       "    Capacity Allocated to State (MW)  \n",
       "0                                0.0  \n",
       "1                            13937.0  \n",
       "2                              160.0  \n",
       "3                             1502.0  \n",
       "4                             4885.0  \n",
       "5                              412.0  \n",
       "6                             5557.0  \n",
       "7                                0.0  \n",
       "8                                0.0  \n",
       "9                             5492.0  \n",
       "10                             614.0  \n",
       "11                           34419.0  \n",
       "12                           18255.0  \n",
       "13                            2042.0  \n",
       "14                            3363.0  \n",
       "15                            1176.0  \n",
       "16                           12660.0  \n",
       "17                            2759.0  \n",
       "18                               0.0  \n",
       "19                           17122.0  \n",
       "20                           34051.0  \n",
       "21                             200.0  \n",
       "22                             607.0  \n",
       "23                             109.0  \n",
       "24                             154.0  \n",
       "25                            7133.0  \n",
       "26                             543.0  \n",
       "27                           10848.0  \n",
       "28                           22359.0  \n",
       "29                             185.0  \n",
       "30                           27074.0  \n",
       "31                           15418.0  \n",
       "32                             426.0  \n",
       "33                           25291.0  \n",
       "34                            3075.0  \n",
       "35                           10626.0  \n",
       "36                               0.0  \n",
       "37                            1253.0  \n",
       "38                             536.0  "
      ]
     },
     "execution_count": 91,
     "metadata": {},
     "output_type": "execute_result"
    }
   ],
   "source": [
    "map_data"
   ]
  },
  {
   "cell_type": "code",
   "execution_count": 94,
   "metadata": {},
   "outputs": [],
   "source": [
    "x=all_india_data['Type Of Station'].unique()"
   ]
  },
  {
   "cell_type": "code",
   "execution_count": 98,
   "metadata": {},
   "outputs": [
    {
     "data": {
      "text/html": [
       "<div>\n",
       "<style scoped>\n",
       "    .dataframe tbody tr th:only-of-type {\n",
       "        vertical-align: middle;\n",
       "    }\n",
       "\n",
       "    .dataframe tbody tr th {\n",
       "        vertical-align: top;\n",
       "    }\n",
       "\n",
       "    .dataframe thead th {\n",
       "        text-align: right;\n",
       "    }\n",
       "</style>\n",
       "<table border=\"1\" class=\"dataframe\">\n",
       "  <thead>\n",
       "    <tr style=\"text-align: right;\">\n",
       "      <th></th>\n",
       "      <th>Station</th>\n",
       "      <th>Capacity Allocated to State (MW)</th>\n",
       "      <th>Plant Capacity (MW)</th>\n",
       "      <th>Type Of Station</th>\n",
       "      <th>Ownership</th>\n",
       "      <th>Variable Cost (Rs/Unit)</th>\n",
       "      <th>Fixed Cost (Rs/Unit)</th>\n",
       "      <th>Total Cost (Rs/Unit)</th>\n",
       "      <th>Declared Capability (MWh)</th>\n",
       "      <th>Schedule (MWh)</th>\n",
       "      <th>Deviation from Merit Order (MWh)</th>\n",
       "      <th>Reason for Deviation / Remarks(if any)</th>\n",
       "      <th>state</th>\n",
       "      <th>State_name_x</th>\n",
       "      <th>State_code_x</th>\n",
       "      <th>must_run</th>\n",
       "      <th>State_name_y</th>\n",
       "      <th>State_code_y</th>\n",
       "    </tr>\n",
       "  </thead>\n",
       "  <tbody>\n",
       "    <tr>\n",
       "      <th>666</th>\n",
       "      <td>NTPC DARIPALI</td>\n",
       "      <td>74.0</td>\n",
       "      <td>1600.0</td>\n",
       "      <td>Thermal</td>\n",
       "      <td>Central ISGS</td>\n",
       "      <td>1.11</td>\n",
       "      <td>2.41</td>\n",
       "      <td>3.52</td>\n",
       "      <td>1578.0</td>\n",
       "      <td>1521.0</td>\n",
       "      <td>0.0</td>\n",
       "      <td>0</td>\n",
       "      <td>JHK</td>\n",
       "      <td>Jharkhand</td>\n",
       "      <td>JHK</td>\n",
       "      <td>non_must_run</td>\n",
       "      <td>Jharkhand</td>\n",
       "      <td>JHK</td>\n",
       "    </tr>\n",
       "    <tr>\n",
       "      <th>667</th>\n",
       "      <td>TEESTA</td>\n",
       "      <td>63.0</td>\n",
       "      <td>510.0</td>\n",
       "      <td>Hydro</td>\n",
       "      <td>Central ISGS</td>\n",
       "      <td>1.16</td>\n",
       "      <td>1.06</td>\n",
       "      <td>2.22</td>\n",
       "      <td>414.0</td>\n",
       "      <td>398.0</td>\n",
       "      <td>0.0</td>\n",
       "      <td>0</td>\n",
       "      <td>JHK</td>\n",
       "      <td>Jharkhand</td>\n",
       "      <td>JHK</td>\n",
       "      <td>must_run</td>\n",
       "      <td>Jharkhand</td>\n",
       "      <td>JHK</td>\n",
       "    </tr>\n",
       "    <tr>\n",
       "      <th>668</th>\n",
       "      <td>KORBA UNIT 7</td>\n",
       "      <td>0.0</td>\n",
       "      <td>500.0</td>\n",
       "      <td>Thermal</td>\n",
       "      <td>State Generation</td>\n",
       "      <td>1.34</td>\n",
       "      <td>1.50</td>\n",
       "      <td>2.84</td>\n",
       "      <td>1125.0</td>\n",
       "      <td>1084.0</td>\n",
       "      <td>0.0</td>\n",
       "      <td>0</td>\n",
       "      <td>JHK</td>\n",
       "      <td>Jharkhand</td>\n",
       "      <td>JHK</td>\n",
       "      <td>non_must_run</td>\n",
       "      <td>Jharkhand</td>\n",
       "      <td>JHK</td>\n",
       "    </tr>\n",
       "    <tr>\n",
       "      <th>669</th>\n",
       "      <td>RANGEET</td>\n",
       "      <td>4.0</td>\n",
       "      <td>60.0</td>\n",
       "      <td>Hydro</td>\n",
       "      <td>Central ISGS</td>\n",
       "      <td>1.91</td>\n",
       "      <td>1.94</td>\n",
       "      <td>3.85</td>\n",
       "      <td>57.0</td>\n",
       "      <td>5.0</td>\n",
       "      <td>0.0</td>\n",
       "      <td>0</td>\n",
       "      <td>JHK</td>\n",
       "      <td>Jharkhand</td>\n",
       "      <td>JHK</td>\n",
       "      <td>must_run</td>\n",
       "      <td>Jharkhand</td>\n",
       "      <td>JHK</td>\n",
       "    </tr>\n",
       "    <tr>\n",
       "      <th>670</th>\n",
       "      <td>TALCHER</td>\n",
       "      <td>89.0</td>\n",
       "      <td>1000.0</td>\n",
       "      <td>Thermal</td>\n",
       "      <td>Central ISGS</td>\n",
       "      <td>2.04</td>\n",
       "      <td>1.02</td>\n",
       "      <td>3.06</td>\n",
       "      <td>1711.0</td>\n",
       "      <td>1648.0</td>\n",
       "      <td>0.0</td>\n",
       "      <td>0</td>\n",
       "      <td>JHK</td>\n",
       "      <td>Jharkhand</td>\n",
       "      <td>JHK</td>\n",
       "      <td>non_must_run</td>\n",
       "      <td>Jharkhand</td>\n",
       "      <td>JHK</td>\n",
       "    </tr>\n",
       "    <tr>\n",
       "      <th>671</th>\n",
       "      <td>KAHALGAON-II</td>\n",
       "      <td>46.0</td>\n",
       "      <td>1500.0</td>\n",
       "      <td>Thermal</td>\n",
       "      <td>Central ISGS</td>\n",
       "      <td>2.10</td>\n",
       "      <td>1.38</td>\n",
       "      <td>3.48</td>\n",
       "      <td>281.0</td>\n",
       "      <td>270.0</td>\n",
       "      <td>0.0</td>\n",
       "      <td>0</td>\n",
       "      <td>JHK</td>\n",
       "      <td>Jharkhand</td>\n",
       "      <td>JHK</td>\n",
       "      <td>non_must_run</td>\n",
       "      <td>Jharkhand</td>\n",
       "      <td>JHK</td>\n",
       "    </tr>\n",
       "    <tr>\n",
       "      <th>672</th>\n",
       "      <td>NABINAGAR POWER GENERATING COMPANY</td>\n",
       "      <td>20.0</td>\n",
       "      <td>1980.0</td>\n",
       "      <td>Thermal</td>\n",
       "      <td>State Generation</td>\n",
       "      <td>2.12</td>\n",
       "      <td>2.30</td>\n",
       "      <td>4.42</td>\n",
       "      <td>973.0</td>\n",
       "      <td>937.0</td>\n",
       "      <td>0.0</td>\n",
       "      <td>0</td>\n",
       "      <td>JHK</td>\n",
       "      <td>Jharkhand</td>\n",
       "      <td>JHK</td>\n",
       "      <td>non_must_run</td>\n",
       "      <td>Jharkhand</td>\n",
       "      <td>JHK</td>\n",
       "    </tr>\n",
       "    <tr>\n",
       "      <th>673</th>\n",
       "      <td>TALA</td>\n",
       "      <td>117.0</td>\n",
       "      <td>1020.0</td>\n",
       "      <td>Hydro</td>\n",
       "      <td>Other ISGS</td>\n",
       "      <td>2.16</td>\n",
       "      <td>0.00</td>\n",
       "      <td>2.16</td>\n",
       "      <td>0.0</td>\n",
       "      <td>0.0</td>\n",
       "      <td>0.0</td>\n",
       "      <td>0</td>\n",
       "      <td>JHK</td>\n",
       "      <td>Jharkhand</td>\n",
       "      <td>JHK</td>\n",
       "      <td>must_run</td>\n",
       "      <td>Jharkhand</td>\n",
       "      <td>JHK</td>\n",
       "    </tr>\n",
       "    <tr>\n",
       "      <th>674</th>\n",
       "      <td>KAHALGAON - I</td>\n",
       "      <td>28.0</td>\n",
       "      <td>840.0</td>\n",
       "      <td>Thermal</td>\n",
       "      <td>Central ISGS</td>\n",
       "      <td>2.22</td>\n",
       "      <td>1.18</td>\n",
       "      <td>3.40</td>\n",
       "      <td>588.0</td>\n",
       "      <td>566.0</td>\n",
       "      <td>0.0</td>\n",
       "      <td>0</td>\n",
       "      <td>JHK</td>\n",
       "      <td>Jharkhand</td>\n",
       "      <td>JHK</td>\n",
       "      <td>non_must_run</td>\n",
       "      <td>Jharkhand</td>\n",
       "      <td>JHK</td>\n",
       "    </tr>\n",
       "    <tr>\n",
       "      <th>675</th>\n",
       "      <td>KANTI THERMAL POWER STATION</td>\n",
       "      <td>13.0</td>\n",
       "      <td>195.0</td>\n",
       "      <td>Thermal</td>\n",
       "      <td>State Generation</td>\n",
       "      <td>2.49</td>\n",
       "      <td>2.31</td>\n",
       "      <td>4.80</td>\n",
       "      <td>292.0</td>\n",
       "      <td>281.0</td>\n",
       "      <td>0.0</td>\n",
       "      <td>0</td>\n",
       "      <td>JHK</td>\n",
       "      <td>Jharkhand</td>\n",
       "      <td>JHK</td>\n",
       "      <td>non_must_run</td>\n",
       "      <td>Jharkhand</td>\n",
       "      <td>JHK</td>\n",
       "    </tr>\n",
       "    <tr>\n",
       "      <th>676</th>\n",
       "      <td>BARH STG-II</td>\n",
       "      <td>94.0</td>\n",
       "      <td>1320.0</td>\n",
       "      <td>Thermal</td>\n",
       "      <td>Central ISGS</td>\n",
       "      <td>2.55</td>\n",
       "      <td>2.10</td>\n",
       "      <td>4.65</td>\n",
       "      <td>1578.0</td>\n",
       "      <td>1521.0</td>\n",
       "      <td>0.0</td>\n",
       "      <td>0</td>\n",
       "      <td>JHK</td>\n",
       "      <td>Jharkhand</td>\n",
       "      <td>JHK</td>\n",
       "      <td>non_must_run</td>\n",
       "      <td>Jharkhand</td>\n",
       "      <td>JHK</td>\n",
       "    </tr>\n",
       "    <tr>\n",
       "      <th>677</th>\n",
       "      <td>FARAKKA III</td>\n",
       "      <td>85.0</td>\n",
       "      <td>500.0</td>\n",
       "      <td>Thermal</td>\n",
       "      <td>Central ISGS</td>\n",
       "      <td>2.58</td>\n",
       "      <td>1.67</td>\n",
       "      <td>4.25</td>\n",
       "      <td>1220.0</td>\n",
       "      <td>1175.0</td>\n",
       "      <td>0.0</td>\n",
       "      <td>0</td>\n",
       "      <td>JHK</td>\n",
       "      <td>Jharkhand</td>\n",
       "      <td>JHK</td>\n",
       "      <td>non_must_run</td>\n",
       "      <td>Jharkhand</td>\n",
       "      <td>JHK</td>\n",
       "    </tr>\n",
       "    <tr>\n",
       "      <th>678</th>\n",
       "      <td>FARAKKA</td>\n",
       "      <td>140.0</td>\n",
       "      <td>0.0</td>\n",
       "      <td>Thermal</td>\n",
       "      <td>Central ISGS</td>\n",
       "      <td>2.63</td>\n",
       "      <td>0.86</td>\n",
       "      <td>3.49</td>\n",
       "      <td>3069.0</td>\n",
       "      <td>2957.0</td>\n",
       "      <td>0.0</td>\n",
       "      <td>0</td>\n",
       "      <td>JHK</td>\n",
       "      <td>Jharkhand</td>\n",
       "      <td>JHK</td>\n",
       "      <td>non_must_run</td>\n",
       "      <td>Jharkhand</td>\n",
       "      <td>JHK</td>\n",
       "    </tr>\n",
       "    <tr>\n",
       "      <th>679</th>\n",
       "      <td>TENUGHAT TPS</td>\n",
       "      <td>0.0</td>\n",
       "      <td>420.0</td>\n",
       "      <td>Thermal</td>\n",
       "      <td>State Generation</td>\n",
       "      <td>2.65</td>\n",
       "      <td>1.67</td>\n",
       "      <td>4.32</td>\n",
       "      <td>6650.0</td>\n",
       "      <td>6650.0</td>\n",
       "      <td>0.0</td>\n",
       "      <td>0</td>\n",
       "      <td>JHK</td>\n",
       "      <td>Jharkhand</td>\n",
       "      <td>JHK</td>\n",
       "      <td>non_must_run</td>\n",
       "      <td>Jharkhand</td>\n",
       "      <td>JHK</td>\n",
       "    </tr>\n",
       "    <tr>\n",
       "      <th>680</th>\n",
       "      <td>INLAND POWER LTD.(IPL)</td>\n",
       "      <td>0.0</td>\n",
       "      <td>65.0</td>\n",
       "      <td>Thermal</td>\n",
       "      <td>State Generation</td>\n",
       "      <td>2.74</td>\n",
       "      <td>1.94</td>\n",
       "      <td>4.68</td>\n",
       "      <td>0.0</td>\n",
       "      <td>0.0</td>\n",
       "      <td>0.0</td>\n",
       "      <td>0</td>\n",
       "      <td>JHK</td>\n",
       "      <td>Jharkhand</td>\n",
       "      <td>JHK</td>\n",
       "      <td>non_must_run</td>\n",
       "      <td>Jharkhand</td>\n",
       "      <td>JHK</td>\n",
       "    </tr>\n",
       "    <tr>\n",
       "      <th>681</th>\n",
       "      <td>ADHUNIK POWER AND NATURAL GAS LIMITED (APNRL)</td>\n",
       "      <td>190.0</td>\n",
       "      <td>540.0</td>\n",
       "      <td>Thermal</td>\n",
       "      <td>Other ISGS</td>\n",
       "      <td>2.82</td>\n",
       "      <td>1.36</td>\n",
       "      <td>4.18</td>\n",
       "      <td>3803.0</td>\n",
       "      <td>3802.0</td>\n",
       "      <td>0.0</td>\n",
       "      <td>0</td>\n",
       "      <td>JHK</td>\n",
       "      <td>Jharkhand</td>\n",
       "      <td>JHK</td>\n",
       "      <td>non_must_run</td>\n",
       "      <td>Jharkhand</td>\n",
       "      <td>JHK</td>\n",
       "    </tr>\n",
       "    <tr>\n",
       "      <th>682</th>\n",
       "      <td>ABCIL ,GARHWA</td>\n",
       "      <td>0.0</td>\n",
       "      <td>0.0</td>\n",
       "      <td>Thermal</td>\n",
       "      <td>State Generation</td>\n",
       "      <td>3.96</td>\n",
       "      <td>0.00</td>\n",
       "      <td>3.96</td>\n",
       "      <td>12.0</td>\n",
       "      <td>12.0</td>\n",
       "      <td>0.0</td>\n",
       "      <td>0</td>\n",
       "      <td>JHK</td>\n",
       "      <td>Jharkhand</td>\n",
       "      <td>JHK</td>\n",
       "      <td>non_must_run</td>\n",
       "      <td>Jharkhand</td>\n",
       "      <td>JHK</td>\n",
       "    </tr>\n",
       "    <tr>\n",
       "      <th>683</th>\n",
       "      <td>RUNGTA MINES</td>\n",
       "      <td>0.0</td>\n",
       "      <td>0.0</td>\n",
       "      <td>Thermal</td>\n",
       "      <td>State Generation</td>\n",
       "      <td>3.96</td>\n",
       "      <td>0.00</td>\n",
       "      <td>3.96</td>\n",
       "      <td>12.0</td>\n",
       "      <td>12.0</td>\n",
       "      <td>0.0</td>\n",
       "      <td>0</td>\n",
       "      <td>JHK</td>\n",
       "      <td>Jharkhand</td>\n",
       "      <td>JHK</td>\n",
       "      <td>non_must_run</td>\n",
       "      <td>Jharkhand</td>\n",
       "      <td>JHK</td>\n",
       "    </tr>\n",
       "    <tr>\n",
       "      <th>684</th>\n",
       "      <td>BARH STAGE I</td>\n",
       "      <td>213.0</td>\n",
       "      <td>1980.0</td>\n",
       "      <td>Thermal</td>\n",
       "      <td>State Generation</td>\n",
       "      <td>0.00</td>\n",
       "      <td>0.00</td>\n",
       "      <td>0.00</td>\n",
       "      <td>1782.0</td>\n",
       "      <td>1717.0</td>\n",
       "      <td>0.0</td>\n",
       "      <td>0</td>\n",
       "      <td>JHK</td>\n",
       "      <td>Jharkhand</td>\n",
       "      <td>JHK</td>\n",
       "      <td>non_must_run</td>\n",
       "      <td>Jharkhand</td>\n",
       "      <td>JHK</td>\n",
       "    </tr>\n",
       "  </tbody>\n",
       "</table>\n",
       "</div>"
      ],
      "text/plain": [
       "                                           Station  \\\n",
       "666                                  NTPC DARIPALI   \n",
       "667                                         TEESTA   \n",
       "668                                   KORBA UNIT 7   \n",
       "669                                        RANGEET   \n",
       "670                                        TALCHER   \n",
       "671                                   KAHALGAON-II   \n",
       "672             NABINAGAR POWER GENERATING COMPANY   \n",
       "673                                           TALA   \n",
       "674                                  KAHALGAON - I   \n",
       "675                    KANTI THERMAL POWER STATION   \n",
       "676                                    BARH STG-II   \n",
       "677                                    FARAKKA III   \n",
       "678                                        FARAKKA   \n",
       "679                                   TENUGHAT TPS   \n",
       "680                         INLAND POWER LTD.(IPL)   \n",
       "681  ADHUNIK POWER AND NATURAL GAS LIMITED (APNRL)   \n",
       "682                                  ABCIL ,GARHWA   \n",
       "683                                   RUNGTA MINES   \n",
       "684                                   BARH STAGE I   \n",
       "\n",
       "     Capacity Allocated to State (MW)  Plant Capacity (MW) Type Of Station  \\\n",
       "666                              74.0               1600.0         Thermal   \n",
       "667                              63.0                510.0           Hydro   \n",
       "668                               0.0                500.0         Thermal   \n",
       "669                               4.0                 60.0           Hydro   \n",
       "670                              89.0               1000.0         Thermal   \n",
       "671                              46.0               1500.0         Thermal   \n",
       "672                              20.0               1980.0         Thermal   \n",
       "673                             117.0               1020.0           Hydro   \n",
       "674                              28.0                840.0         Thermal   \n",
       "675                              13.0                195.0         Thermal   \n",
       "676                              94.0               1320.0         Thermal   \n",
       "677                              85.0                500.0         Thermal   \n",
       "678                             140.0                  0.0         Thermal   \n",
       "679                               0.0                420.0         Thermal   \n",
       "680                               0.0                 65.0         Thermal   \n",
       "681                             190.0                540.0         Thermal   \n",
       "682                               0.0                  0.0         Thermal   \n",
       "683                               0.0                  0.0         Thermal   \n",
       "684                             213.0               1980.0         Thermal   \n",
       "\n",
       "            Ownership  Variable Cost (Rs/Unit)  Fixed Cost (Rs/Unit)  \\\n",
       "666      Central ISGS                     1.11                  2.41   \n",
       "667      Central ISGS                     1.16                  1.06   \n",
       "668  State Generation                     1.34                  1.50   \n",
       "669      Central ISGS                     1.91                  1.94   \n",
       "670      Central ISGS                     2.04                  1.02   \n",
       "671      Central ISGS                     2.10                  1.38   \n",
       "672  State Generation                     2.12                  2.30   \n",
       "673        Other ISGS                     2.16                  0.00   \n",
       "674      Central ISGS                     2.22                  1.18   \n",
       "675  State Generation                     2.49                  2.31   \n",
       "676      Central ISGS                     2.55                  2.10   \n",
       "677      Central ISGS                     2.58                  1.67   \n",
       "678      Central ISGS                     2.63                  0.86   \n",
       "679  State Generation                     2.65                  1.67   \n",
       "680  State Generation                     2.74                  1.94   \n",
       "681        Other ISGS                     2.82                  1.36   \n",
       "682  State Generation                     3.96                  0.00   \n",
       "683  State Generation                     3.96                  0.00   \n",
       "684  State Generation                     0.00                  0.00   \n",
       "\n",
       "     Total Cost (Rs/Unit)  Declared Capability (MWh)  Schedule (MWh)  \\\n",
       "666                  3.52                     1578.0          1521.0   \n",
       "667                  2.22                      414.0           398.0   \n",
       "668                  2.84                     1125.0          1084.0   \n",
       "669                  3.85                       57.0             5.0   \n",
       "670                  3.06                     1711.0          1648.0   \n",
       "671                  3.48                      281.0           270.0   \n",
       "672                  4.42                      973.0           937.0   \n",
       "673                  2.16                        0.0             0.0   \n",
       "674                  3.40                      588.0           566.0   \n",
       "675                  4.80                      292.0           281.0   \n",
       "676                  4.65                     1578.0          1521.0   \n",
       "677                  4.25                     1220.0          1175.0   \n",
       "678                  3.49                     3069.0          2957.0   \n",
       "679                  4.32                     6650.0          6650.0   \n",
       "680                  4.68                        0.0             0.0   \n",
       "681                  4.18                     3803.0          3802.0   \n",
       "682                  3.96                       12.0            12.0   \n",
       "683                  3.96                       12.0            12.0   \n",
       "684                  0.00                     1782.0          1717.0   \n",
       "\n",
       "     Deviation from Merit Order (MWh) Reason for Deviation / Remarks(if any)  \\\n",
       "666                               0.0                                      0   \n",
       "667                               0.0                                      0   \n",
       "668                               0.0                                      0   \n",
       "669                               0.0                                      0   \n",
       "670                               0.0                                      0   \n",
       "671                               0.0                                      0   \n",
       "672                               0.0                                      0   \n",
       "673                               0.0                                      0   \n",
       "674                               0.0                                      0   \n",
       "675                               0.0                                      0   \n",
       "676                               0.0                                      0   \n",
       "677                               0.0                                      0   \n",
       "678                               0.0                                      0   \n",
       "679                               0.0                                      0   \n",
       "680                               0.0                                      0   \n",
       "681                               0.0                                      0   \n",
       "682                               0.0                                      0   \n",
       "683                               0.0                                      0   \n",
       "684                               0.0                                      0   \n",
       "\n",
       "    state State_name_x State_code_x      must_run State_name_y State_code_y  \n",
       "666   JHK    Jharkhand          JHK  non_must_run    Jharkhand          JHK  \n",
       "667   JHK    Jharkhand          JHK      must_run    Jharkhand          JHK  \n",
       "668   JHK    Jharkhand          JHK  non_must_run    Jharkhand          JHK  \n",
       "669   JHK    Jharkhand          JHK      must_run    Jharkhand          JHK  \n",
       "670   JHK    Jharkhand          JHK  non_must_run    Jharkhand          JHK  \n",
       "671   JHK    Jharkhand          JHK  non_must_run    Jharkhand          JHK  \n",
       "672   JHK    Jharkhand          JHK  non_must_run    Jharkhand          JHK  \n",
       "673   JHK    Jharkhand          JHK      must_run    Jharkhand          JHK  \n",
       "674   JHK    Jharkhand          JHK  non_must_run    Jharkhand          JHK  \n",
       "675   JHK    Jharkhand          JHK  non_must_run    Jharkhand          JHK  \n",
       "676   JHK    Jharkhand          JHK  non_must_run    Jharkhand          JHK  \n",
       "677   JHK    Jharkhand          JHK  non_must_run    Jharkhand          JHK  \n",
       "678   JHK    Jharkhand          JHK  non_must_run    Jharkhand          JHK  \n",
       "679   JHK    Jharkhand          JHK  non_must_run    Jharkhand          JHK  \n",
       "680   JHK    Jharkhand          JHK  non_must_run    Jharkhand          JHK  \n",
       "681   JHK    Jharkhand          JHK  non_must_run    Jharkhand          JHK  \n",
       "682   JHK    Jharkhand          JHK  non_must_run    Jharkhand          JHK  \n",
       "683   JHK    Jharkhand          JHK  non_must_run    Jharkhand          JHK  \n",
       "684   JHK    Jharkhand          JHK  non_must_run    Jharkhand          JHK  "
      ]
     },
     "execution_count": 98,
     "metadata": {},
     "output_type": "execute_result"
    }
   ],
   "source": [
    "all_india_data[all_india_data['State_name_x']=='Jharkhand']"
   ]
  },
  {
   "cell_type": "code",
   "execution_count": 96,
   "metadata": {},
   "outputs": [
    {
     "data": {
      "text/plain": [
       "array(['Thermal', 'Gas', 'Nuclear', 'Hydro', 'Renewable'], dtype=object)"
      ]
     },
     "execution_count": 96,
     "metadata": {},
     "output_type": "execute_result"
    }
   ],
   "source": []
  },
  {
   "cell_type": "code",
   "execution_count": null,
   "metadata": {},
   "outputs": [],
   "source": []
  }
 ],
 "metadata": {
  "interpreter": {
   "hash": "1fad7b21e112172dec91b5b510c95671b515bcca1804ad8ffcaf6fda457bb514"
  },
  "kernelspec": {
   "display_name": "Python 3.8.12 ('base')",
   "language": "python",
   "name": "python3"
  },
  "language_info": {
   "codemirror_mode": {
    "name": "ipython",
    "version": 3
   },
   "file_extension": ".py",
   "mimetype": "text/x-python",
   "name": "python",
   "nbconvert_exporter": "python",
   "pygments_lexer": "ipython3",
   "version": "3.8.12"
  },
  "orig_nbformat": 4
 },
 "nbformat": 4,
 "nbformat_minor": 2
}
